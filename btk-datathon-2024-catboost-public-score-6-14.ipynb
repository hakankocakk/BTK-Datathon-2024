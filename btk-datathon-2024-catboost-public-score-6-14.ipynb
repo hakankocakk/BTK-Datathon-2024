{
 "cells": [
  {
   "cell_type": "code",
   "execution_count": 1,
   "id": "6a1b7624",
   "metadata": {
    "_cell_guid": "b1076dfc-b9ad-4769-8c92-a6c4dae69d19",
    "_uuid": "8f2839f25d086af736a60e9eeb907d3b93b6e0e5",
    "execution": {
     "iopub.execute_input": "2024-09-16T14:14:04.019928Z",
     "iopub.status.busy": "2024-09-16T14:14:04.019524Z",
     "iopub.status.idle": "2024-09-16T14:14:04.819470Z",
     "shell.execute_reply": "2024-09-16T14:14:04.818502Z"
    },
    "papermill": {
     "duration": 0.824074,
     "end_time": "2024-09-16T14:14:04.821597",
     "exception": false,
     "start_time": "2024-09-16T14:14:03.997523",
     "status": "completed"
    },
    "tags": []
   },
   "outputs": [
    {
     "name": "stdout",
     "output_type": "stream",
     "text": [
      "/kaggle/input/trkiye-il-ile-listesi/il_ilce.csv\n",
      "/kaggle/input/datathon-2024/sample_submission.csv\n",
      "/kaggle/input/datathon-2024/test_x.csv\n",
      "/kaggle/input/datathon-2024/train.csv\n"
     ]
    }
   ],
   "source": [
    "# This Python 3 environment comes with many helpful analytics libraries installed\n",
    "# It is defined by the kaggle/python Docker image: https://github.com/kaggle/docker-python\n",
    "# For example, here's several helpful packages to load\n",
    "\n",
    "import numpy as np # linear algebra\n",
    "import pandas as pd # data processing, CSV file I/O (e.g. pd.read_csv)\n",
    "\n",
    "# Input data files are available in the read-only \"../input/\" directory\n",
    "# For example, running this (by clicking run or pressing Shift+Enter) will list all files under the input directory\n",
    "\n",
    "import os\n",
    "for dirname, _, filenames in os.walk('/kaggle/input'):\n",
    "    for filename in filenames:\n",
    "        print(os.path.join(dirname, filename))\n",
    "\n",
    "# You can write up to 20GB to the current directory (/kaggle/working/) that gets preserved as output when you create a version using \"Save & Run All\" \n",
    "# You can also write temporary files to /kaggle/temp/, but they won't be saved outside of the current session"
   ]
  },
  {
   "cell_type": "code",
   "execution_count": 2,
   "id": "2139d7fe",
   "metadata": {
    "execution": {
     "iopub.execute_input": "2024-09-16T14:14:04.862945Z",
     "iopub.status.busy": "2024-09-16T14:14:04.862409Z",
     "iopub.status.idle": "2024-09-16T14:14:06.986230Z",
     "shell.execute_reply": "2024-09-16T14:14:06.985439Z"
    },
    "papermill": {
     "duration": 2.147142,
     "end_time": "2024-09-16T14:14:06.988775",
     "exception": false,
     "start_time": "2024-09-16T14:14:04.841633",
     "status": "completed"
    },
    "tags": []
   },
   "outputs": [],
   "source": [
    "import numpy as np\n",
    "import pandas as pd\n",
    "import seaborn as sns\n",
    "from matplotlib import pyplot as plt\n",
    "from sklearn.preprocessing import OneHotEncoder, OrdinalEncoder, StandardScaler\n",
    "from sklearn.model_selection import train_test_split, GridSearchCV, cross_validate\n",
    "from catboost import CatBoostRegressor\n",
    "import matplotlib.pyplot as plt\n",
    "import re\n",
    "from datetime import datetime\n",
    "import optuna\n",
    "from sklearn.model_selection import cross_validate\n",
    "from sklearn.metrics import mean_squared_error\n",
    "import warnings\n",
    "warnings.filterwarnings(\"ignore\")\n",
    "\n",
    "pd.set_option('display.max_columns', None)\n",
    "pd.set_option('display.max_rows', None)\n",
    "pd.set_option('display.float_format', lambda  x: '%.3f' % x)\n",
    "pd.set_option('display.width', 500)"
   ]
  },
  {
   "cell_type": "code",
   "execution_count": 3,
   "id": "3d3825a6",
   "metadata": {
    "execution": {
     "iopub.execute_input": "2024-09-16T14:14:07.031098Z",
     "iopub.status.busy": "2024-09-16T14:14:07.030628Z",
     "iopub.status.idle": "2024-09-16T14:14:08.080215Z",
     "shell.execute_reply": "2024-09-16T14:14:08.079092Z"
    },
    "papermill": {
     "duration": 1.074146,
     "end_time": "2024-09-16T14:14:08.083237",
     "exception": false,
     "start_time": "2024-09-16T14:14:07.009091",
     "status": "completed"
    },
    "tags": []
   },
   "outputs": [],
   "source": [
    "train_df = pd.read_csv(\"/kaggle/input/datathon-2024/train.csv\",encoding='utf-8',low_memory=False)\n",
    "test_df = pd.read_csv(\"/kaggle/input/datathon-2024/test_x.csv\",encoding='utf-8',low_memory=False)\n",
    "il_ilce = pd.read_csv(\"/kaggle/input/trkiye-il-ile-listesi/il_ilce.csv\")\n",
    "submission_df = pd.read_csv(\"/kaggle/input/datathon-2024/sample_submission.csv\",encoding='utf-8',low_memory=False)"
   ]
  },
  {
   "cell_type": "code",
   "execution_count": 4,
   "id": "bee7dde3",
   "metadata": {
    "execution": {
     "iopub.execute_input": "2024-09-16T14:14:08.127100Z",
     "iopub.status.busy": "2024-09-16T14:14:08.126732Z",
     "iopub.status.idle": "2024-09-16T14:14:08.499565Z",
     "shell.execute_reply": "2024-09-16T14:14:08.498629Z"
    },
    "papermill": {
     "duration": 0.396307,
     "end_time": "2024-09-16T14:14:08.501748",
     "exception": false,
     "start_time": "2024-09-16T14:14:08.105441",
     "status": "completed"
    },
    "tags": []
   },
   "outputs": [
    {
     "name": "stdout",
     "output_type": "stream",
     "text": [
      "############################################\n",
      "(65125, 44)\n",
      "############################################\n",
      "Basvuru Yili                                                   int64\n",
      "Degerlendirme Puani                                          float64\n",
      "Cinsiyet                                                      object\n",
      "Dogum Tarihi                                                  object\n",
      "Dogum Yeri                                                    object\n",
      "Ikametgah Sehri                                               object\n",
      "Universite Adi                                                object\n",
      "Universite Turu                                               object\n",
      "Burslu ise Burs Yuzdesi                                      float64\n",
      "Burs Aliyor mu?                                               object\n",
      "Bölüm                                                         object\n",
      "Universite Kacinci Sinif                                      object\n",
      "Universite Not Ortalamasi                                     object\n",
      "Daha Once Baska Bir Universiteden Mezun Olmus                 object\n",
      "Lise Adi                                                      object\n",
      "Lise Adi Diger                                                object\n",
      "Lise Sehir                                                    object\n",
      "Lise Turu                                                     object\n",
      "Lise Bolumu                                                   object\n",
      "Lise Bolum Diger                                              object\n",
      "Lise Mezuniyet Notu                                           object\n",
      "Baska Bir Kurumdan Burs Aliyor mu?                            object\n",
      "Burs Aldigi Baska Kurum                                       object\n",
      "Baska Kurumdan Aldigi Burs Miktari                            object\n",
      "Anne Egitim Durumu                                            object\n",
      "Anne Calisma Durumu                                           object\n",
      "Anne Sektor                                                   object\n",
      "Baba Egitim Durumu                                            object\n",
      "Baba Calisma Durumu                                           object\n",
      "Baba Sektor                                                   object\n",
      "Kardes Sayisi                                                 object\n",
      "Girisimcilik Kulupleri Tarzi Bir Kulube Uye misiniz?          object\n",
      "Uye Oldugunuz Kulubun Ismi                                    object\n",
      "Profesyonel Bir Spor Daliyla Mesgul musunuz?                  object\n",
      "Spor Dalindaki Rolunuz Nedir?                                 object\n",
      "Aktif olarak bir STK üyesi misiniz?                           object\n",
      "Hangi STK'nin Uyesisiniz?                                     object\n",
      "Stk Projesine Katildiniz Mi?                                  object\n",
      "Girisimcilikle Ilgili Deneyiminiz Var Mi?                     object\n",
      "Girisimcilikle Ilgili Deneyiminizi Aciklayabilir misiniz?     object\n",
      "Ingilizce Biliyor musunuz?                                    object\n",
      "Ingilizce Seviyeniz?                                          object\n",
      "Daha Önceden Mezun Olunduysa, Mezun Olunan Üniversite         object\n",
      "id                                                             int64\n",
      "dtype: object\n",
      "############################################\n",
      "Basvuru Yili                                                     9\n",
      "Degerlendirme Puani                                             97\n",
      "Cinsiyet                                                         4\n",
      "Dogum Tarihi                                                 13498\n",
      "Dogum Yeri                                                    2230\n",
      "Ikametgah Sehri                                                319\n",
      "Universite Adi                                                 527\n",
      "Universite Turu                                                  4\n",
      "Burslu ise Burs Yuzdesi                                         51\n",
      "Burs Aliyor mu?                                                  5\n",
      "Bölüm                                                         7748\n",
      "Universite Kacinci Sinif                                        12\n",
      "Universite Not Ortalamasi                                       20\n",
      "Daha Once Baska Bir Universiteden Mezun Olmus                    2\n",
      "Lise Adi                                                     31950\n",
      "Lise Adi Diger                                                4010\n",
      "Lise Sehir                                                     888\n",
      "Lise Turu                                                       16\n",
      "Lise Bolumu                                                    887\n",
      "Lise Bolum Diger                                               862\n",
      "Lise Mezuniyet Notu                                             19\n",
      "Baska Bir Kurumdan Burs Aliyor mu?                               2\n",
      "Burs Aldigi Baska Kurum                                       3959\n",
      "Baska Kurumdan Aldigi Burs Miktari                             587\n",
      "Anne Egitim Durumu                                              21\n",
      "Anne Calisma Durumu                                              3\n",
      "Anne Sektor                                                      8\n",
      "Baba Egitim Durumu                                              22\n",
      "Baba Calisma Durumu                                              3\n",
      "Baba Sektor                                                      8\n",
      "Kardes Sayisi                                                   28\n",
      "Girisimcilik Kulupleri Tarzi Bir Kulube Uye misiniz?             2\n",
      "Uye Oldugunuz Kulubun Ismi                                   13423\n",
      "Profesyonel Bir Spor Daliyla Mesgul musunuz?                     2\n",
      "Spor Dalindaki Rolunuz Nedir?                                    9\n",
      "Aktif olarak bir STK üyesi misiniz?                              2\n",
      "Hangi STK'nin Uyesisiniz?                                     9490\n",
      "Stk Projesine Katildiniz Mi?                                     2\n",
      "Girisimcilikle Ilgili Deneyiminiz Var Mi?                        2\n",
      "Girisimcilikle Ilgili Deneyiminizi Aciklayabilir misiniz?     9286\n",
      "Ingilizce Biliyor musunuz?                                       2\n",
      "Ingilizce Seviyeniz?                                             4\n",
      "Daha Önceden Mezun Olunduysa, Mezun Olunan Üniversite          168\n",
      "id                                                           65125\n",
      "dtype: int64\n",
      "############################################\n",
      "Basvuru Yili                                                     0\n",
      "Degerlendirme Puani                                              1\n",
      "Cinsiyet                                                       169\n",
      "Dogum Tarihi                                                   177\n",
      "Dogum Yeri                                                     791\n",
      "Ikametgah Sehri                                               2037\n",
      "Universite Adi                                                 132\n",
      "Universite Turu                                                255\n",
      "Burslu ise Burs Yuzdesi                                      42685\n",
      "Burs Aliyor mu?                                                  0\n",
      "Bölüm                                                          231\n",
      "Universite Kacinci Sinif                                       374\n",
      "Universite Not Ortalamasi                                     2753\n",
      "Daha Once Baska Bir Universiteden Mezun Olmus                37345\n",
      "Lise Adi                                                       384\n",
      "Lise Adi Diger                                               60392\n",
      "Lise Sehir                                                    1054\n",
      "Lise Turu                                                      847\n",
      "Lise Bolumu                                                   1009\n",
      "Lise Bolum Diger                                             63599\n",
      "Lise Mezuniyet Notu                                           5917\n",
      "Baska Bir Kurumdan Burs Aliyor mu?                             231\n",
      "Burs Aldigi Baska Kurum                                      43977\n",
      "Baska Kurumdan Aldigi Burs Miktari                           44162\n",
      "Anne Egitim Durumu                                             406\n",
      "Anne Calisma Durumu                                          11896\n",
      "Anne Sektor                                                  34537\n",
      "Baba Egitim Durumu                                            1007\n",
      "Baba Calisma Durumu                                          12618\n",
      "Baba Sektor                                                  20378\n",
      "Kardes Sayisi                                                 1132\n",
      "Girisimcilik Kulupleri Tarzi Bir Kulube Uye misiniz?          1829\n",
      "Uye Oldugunuz Kulubun Ismi                                   48691\n",
      "Profesyonel Bir Spor Daliyla Mesgul musunuz?                  1115\n",
      "Spor Dalindaki Rolunuz Nedir?                                32275\n",
      "Aktif olarak bir STK üyesi misiniz?                          12842\n",
      "Hangi STK'nin Uyesisiniz?                                    49518\n",
      "Stk Projesine Katildiniz Mi?                                 28308\n",
      "Girisimcilikle Ilgili Deneyiminiz Var Mi?                    12840\n",
      "Girisimcilikle Ilgili Deneyiminizi Aciklayabilir misiniz?    50526\n",
      "Ingilizce Biliyor musunuz?                                    6454\n",
      "Ingilizce Seviyeniz?                                         36533\n",
      "Daha Önceden Mezun Olunduysa, Mezun Olunan Üniversite        64706\n",
      "id                                                               0\n",
      "dtype: int64\n"
     ]
    }
   ],
   "source": [
    "def check_df(dataframe):\n",
    "    print(\"############################################\")\n",
    "    print(dataframe.shape)\n",
    "    print(\"############################################\")\n",
    "    print(dataframe.dtypes)\n",
    "    print(\"############################################\")\n",
    "    print(dataframe.nunique())\n",
    "    print(\"############################################\")\n",
    "    print(dataframe.isnull().sum())\n",
    "    \n",
    "check_df(train_df)"
   ]
  },
  {
   "cell_type": "code",
   "execution_count": 5,
   "id": "d76b5d7c",
   "metadata": {
    "execution": {
     "iopub.execute_input": "2024-09-16T14:14:08.543250Z",
     "iopub.status.busy": "2024-09-16T14:14:08.542891Z",
     "iopub.status.idle": "2024-09-16T14:14:08.636233Z",
     "shell.execute_reply": "2024-09-16T14:14:08.635319Z"
    },
    "papermill": {
     "duration": 0.117015,
     "end_time": "2024-09-16T14:14:08.639621",
     "exception": false,
     "start_time": "2024-09-16T14:14:08.522606",
     "status": "completed"
    },
    "tags": []
   },
   "outputs": [
    {
     "name": "stdout",
     "output_type": "stream",
     "text": [
      "############################################\n",
      "(11049, 43)\n",
      "############################################\n",
      "Basvuru Yili                                                   int64\n",
      "Cinsiyet                                                      object\n",
      "Dogum Tarihi                                                  object\n",
      "Dogum Yeri                                                    object\n",
      "Ikametgah Sehri                                               object\n",
      "Universite Adi                                                object\n",
      "Universite Turu                                               object\n",
      "Burslu ise Burs Yuzdesi                                      float64\n",
      "Burs Aliyor mu?                                               object\n",
      "Bölüm                                                         object\n",
      "Universite Kacinci Sinif                                      object\n",
      "Universite Not Ortalamasi                                     object\n",
      "Daha Once Baska Bir Universiteden Mezun Olmus                float64\n",
      "Lise Adi                                                      object\n",
      "Lise Adi Diger                                               float64\n",
      "Lise Sehir                                                    object\n",
      "Lise Turu                                                     object\n",
      "Lise Bolumu                                                   object\n",
      "Lise Bolum Diger                                             float64\n",
      "Lise Mezuniyet Notu                                           object\n",
      "Baska Bir Kurumdan Burs Aliyor mu?                            object\n",
      "Burs Aldigi Baska Kurum                                       object\n",
      "Baska Kurumdan Aldigi Burs Miktari                            object\n",
      "Anne Egitim Durumu                                            object\n",
      "Anne Calisma Durumu                                           object\n",
      "Anne Sektor                                                   object\n",
      "Baba Egitim Durumu                                            object\n",
      "Baba Calisma Durumu                                           object\n",
      "Baba Sektor                                                   object\n",
      "Kardes Sayisi                                                float64\n",
      "Girisimcilik Kulupleri Tarzi Bir Kulube Uye misiniz?          object\n",
      "Uye Oldugunuz Kulubun Ismi                                   float64\n",
      "Profesyonel Bir Spor Daliyla Mesgul musunuz?                  object\n",
      "Spor Dalindaki Rolunuz Nedir?                                 object\n",
      "Aktif olarak bir STK üyesi misiniz?                           object\n",
      "Hangi STK'nin Uyesisiniz?                                     object\n",
      "Stk Projesine Katildiniz Mi?                                 float64\n",
      "Girisimcilikle Ilgili Deneyiminiz Var Mi?                     object\n",
      "Girisimcilikle Ilgili Deneyiminizi Aciklayabilir misiniz?     object\n",
      "Ingilizce Biliyor musunuz?                                    object\n",
      "Ingilizce Seviyeniz?                                         float64\n",
      "Daha Önceden Mezun Olunduysa, Mezun Olunan Üniversite        float64\n",
      "id                                                             int64\n",
      "dtype: object\n",
      "############################################\n",
      "Basvuru Yili                                                     1\n",
      "Cinsiyet                                                         3\n",
      "Dogum Tarihi                                                  2135\n",
      "Dogum Yeri                                                      83\n",
      "Ikametgah Sehri                                                 83\n",
      "Universite Adi                                                 203\n",
      "Universite Turu                                                  2\n",
      "Burslu ise Burs Yuzdesi                                          0\n",
      "Burs Aliyor mu?                                                  2\n",
      "Bölüm                                                          349\n",
      "Universite Kacinci Sinif                                         7\n",
      "Universite Not Ortalamasi                                        6\n",
      "Daha Once Baska Bir Universiteden Mezun Olmus                    0\n",
      "Lise Adi                                                      7830\n",
      "Lise Adi Diger                                                   0\n",
      "Lise Sehir                                                      83\n",
      "Lise Turu                                                        2\n",
      "Lise Bolumu                                                      4\n",
      "Lise Bolum Diger                                                 0\n",
      "Lise Mezuniyet Notu                                              3\n",
      "Baska Bir Kurumdan Burs Aliyor mu?                               2\n",
      "Burs Aldigi Baska Kurum                                       1196\n",
      "Baska Kurumdan Aldigi Burs Miktari                               4\n",
      "Anne Egitim Durumu                                               7\n",
      "Anne Calisma Durumu                                              2\n",
      "Anne Sektor                                                      4\n",
      "Baba Egitim Durumu                                               7\n",
      "Baba Calisma Durumu                                              2\n",
      "Baba Sektor                                                      4\n",
      "Kardes Sayisi                                                    5\n",
      "Girisimcilik Kulupleri Tarzi Bir Kulube Uye misiniz?             2\n",
      "Uye Oldugunuz Kulubun Ismi                                       0\n",
      "Profesyonel Bir Spor Daliyla Mesgul musunuz?                     2\n",
      "Spor Dalindaki Rolunuz Nedir?                                    5\n",
      "Aktif olarak bir STK üyesi misiniz?                              2\n",
      "Hangi STK'nin Uyesisiniz?                                     6154\n",
      "Stk Projesine Katildiniz Mi?                                     0\n",
      "Girisimcilikle Ilgili Deneyiminiz Var Mi?                        2\n",
      "Girisimcilikle Ilgili Deneyiminizi Aciklayabilir misiniz?     3283\n",
      "Ingilizce Biliyor musunuz?                                       2\n",
      "Ingilizce Seviyeniz?                                             0\n",
      "Daha Önceden Mezun Olunduysa, Mezun Olunan Üniversite            0\n",
      "id                                                           11049\n",
      "dtype: int64\n",
      "############################################\n",
      "Basvuru Yili                                                     0\n",
      "Cinsiyet                                                         0\n",
      "Dogum Tarihi                                                     0\n",
      "Dogum Yeri                                                       0\n",
      "Ikametgah Sehri                                                  0\n",
      "Universite Adi                                                   0\n",
      "Universite Turu                                                  0\n",
      "Burslu ise Burs Yuzdesi                                      11049\n",
      "Burs Aliyor mu?                                                  0\n",
      "Bölüm                                                            0\n",
      "Universite Kacinci Sinif                                         0\n",
      "Universite Not Ortalamasi                                        0\n",
      "Daha Once Baska Bir Universiteden Mezun Olmus                11049\n",
      "Lise Adi                                                         0\n",
      "Lise Adi Diger                                               11049\n",
      "Lise Sehir                                                       0\n",
      "Lise Turu                                                        0\n",
      "Lise Bolumu                                                      0\n",
      "Lise Bolum Diger                                             11049\n",
      "Lise Mezuniyet Notu                                              0\n",
      "Baska Bir Kurumdan Burs Aliyor mu?                               0\n",
      "Burs Aldigi Baska Kurum                                          0\n",
      "Baska Kurumdan Aldigi Burs Miktari                               0\n",
      "Anne Egitim Durumu                                               0\n",
      "Anne Calisma Durumu                                              0\n",
      "Anne Sektor                                                      0\n",
      "Baba Egitim Durumu                                               0\n",
      "Baba Calisma Durumu                                              0\n",
      "Baba Sektor                                                      0\n",
      "Kardes Sayisi                                                    0\n",
      "Girisimcilik Kulupleri Tarzi Bir Kulube Uye misiniz?             0\n",
      "Uye Oldugunuz Kulubun Ismi                                   11049\n",
      "Profesyonel Bir Spor Daliyla Mesgul musunuz?                     0\n",
      "Spor Dalindaki Rolunuz Nedir?                                    0\n",
      "Aktif olarak bir STK üyesi misiniz?                              0\n",
      "Hangi STK'nin Uyesisiniz?                                        0\n",
      "Stk Projesine Katildiniz Mi?                                 11049\n",
      "Girisimcilikle Ilgili Deneyiminiz Var Mi?                        0\n",
      "Girisimcilikle Ilgili Deneyiminizi Aciklayabilir misiniz?        0\n",
      "Ingilizce Biliyor musunuz?                                       0\n",
      "Ingilizce Seviyeniz?                                         11049\n",
      "Daha Önceden Mezun Olunduysa, Mezun Olunan Üniversite        11049\n",
      "id                                                               0\n",
      "dtype: int64\n"
     ]
    }
   ],
   "source": [
    "def check_df(dataframe):\n",
    "    print(\"############################################\")\n",
    "    print(dataframe.shape)\n",
    "    print(\"############################################\")\n",
    "    print(dataframe.dtypes)\n",
    "    print(\"############################################\")\n",
    "    print(dataframe.nunique())\n",
    "    print(\"############################################\")\n",
    "    print(dataframe.isnull().sum())\n",
    "    \n",
    "check_df(test_df)"
   ]
  },
  {
   "cell_type": "code",
   "execution_count": 6,
   "id": "6854b2ba",
   "metadata": {
    "execution": {
     "iopub.execute_input": "2024-09-16T14:14:08.680922Z",
     "iopub.status.busy": "2024-09-16T14:14:08.680576Z",
     "iopub.status.idle": "2024-09-16T14:14:08.719615Z",
     "shell.execute_reply": "2024-09-16T14:14:08.718666Z"
    },
    "papermill": {
     "duration": 0.062191,
     "end_time": "2024-09-16T14:14:08.721779",
     "exception": false,
     "start_time": "2024-09-16T14:14:08.659588",
     "status": "completed"
    },
    "tags": []
   },
   "outputs": [
    {
     "data": {
      "text/html": [
       "<div>\n",
       "<style scoped>\n",
       "    .dataframe tbody tr th:only-of-type {\n",
       "        vertical-align: middle;\n",
       "    }\n",
       "\n",
       "    .dataframe tbody tr th {\n",
       "        vertical-align: top;\n",
       "    }\n",
       "\n",
       "    .dataframe thead th {\n",
       "        text-align: right;\n",
       "    }\n",
       "</style>\n",
       "<table border=\"1\" class=\"dataframe\">\n",
       "  <thead>\n",
       "    <tr style=\"text-align: right;\">\n",
       "      <th></th>\n",
       "      <th>Basvuru Yili</th>\n",
       "      <th>Degerlendirme Puani</th>\n",
       "      <th>Cinsiyet</th>\n",
       "      <th>Dogum Tarihi</th>\n",
       "      <th>Dogum Yeri</th>\n",
       "      <th>Ikametgah Sehri</th>\n",
       "      <th>Universite Adi</th>\n",
       "      <th>Universite Turu</th>\n",
       "      <th>Burslu ise Burs Yuzdesi</th>\n",
       "      <th>Burs Aliyor mu?</th>\n",
       "      <th>Bölüm</th>\n",
       "      <th>Universite Kacinci Sinif</th>\n",
       "      <th>Universite Not Ortalamasi</th>\n",
       "      <th>Daha Once Baska Bir Universiteden Mezun Olmus</th>\n",
       "      <th>Lise Adi</th>\n",
       "      <th>Lise Adi Diger</th>\n",
       "      <th>Lise Sehir</th>\n",
       "      <th>Lise Turu</th>\n",
       "      <th>Lise Bolumu</th>\n",
       "      <th>Lise Bolum Diger</th>\n",
       "      <th>Lise Mezuniyet Notu</th>\n",
       "      <th>Baska Bir Kurumdan Burs Aliyor mu?</th>\n",
       "      <th>Burs Aldigi Baska Kurum</th>\n",
       "      <th>Baska Kurumdan Aldigi Burs Miktari</th>\n",
       "      <th>Anne Egitim Durumu</th>\n",
       "      <th>Anne Calisma Durumu</th>\n",
       "      <th>Anne Sektor</th>\n",
       "      <th>Baba Egitim Durumu</th>\n",
       "      <th>Baba Calisma Durumu</th>\n",
       "      <th>Baba Sektor</th>\n",
       "      <th>Kardes Sayisi</th>\n",
       "      <th>Girisimcilik Kulupleri Tarzi Bir Kulube Uye misiniz?</th>\n",
       "      <th>Uye Oldugunuz Kulubun Ismi</th>\n",
       "      <th>Profesyonel Bir Spor Daliyla Mesgul musunuz?</th>\n",
       "      <th>Spor Dalindaki Rolunuz Nedir?</th>\n",
       "      <th>Aktif olarak bir STK üyesi misiniz?</th>\n",
       "      <th>Hangi STK'nin Uyesisiniz?</th>\n",
       "      <th>Stk Projesine Katildiniz Mi?</th>\n",
       "      <th>Girisimcilikle Ilgili Deneyiminiz Var Mi?</th>\n",
       "      <th>Girisimcilikle Ilgili Deneyiminizi Aciklayabilir misiniz?</th>\n",
       "      <th>Ingilizce Biliyor musunuz?</th>\n",
       "      <th>Ingilizce Seviyeniz?</th>\n",
       "      <th>Daha Önceden Mezun Olunduysa, Mezun Olunan Üniversite</th>\n",
       "      <th>id</th>\n",
       "    </tr>\n",
       "  </thead>\n",
       "  <tbody>\n",
       "    <tr>\n",
       "      <th>0</th>\n",
       "      <td>2014</td>\n",
       "      <td>52.000</td>\n",
       "      <td>Erkek</td>\n",
       "      <td>4/6/1994</td>\n",
       "      <td>Altindag, Ankara</td>\n",
       "      <td>Ankara</td>\n",
       "      <td>İHSAN DOĞRAMACI BİLKENT</td>\n",
       "      <td>Özel</td>\n",
       "      <td>100.000</td>\n",
       "      <td>Evet</td>\n",
       "      <td>Bilgisayar Muhendisligi</td>\n",
       "      <td>3</td>\n",
       "      <td>3.50-3</td>\n",
       "      <td>Hayır</td>\n",
       "      <td>Ankara Ataturk Anadolu Lisesi</td>\n",
       "      <td>NaN</td>\n",
       "      <td>Ankara</td>\n",
       "      <td>Anadolu lisesi</td>\n",
       "      <td>MF</td>\n",
       "      <td>NaN</td>\n",
       "      <td>3.50-3</td>\n",
       "      <td>Hayır</td>\n",
       "      <td>NaN</td>\n",
       "      <td>NaN</td>\n",
       "      <td>Üniversite</td>\n",
       "      <td>Hayır</td>\n",
       "      <td>0</td>\n",
       "      <td>Üniversite</td>\n",
       "      <td>Emekli</td>\n",
       "      <td>0</td>\n",
       "      <td>1</td>\n",
       "      <td>Evet</td>\n",
       "      <td>Bilkent IEEE Bilgisayar Toplulugu 2013-2014 Ba...</td>\n",
       "      <td>Evet</td>\n",
       "      <td>Diğer</td>\n",
       "      <td>Hayır</td>\n",
       "      <td>NaN</td>\n",
       "      <td>Evet</td>\n",
       "      <td>Hayır</td>\n",
       "      <td>NaN</td>\n",
       "      <td>NaN</td>\n",
       "      <td>NaN</td>\n",
       "      <td>NaN</td>\n",
       "      <td>0</td>\n",
       "    </tr>\n",
       "    <tr>\n",
       "      <th>1</th>\n",
       "      <td>2014</td>\n",
       "      <td>30.000</td>\n",
       "      <td>Erkek</td>\n",
       "      <td>6/11/1993</td>\n",
       "      <td>Üsküdar</td>\n",
       "      <td>İstanbul</td>\n",
       "      <td>İHSAN DOĞRAMACI BİLKENT</td>\n",
       "      <td>Özel</td>\n",
       "      <td>100.000</td>\n",
       "      <td>Hayır</td>\n",
       "      <td>Elektrik Elektronik Mühendisliği</td>\n",
       "      <td>3</td>\n",
       "      <td>3.00-2.50</td>\n",
       "      <td>Hayır</td>\n",
       "      <td>Betül Can Anadolu Lisesi</td>\n",
       "      <td>NaN</td>\n",
       "      <td>Ankara</td>\n",
       "      <td>Anadolu lisesi</td>\n",
       "      <td>MF</td>\n",
       "      <td>NaN</td>\n",
       "      <td>3.00 - 4.00</td>\n",
       "      <td>Hayır</td>\n",
       "      <td>NaN</td>\n",
       "      <td>NaN</td>\n",
       "      <td>Üniversite</td>\n",
       "      <td>Evet</td>\n",
       "      <td>Kamu</td>\n",
       "      <td>Yüksek Lisans / Doktora</td>\n",
       "      <td>Emekli</td>\n",
       "      <td>0</td>\n",
       "      <td>1</td>\n",
       "      <td>Hayır</td>\n",
       "      <td>NaN</td>\n",
       "      <td>Hayır</td>\n",
       "      <td>0</td>\n",
       "      <td>Hayır</td>\n",
       "      <td>NaN</td>\n",
       "      <td>Evet</td>\n",
       "      <td>Evet</td>\n",
       "      <td>Bilkent Cyberparkta bir şirkette Türkiye nin i...</td>\n",
       "      <td>NaN</td>\n",
       "      <td>NaN</td>\n",
       "      <td>NaN</td>\n",
       "      <td>1</td>\n",
       "    </tr>\n",
       "    <tr>\n",
       "      <th>2</th>\n",
       "      <td>2014</td>\n",
       "      <td>18.000</td>\n",
       "      <td>Erkek</td>\n",
       "      <td>1/15/1986</td>\n",
       "      <td>Samsun</td>\n",
       "      <td>İstanbul</td>\n",
       "      <td>ULUSLARARASI KIBRIS ÜNİVERSİTESİ</td>\n",
       "      <td>Özel</td>\n",
       "      <td>100.000</td>\n",
       "      <td>Hayır</td>\n",
       "      <td>Finans Yönetimi ve Pazarlama</td>\n",
       "      <td>1</td>\n",
       "      <td>NaN</td>\n",
       "      <td>Hayır</td>\n",
       "      <td>Batem</td>\n",
       "      <td>NaN</td>\n",
       "      <td>Ankara</td>\n",
       "      <td>Meslek lisesi</td>\n",
       "      <td>Elektirk</td>\n",
       "      <td>NaN</td>\n",
       "      <td>3.50-3</td>\n",
       "      <td>Hayır</td>\n",
       "      <td>NaN</td>\n",
       "      <td>NaN</td>\n",
       "      <td>İlkokul Mezunu</td>\n",
       "      <td>Hayır</td>\n",
       "      <td>0</td>\n",
       "      <td>İlkokul Mezunu</td>\n",
       "      <td>Evet</td>\n",
       "      <td>Özel Sektör</td>\n",
       "      <td>6</td>\n",
       "      <td>Evet</td>\n",
       "      <td>Tema</td>\n",
       "      <td>Hayır</td>\n",
       "      <td>0</td>\n",
       "      <td>Hayır</td>\n",
       "      <td>NaN</td>\n",
       "      <td>Hayır</td>\n",
       "      <td>Hayır</td>\n",
       "      <td>NaN</td>\n",
       "      <td>NaN</td>\n",
       "      <td>NaN</td>\n",
       "      <td>NaN</td>\n",
       "      <td>2</td>\n",
       "    </tr>\n",
       "    <tr>\n",
       "      <th>3</th>\n",
       "      <td>2014</td>\n",
       "      <td>40.000</td>\n",
       "      <td>Erkek</td>\n",
       "      <td>6/4/1991</td>\n",
       "      <td>Diyarbakır</td>\n",
       "      <td>İstanbul</td>\n",
       "      <td>İSTANBUL ŞEHİR ÜNİVERSİTESİ</td>\n",
       "      <td>Özel</td>\n",
       "      <td>100.000</td>\n",
       "      <td>Evet</td>\n",
       "      <td>Bilgisayar Mühendisliği</td>\n",
       "      <td>3</td>\n",
       "      <td>3.00-2.50</td>\n",
       "      <td>Hayır</td>\n",
       "      <td>Cumhuriyet Fen Lisesi</td>\n",
       "      <td>NaN</td>\n",
       "      <td>Diyarbakır</td>\n",
       "      <td>Fen lisesi</td>\n",
       "      <td>Sayısal</td>\n",
       "      <td>NaN</td>\n",
       "      <td>3.50-3</td>\n",
       "      <td>Hayır</td>\n",
       "      <td>NaN</td>\n",
       "      <td>NaN</td>\n",
       "      <td>İlkokul Mezunu</td>\n",
       "      <td>Hayır</td>\n",
       "      <td>0</td>\n",
       "      <td>Üniversite</td>\n",
       "      <td>Emekli</td>\n",
       "      <td>0</td>\n",
       "      <td>10</td>\n",
       "      <td>Evet</td>\n",
       "      <td>Güzel Konuşma ve yazma kulübü</td>\n",
       "      <td>Hayır</td>\n",
       "      <td>0</td>\n",
       "      <td>Hayır</td>\n",
       "      <td>NaN</td>\n",
       "      <td>Evet</td>\n",
       "      <td>Hayır</td>\n",
       "      <td>NaN</td>\n",
       "      <td>NaN</td>\n",
       "      <td>NaN</td>\n",
       "      <td>NaN</td>\n",
       "      <td>3</td>\n",
       "    </tr>\n",
       "    <tr>\n",
       "      <th>4</th>\n",
       "      <td>2014</td>\n",
       "      <td>24.000</td>\n",
       "      <td>Erkek</td>\n",
       "      <td>2 Kasim 1992</td>\n",
       "      <td>Ankara/Altındağ</td>\n",
       "      <td>Ankara</td>\n",
       "      <td>TURGUT ÖZAL ÜNİVERSİTESİ</td>\n",
       "      <td>Özel</td>\n",
       "      <td>100.000</td>\n",
       "      <td>Evet</td>\n",
       "      <td>Siyaset Bilimi ve Uluslararası ilişkiler</td>\n",
       "      <td>NaN</td>\n",
       "      <td>3.00-2.50</td>\n",
       "      <td>Hayır</td>\n",
       "      <td>Samanyolu Lisesi</td>\n",
       "      <td>NaN</td>\n",
       "      <td>Ankara</td>\n",
       "      <td>Özel lisesi</td>\n",
       "      <td>TM</td>\n",
       "      <td>NaN</td>\n",
       "      <td>3.00 - 4.00</td>\n",
       "      <td>Hayır</td>\n",
       "      <td>NaN</td>\n",
       "      <td>NaN</td>\n",
       "      <td>İlkokul Mezunu</td>\n",
       "      <td>Hayır</td>\n",
       "      <td>0</td>\n",
       "      <td>Üniversite</td>\n",
       "      <td>Emekli</td>\n",
       "      <td>0</td>\n",
       "      <td>1</td>\n",
       "      <td>Hayır</td>\n",
       "      <td>NaN</td>\n",
       "      <td>Hayır</td>\n",
       "      <td>0</td>\n",
       "      <td>Hayır</td>\n",
       "      <td>NaN</td>\n",
       "      <td>Hayır</td>\n",
       "      <td>Hayır</td>\n",
       "      <td>NaN</td>\n",
       "      <td>NaN</td>\n",
       "      <td>NaN</td>\n",
       "      <td>NaN</td>\n",
       "      <td>4</td>\n",
       "    </tr>\n",
       "  </tbody>\n",
       "</table>\n",
       "</div>"
      ],
      "text/plain": [
       "   Basvuru Yili  Degerlendirme Puani Cinsiyet  Dogum Tarihi        Dogum Yeri Ikametgah Sehri                    Universite Adi Universite Turu  Burslu ise Burs Yuzdesi Burs Aliyor mu?                                     Bölüm Universite Kacinci Sinif Universite Not Ortalamasi Daha Once Baska Bir Universiteden Mezun Olmus                       Lise Adi Lise Adi Diger  Lise Sehir       Lise Turu Lise Bolumu Lise Bolum Diger Lise Mezuniyet Notu Baska Bir Kurumdan Burs Aliyor mu?  \\\n",
       "0          2014               52.000    Erkek      4/6/1994  Altindag, Ankara          Ankara           İHSAN DOĞRAMACI BİLKENT            Özel                  100.000            Evet                   Bilgisayar Muhendisligi                        3                    3.50-3                                         Hayır  Ankara Ataturk Anadolu Lisesi            NaN      Ankara  Anadolu lisesi          MF              NaN              3.50-3                              Hayır   \n",
       "1          2014               30.000    Erkek     6/11/1993           Üsküdar        İstanbul           İHSAN DOĞRAMACI BİLKENT            Özel                  100.000           Hayır          Elektrik Elektronik Mühendisliği                        3                 3.00-2.50                                         Hayır       Betül Can Anadolu Lisesi            NaN      Ankara  Anadolu lisesi          MF              NaN         3.00 - 4.00                              Hayır   \n",
       "2          2014               18.000    Erkek     1/15/1986            Samsun        İstanbul  ULUSLARARASI KIBRIS ÜNİVERSİTESİ            Özel                  100.000           Hayır              Finans Yönetimi ve Pazarlama                        1                       NaN                                         Hayır                          Batem            NaN      Ankara   Meslek lisesi    Elektirk              NaN              3.50-3                              Hayır   \n",
       "3          2014               40.000    Erkek      6/4/1991        Diyarbakır        İstanbul       İSTANBUL ŞEHİR ÜNİVERSİTESİ            Özel                  100.000            Evet                   Bilgisayar Mühendisliği                        3                 3.00-2.50                                         Hayır          Cumhuriyet Fen Lisesi            NaN  Diyarbakır      Fen lisesi     Sayısal              NaN              3.50-3                              Hayır   \n",
       "4          2014               24.000    Erkek  2 Kasim 1992   Ankara/Altındağ          Ankara          TURGUT ÖZAL ÜNİVERSİTESİ            Özel                  100.000            Evet  Siyaset Bilimi ve Uluslararası ilişkiler                      NaN                 3.00-2.50                                         Hayır               Samanyolu Lisesi            NaN      Ankara     Özel lisesi          TM              NaN         3.00 - 4.00                              Hayır   \n",
       "\n",
       "  Burs Aldigi Baska Kurum Baska Kurumdan Aldigi Burs Miktari Anne Egitim Durumu Anne Calisma Durumu Anne Sektor       Baba Egitim Durumu Baba Calisma Durumu  Baba Sektor Kardes Sayisi Girisimcilik Kulupleri Tarzi Bir Kulube Uye misiniz?                         Uye Oldugunuz Kulubun Ismi Profesyonel Bir Spor Daliyla Mesgul musunuz? Spor Dalindaki Rolunuz Nedir? Aktif olarak bir STK üyesi misiniz? Hangi STK'nin Uyesisiniz? Stk Projesine Katildiniz Mi? Girisimcilikle Ilgili Deneyiminiz Var Mi?  \\\n",
       "0                     NaN                                NaN         Üniversite               Hayır           0               Üniversite              Emekli            0             1                                               Evet    Bilkent IEEE Bilgisayar Toplulugu 2013-2014 Ba...                                         Evet                         Diğer                               Hayır                       NaN                         Evet                                     Hayır   \n",
       "1                     NaN                                NaN         Üniversite                Evet        Kamu  Yüksek Lisans / Doktora              Emekli            0             1                                              Hayır                                                  NaN                                        Hayır                             0                               Hayır                       NaN                         Evet                                      Evet   \n",
       "2                     NaN                                NaN     İlkokul Mezunu               Hayır           0           İlkokul Mezunu                Evet  Özel Sektör             6                                               Evet                                                 Tema                                        Hayır                             0                               Hayır                       NaN                        Hayır                                     Hayır   \n",
       "3                     NaN                                NaN     İlkokul Mezunu               Hayır           0               Üniversite              Emekli            0            10                                               Evet                        Güzel Konuşma ve yazma kulübü                                        Hayır                             0                               Hayır                       NaN                         Evet                                     Hayır   \n",
       "4                     NaN                                NaN     İlkokul Mezunu               Hayır           0               Üniversite              Emekli            0             1                                              Hayır                                                  NaN                                        Hayır                             0                               Hayır                       NaN                        Hayır                                     Hayır   \n",
       "\n",
       "  Girisimcilikle Ilgili Deneyiminizi Aciklayabilir misiniz? Ingilizce Biliyor musunuz? Ingilizce Seviyeniz? Daha Önceden Mezun Olunduysa, Mezun Olunan Üniversite  id  \n",
       "0                                                NaN                               NaN                  NaN                                                NaN      0  \n",
       "1  Bilkent Cyberparkta bir şirkette Türkiye nin i...                               NaN                  NaN                                                NaN      1  \n",
       "2                                                NaN                               NaN                  NaN                                                NaN      2  \n",
       "3                                                NaN                               NaN                  NaN                                                NaN      3  \n",
       "4                                                NaN                               NaN                  NaN                                                NaN      4  "
      ]
     },
     "execution_count": 6,
     "metadata": {},
     "output_type": "execute_result"
    }
   ],
   "source": [
    "train_df.head()"
   ]
  },
  {
   "cell_type": "code",
   "execution_count": 7,
   "id": "0e5b2cf8",
   "metadata": {
    "execution": {
     "iopub.execute_input": "2024-09-16T14:14:08.766235Z",
     "iopub.status.busy": "2024-09-16T14:14:08.765908Z",
     "iopub.status.idle": "2024-09-16T14:14:09.020007Z",
     "shell.execute_reply": "2024-09-16T14:14:09.018725Z"
    },
    "papermill": {
     "duration": 0.279469,
     "end_time": "2024-09-16T14:14:09.023519",
     "exception": false,
     "start_time": "2024-09-16T14:14:08.744050",
     "status": "completed"
    },
    "tags": []
   },
   "outputs": [],
   "source": [
    "drop_null_cols = [col for col in train_df.columns if train_df[col].isnull().sum() > 13000]\n",
    "drop_null_cols = drop_null_cols + [\"Burslu ise Burs Yuzdesi\", \"Daha Once Baska Bir Universiteden Mezun Olmus\",\n",
    "                                   \"Lise Adi Diger\", \"Lise Bolum Diger\", \"Uye Oldugunuz Kulubun Ismi\", \"Stk Projesine Katildiniz Mi?\",\n",
    "                                   \"Ingilizce Seviyeniz?\", \"Daha Önceden Mezun Olunduysa, Mezun Olunan Üniversite\"]\n",
    "drop_null_cols = [col for col in drop_null_cols if col not in [\"Baska Kurumdan Aldigi Burs Miktari\"]]\n",
    "drop_null_cols\n",
    "train_df.drop(columns = drop_null_cols, inplace=True)\n",
    "test_df.drop(columns = drop_null_cols, inplace=True)"
   ]
  },
  {
   "cell_type": "code",
   "execution_count": 8,
   "id": "af933886",
   "metadata": {
    "execution": {
     "iopub.execute_input": "2024-09-16T14:14:09.082719Z",
     "iopub.status.busy": "2024-09-16T14:14:09.081762Z",
     "iopub.status.idle": "2024-09-16T14:14:14.680231Z",
     "shell.execute_reply": "2024-09-16T14:14:14.679100Z"
    },
    "papermill": {
     "duration": 5.628756,
     "end_time": "2024-09-16T14:14:14.682863",
     "exception": false,
     "start_time": "2024-09-16T14:14:09.054107",
     "status": "completed"
    },
    "tags": []
   },
   "outputs": [],
   "source": [
    "train_df[train_df.select_dtypes(include='object').columns] = train_df.select_dtypes(include='object').apply(lambda x: x.str.upper())\n",
    "test_df[test_df.select_dtypes(include='object').columns] = test_df.select_dtypes(include='object').apply(lambda x: x.str.upper())\n",
    "il_ilce[il_ilce.select_dtypes(include='object').columns] = il_ilce.select_dtypes(include='object').apply(lambda x: x.str.upper())\n",
    "\n",
    "train_df[train_df.select_dtypes(include='object').columns] = train_df.select_dtypes(include='object').apply(lambda x: x.str.replace('İ', 'I').str.replace('Ü', 'U').str.replace('Ö', 'O').str.replace('Ğ', 'G').str.replace('Ç', 'C').str.replace('Ş', 'S'))\n",
    "test_df[test_df.select_dtypes(include='object').columns] = test_df.select_dtypes(include='object').apply(lambda x: x.str.replace('İ', 'I').str.replace('Ü', 'U').str.replace('Ö', 'O').str.replace('Ğ', 'G').str.replace('Ç', 'C').str.replace('Ş', 'S'))\n",
    "il_ilce[il_ilce.select_dtypes(include='object').columns] = il_ilce.select_dtypes(include='object').apply(lambda x: x.str.replace('İ', 'I').str.replace('Ü', 'U').str.replace('Ö', 'O').str.replace('Ğ', 'G').str.replace('Ç', 'C').str.replace('Ş', 'S'))\n"
   ]
  },
  {
   "cell_type": "code",
   "execution_count": 9,
   "id": "d17f7417",
   "metadata": {
    "execution": {
     "iopub.execute_input": "2024-09-16T14:14:14.726174Z",
     "iopub.status.busy": "2024-09-16T14:14:14.725829Z",
     "iopub.status.idle": "2024-09-16T14:14:14.892944Z",
     "shell.execute_reply": "2024-09-16T14:14:14.891903Z"
    },
    "papermill": {
     "duration": 0.191641,
     "end_time": "2024-09-16T14:14:14.895338",
     "exception": false,
     "start_time": "2024-09-16T14:14:14.703697",
     "status": "completed"
    },
    "tags": []
   },
   "outputs": [
    {
     "data": {
      "text/plain": [
       "Basvuru Yili                                                0\n",
       "Degerlendirme Puani                                         1\n",
       "Cinsiyet                                                  169\n",
       "Dogum Tarihi                                              177\n",
       "Dogum Yeri                                                791\n",
       "Ikametgah Sehri                                          2037\n",
       "Universite Adi                                            132\n",
       "Universite Turu                                           255\n",
       "Burs Aliyor mu?                                             0\n",
       "Bölüm                                                     231\n",
       "Universite Kacinci Sinif                                  374\n",
       "Universite Not Ortalamasi                                2753\n",
       "Lise Adi                                                  384\n",
       "Lise Sehir                                               1054\n",
       "Lise Turu                                                 847\n",
       "Lise Bolumu                                              1009\n",
       "Lise Mezuniyet Notu                                      5917\n",
       "Baska Bir Kurumdan Burs Aliyor mu?                        231\n",
       "Baska Kurumdan Aldigi Burs Miktari                      44162\n",
       "Anne Egitim Durumu                                        406\n",
       "Anne Calisma Durumu                                     11896\n",
       "Baba Egitim Durumu                                       1007\n",
       "Baba Calisma Durumu                                     12618\n",
       "Kardes Sayisi                                            1132\n",
       "Girisimcilik Kulupleri Tarzi Bir Kulube Uye misiniz?     1829\n",
       "Profesyonel Bir Spor Daliyla Mesgul musunuz?             1115\n",
       "Aktif olarak bir STK üyesi misiniz?                     12842\n",
       "Girisimcilikle Ilgili Deneyiminiz Var Mi?               12840\n",
       "Ingilizce Biliyor musunuz?                               6454\n",
       "id                                                          0\n",
       "dtype: int64"
      ]
     },
     "execution_count": 9,
     "metadata": {},
     "output_type": "execute_result"
    }
   ],
   "source": [
    "train_df.isnull().sum()"
   ]
  },
  {
   "cell_type": "markdown",
   "id": "405a0eb9",
   "metadata": {
    "papermill": {
     "duration": 0.020902,
     "end_time": "2024-09-16T14:14:14.939169",
     "exception": false,
     "start_time": "2024-09-16T14:14:14.918267",
     "status": "completed"
    },
    "tags": []
   },
   "source": [
    "Feature Engineering"
   ]
  },
  {
   "cell_type": "markdown",
   "id": "22a337cb",
   "metadata": {
    "papermill": {
     "duration": 0.02068,
     "end_time": "2024-09-16T14:14:14.981518",
     "exception": false,
     "start_time": "2024-09-16T14:14:14.960838",
     "status": "completed"
    },
    "tags": []
   },
   "source": [
    "*SPOR*"
   ]
  },
  {
   "cell_type": "code",
   "execution_count": 10,
   "id": "6803fb6f",
   "metadata": {
    "execution": {
     "iopub.execute_input": "2024-09-16T14:14:15.025540Z",
     "iopub.status.busy": "2024-09-16T14:14:15.024870Z",
     "iopub.status.idle": "2024-09-16T14:14:15.033167Z",
     "shell.execute_reply": "2024-09-16T14:14:15.032288Z"
    },
    "papermill": {
     "duration": 0.032649,
     "end_time": "2024-09-16T14:14:15.035251",
     "exception": false,
     "start_time": "2024-09-16T14:14:15.002602",
     "status": "completed"
    },
    "tags": []
   },
   "outputs": [
    {
     "data": {
      "text/plain": [
       "'\\ntrain_df[\"Profesyonel Bir Spor Daliyla Mesgul musunuz?\"] = train_df[\"Profesyonel Bir Spor Daliyla Mesgul musunuz?\"].fillna(\"BILINMIYOR\")\\n\\ntrain_df.loc[train_df[\"Spor Dalindaki Rolunuz Nedir?\"].str.contains(\\'KAPTAN\\', case=False, na=False), \\'Spor_Rol\\'] = \"KAPTAN\"\\ntrain_df.loc[train_df[\"Spor Dalindaki Rolunuz Nedir?\"].str.contains(\\'BIREYSEL\\', case=False, na=False), \\'Spor_Rol\\'] = \"BIREYSEL\"\\ntrain_df.loc[train_df[\"Spor Dalindaki Rolunuz Nedir?\"].str.contains(\\'TAKIM OYUNCUSU\\', case=False, na=False), \\'Spor_Rol\\'] = \"TAKIM OYUNCUSU\"\\ntrain_df.loc[train_df[\"Spor Dalindaki Rolunuz Nedir?\"].str.contains(\\'DIGER|0|-\\', case=False, na=False), \\'Spor_Rol\\'] = \"BILINMIYOR\"\\ntrain_df.loc[train_df[\"Profesyonel Bir Spor Daliyla Mesgul musunuz?\"].str.contains(\\'BILINMIYOR\\', case=False, na=False), \\'Spor_Rol\\'] = \"BILINMIYOR\"\\ntrain_df.loc[train_df[\"Profesyonel Bir Spor Daliyla Mesgul musunuz?\"].str.contains(\\'HAYIR\\', case=False, na=False), \\'Spor_Rol\\'] = \"ILGILENMIYOR\"\\n\\n\\ntest_df.loc[test_df[\"Spor Dalindaki Rolunuz Nedir?\"].str.contains(\\'KAPTAN\\', case=False, na=False), \\'Spor_Rol\\'] = \"KAPTAN\"\\ntest_df.loc[test_df[\"Spor Dalindaki Rolunuz Nedir?\"].str.contains(\\'BIREYSEL SPOR\\', case=False, na=False), \\'Spor_Rol\\'] = \"BIREYSEL\"\\ntest_df.loc[test_df[\"Spor Dalindaki Rolunuz Nedir?\"].str.contains(\\'TAKIM OYUNCUSU\\', case=False, na=False), \\'Spor_Rol\\'] = \"TAKIM OYUNCUSU\"\\ntest_df.loc[test_df[\"Spor Dalindaki Rolunuz Nedir?\"].str.contains(\\'DIGER|-\\', case=False, na=False), \\'Spor_Rol\\'] = \"BILINMIYOR\"\\ntest_df.loc[test_df[\"Profesyonel Bir Spor Daliyla Mesgul musunuz?\"].str.contains(\\'HAYIR\\', case=False, na=False), \\'Spor_Rol\\'] = \"ILGILENMIYOR\"\\n\\n                                                        \\ntrain_df[\"Spor_Rol\"] = train_df[\"Spor_Rol\"].fillna(\"BILINMIYOR\")\\ntest_df[\"Spor_Rol\"] = train_df[\"Spor_Rol\"].fillna(\"BILINMIYOR\")\\n\\ntrain_df.drop(columns = [\"Spor Dalindaki Rolunuz Nedir?\"], inplace=True)\\ntest_df.drop(columns = [\"Spor Dalindaki Rolunuz Nedir?\"], inplace=True)\\n'"
      ]
     },
     "execution_count": 10,
     "metadata": {},
     "output_type": "execute_result"
    }
   ],
   "source": [
    "\"\"\"\n",
    "train_df[\"Profesyonel Bir Spor Daliyla Mesgul musunuz?\"] = train_df[\"Profesyonel Bir Spor Daliyla Mesgul musunuz?\"].fillna(\"BILINMIYOR\")\n",
    "\n",
    "train_df.loc[train_df[\"Spor Dalindaki Rolunuz Nedir?\"].str.contains('KAPTAN', case=False, na=False), 'Spor_Rol'] = \"KAPTAN\"\n",
    "train_df.loc[train_df[\"Spor Dalindaki Rolunuz Nedir?\"].str.contains('BIREYSEL', case=False, na=False), 'Spor_Rol'] = \"BIREYSEL\"\n",
    "train_df.loc[train_df[\"Spor Dalindaki Rolunuz Nedir?\"].str.contains('TAKIM OYUNCUSU', case=False, na=False), 'Spor_Rol'] = \"TAKIM OYUNCUSU\"\n",
    "train_df.loc[train_df[\"Spor Dalindaki Rolunuz Nedir?\"].str.contains('DIGER|0|-', case=False, na=False), 'Spor_Rol'] = \"BILINMIYOR\"\n",
    "train_df.loc[train_df[\"Profesyonel Bir Spor Daliyla Mesgul musunuz?\"].str.contains('BILINMIYOR', case=False, na=False), 'Spor_Rol'] = \"BILINMIYOR\"\n",
    "train_df.loc[train_df[\"Profesyonel Bir Spor Daliyla Mesgul musunuz?\"].str.contains('HAYIR', case=False, na=False), 'Spor_Rol'] = \"ILGILENMIYOR\"\n",
    "\n",
    "\n",
    "test_df.loc[test_df[\"Spor Dalindaki Rolunuz Nedir?\"].str.contains('KAPTAN', case=False, na=False), 'Spor_Rol'] = \"KAPTAN\"\n",
    "test_df.loc[test_df[\"Spor Dalindaki Rolunuz Nedir?\"].str.contains('BIREYSEL SPOR', case=False, na=False), 'Spor_Rol'] = \"BIREYSEL\"\n",
    "test_df.loc[test_df[\"Spor Dalindaki Rolunuz Nedir?\"].str.contains('TAKIM OYUNCUSU', case=False, na=False), 'Spor_Rol'] = \"TAKIM OYUNCUSU\"\n",
    "test_df.loc[test_df[\"Spor Dalindaki Rolunuz Nedir?\"].str.contains('DIGER|-', case=False, na=False), 'Spor_Rol'] = \"BILINMIYOR\"\n",
    "test_df.loc[test_df[\"Profesyonel Bir Spor Daliyla Mesgul musunuz?\"].str.contains('HAYIR', case=False, na=False), 'Spor_Rol'] = \"ILGILENMIYOR\"\n",
    "\n",
    "                                                        \n",
    "train_df[\"Spor_Rol\"] = train_df[\"Spor_Rol\"].fillna(\"BILINMIYOR\")\n",
    "test_df[\"Spor_Rol\"] = train_df[\"Spor_Rol\"].fillna(\"BILINMIYOR\")\n",
    "\n",
    "train_df.drop(columns = [\"Spor Dalindaki Rolunuz Nedir?\"], inplace=True)\n",
    "test_df.drop(columns = [\"Spor Dalindaki Rolunuz Nedir?\"], inplace=True)\n",
    "\"\"\""
   ]
  },
  {
   "cell_type": "markdown",
   "id": "e7abeb80",
   "metadata": {
    "papermill": {
     "duration": 0.021364,
     "end_time": "2024-09-16T14:14:15.077585",
     "exception": false,
     "start_time": "2024-09-16T14:14:15.056221",
     "status": "completed"
    },
    "tags": []
   },
   "source": [
    "*GİRİŞİMCİ*"
   ]
  },
  {
   "cell_type": "code",
   "execution_count": 11,
   "id": "3b8aee1d",
   "metadata": {
    "execution": {
     "iopub.execute_input": "2024-09-16T14:14:15.121290Z",
     "iopub.status.busy": "2024-09-16T14:14:15.120939Z",
     "iopub.status.idle": "2024-09-16T14:14:15.127480Z",
     "shell.execute_reply": "2024-09-16T14:14:15.126654Z"
    },
    "papermill": {
     "duration": 0.030746,
     "end_time": "2024-09-16T14:14:15.129401",
     "exception": false,
     "start_time": "2024-09-16T14:14:15.098655",
     "status": "completed"
    },
    "tags": []
   },
   "outputs": [
    {
     "data": {
      "text/plain": [
       "'\\ntrain_df.loc[train_df[\"Girisimcilikle Ilgili Deneyiminizi Aciklayabilir misiniz?\"].str.contains(\\'GIRISIM|SIRKET\\', case=False, na=False), \\'Girişimci\\'] = 1\\ntest_df.loc[test_df[\"Girisimcilikle Ilgili Deneyiminizi Aciklayabilir misiniz?\"].str.contains(\\'GIRISIM|SIRKET\\', case=False, na=False), \\'Girişimci\\'] = 1\\n                                                              \\ntrain_df[\"Girişimci\"] = train_df[\"Girişimci\"].fillna(0)\\ntest_df[\"Girişimci\"] = train_df[\"Girişimci\"].fillna(0)\\n\\ntrain_df.drop(columns = [\"Girisimcilikle Ilgili Deneyiminizi Aciklayabilir misiniz?\"], inplace=True)\\ntest_df.drop(columns = [\"Girisimcilikle Ilgili Deneyiminizi Aciklayabilir misiniz?\"], inplace=True)\\n'"
      ]
     },
     "execution_count": 11,
     "metadata": {},
     "output_type": "execute_result"
    }
   ],
   "source": [
    "\"\"\"\n",
    "train_df.loc[train_df[\"Girisimcilikle Ilgili Deneyiminizi Aciklayabilir misiniz?\"].str.contains('GIRISIM|SIRKET', case=False, na=False), 'Girişimci'] = 1\n",
    "test_df.loc[test_df[\"Girisimcilikle Ilgili Deneyiminizi Aciklayabilir misiniz?\"].str.contains('GIRISIM|SIRKET', case=False, na=False), 'Girişimci'] = 1\n",
    "                                                              \n",
    "train_df[\"Girişimci\"] = train_df[\"Girişimci\"].fillna(0)\n",
    "test_df[\"Girişimci\"] = train_df[\"Girişimci\"].fillna(0)\n",
    "\n",
    "train_df.drop(columns = [\"Girisimcilikle Ilgili Deneyiminizi Aciklayabilir misiniz?\"], inplace=True)\n",
    "test_df.drop(columns = [\"Girisimcilikle Ilgili Deneyiminizi Aciklayabilir misiniz?\"], inplace=True)\n",
    "\"\"\""
   ]
  },
  {
   "cell_type": "markdown",
   "id": "a4a4cfb0",
   "metadata": {
    "papermill": {
     "duration": 0.020712,
     "end_time": "2024-09-16T14:14:15.171648",
     "exception": false,
     "start_time": "2024-09-16T14:14:15.150936",
     "status": "completed"
    },
    "tags": []
   },
   "source": [
    "*Hangi STK*"
   ]
  },
  {
   "cell_type": "code",
   "execution_count": 12,
   "id": "58c4ff42",
   "metadata": {
    "execution": {
     "iopub.execute_input": "2024-09-16T14:14:15.216331Z",
     "iopub.status.busy": "2024-09-16T14:14:15.215484Z",
     "iopub.status.idle": "2024-09-16T14:14:15.222384Z",
     "shell.execute_reply": "2024-09-16T14:14:15.221506Z"
    },
    "papermill": {
     "duration": 0.031612,
     "end_time": "2024-09-16T14:14:15.224744",
     "exception": false,
     "start_time": "2024-09-16T14:14:15.193132",
     "status": "completed"
    },
    "tags": []
   },
   "outputs": [
    {
     "data": {
      "text/plain": [
       "'\\ntrain_df.loc[train_df[\"Hangi STK\\'nin Uyesisiniz?\"].str.contains(\\'AIESEC|TEMA|LOSEV|KIZILAY|YESILAY|TOG|TEGV|GREENPEACE|AKUT|YGA|TOPLUM|EGİTİM\\', \\n                                                                case=False, na=False), \\'STK\\'] = 1\\ntest_df.loc[test_df[\"Hangi STK\\'nin Uyesisiniz?\"].str.contains(\\'AIESEC|TEMA|LOSEV|KIZILAY|YESILAY|TOG|TEGV|GREENPEACE|AKUT|YGA|TOPLUM|EGİTİM\\', \\n                                                              case=False, na=False), \\'STK\\'] = 1\\n                                                              \\ntrain_df[\"STK\"] = train_df[\"STK\"].fillna(0)\\ntest_df[\"STK\"] = train_df[\"STK\"].fillna(0)\\n\\ntrain_df.drop(columns = [\"Hangi STK\\'nin Uyesisiniz?\"], inplace=True)\\ntest_df.drop(columns = [\"Hangi STK\\'nin Uyesisiniz?\"], inplace=True) \\n'"
      ]
     },
     "execution_count": 12,
     "metadata": {},
     "output_type": "execute_result"
    }
   ],
   "source": [
    "\"\"\"\n",
    "train_df.loc[train_df[\"Hangi STK'nin Uyesisiniz?\"].str.contains('AIESEC|TEMA|LOSEV|KIZILAY|YESILAY|TOG|TEGV|GREENPEACE|AKUT|YGA|TOPLUM|EGİTİM', \n",
    "                                                                case=False, na=False), 'STK'] = 1\n",
    "test_df.loc[test_df[\"Hangi STK'nin Uyesisiniz?\"].str.contains('AIESEC|TEMA|LOSEV|KIZILAY|YESILAY|TOG|TEGV|GREENPEACE|AKUT|YGA|TOPLUM|EGİTİM', \n",
    "                                                              case=False, na=False), 'STK'] = 1\n",
    "                                                              \n",
    "train_df[\"STK\"] = train_df[\"STK\"].fillna(0)\n",
    "test_df[\"STK\"] = train_df[\"STK\"].fillna(0)\n",
    "\n",
    "train_df.drop(columns = [\"Hangi STK'nin Uyesisiniz?\"], inplace=True)\n",
    "test_df.drop(columns = [\"Hangi STK'nin Uyesisiniz?\"], inplace=True) \n",
    "\"\"\""
   ]
  },
  {
   "cell_type": "markdown",
   "id": "f44aea87",
   "metadata": {
    "papermill": {
     "duration": 0.021257,
     "end_time": "2024-09-16T14:14:15.267492",
     "exception": false,
     "start_time": "2024-09-16T14:14:15.246235",
     "status": "completed"
    },
    "tags": []
   },
   "source": [
    "*Burs Miktarı*"
   ]
  },
  {
   "cell_type": "code",
   "execution_count": 13,
   "id": "5c7584ad",
   "metadata": {
    "execution": {
     "iopub.execute_input": "2024-09-16T14:14:15.311849Z",
     "iopub.status.busy": "2024-09-16T14:14:15.310897Z",
     "iopub.status.idle": "2024-09-16T14:14:15.588349Z",
     "shell.execute_reply": "2024-09-16T14:14:15.587382Z"
    },
    "papermill": {
     "duration": 0.302579,
     "end_time": "2024-09-16T14:14:15.590778",
     "exception": false,
     "start_time": "2024-09-16T14:14:15.288199",
     "status": "completed"
    },
    "tags": []
   },
   "outputs": [],
   "source": [
    "def clean_burs(burs_value):\n",
    "    # TL, ₺, LIRA gibi ifadeleri kaldır\n",
    "    \n",
    "    if not isinstance(burs_value, str):\n",
    "        return None\n",
    "    \n",
    "    burs_value = re.sub(r'TL|₺|LIRA|YTL', '', burs_value)\n",
    "    \n",
    "    # \"AYLIK\", \"TOPLAM\", \"YILLIK\" gibi metinleri kaldır\n",
    "    burs_value = re.sub(r'AYLIK|TOPLAM|YILLIK', '', burs_value, flags=re.IGNORECASE)\n",
    "    \n",
    "    # Metin içeren satırları (burs miktarını belirtmeyen) boş bırak\n",
    "    if not re.search(r'\\d+', burs_value):\n",
    "        return None\n",
    "    \n",
    "    # Sadece sayıları ve virgülleri tut\n",
    "    burs_value = re.findall(r'\\d+', burs_value)\n",
    "    \n",
    "    # Birden fazla sayı varsa, ortalamasını veya toplamını alabilirsin. Burada ortalama alınmıştır.\n",
    "    if len(burs_value) > 1:\n",
    "        return sum(map(int, burs_value)) // len(burs_value)\n",
    "    return int(burs_value[0])\n",
    "\n",
    "# Temizleme işlemi\n",
    "train_df['Parasal_Burs'] = train_df['Baska Kurumdan Aldigi Burs Miktari'].apply(clean_burs)\n",
    "test_df['Parasal_Burs'] = test_df['Baska Kurumdan Aldigi Burs Miktari'].apply(clean_burs)\n",
    "\n",
    "train_df.loc[train_df[\"Baska Kurumdan Aldigi Burs Miktari\"] == \"BIN TURK LIRASI\", \"Parasal_Burs\"] = 1000\n",
    "train_df.loc[train_df[\"Baska Kurumdan Aldigi Burs Miktari\"] == \"UCYUZ LIRA\", \"Parasal_Burs\"] = 300\n",
    "train_df.loc[train_df[\"Baska Kurumdan Aldigi Burs Miktari\"] == \"KYK\", \"Parasal_Burs\"] = 425\n",
    "train_df.loc[train_df[\"Baska Kurumdan Aldigi Burs Miktari\"] == \"SPOR GENCLIK BAKANLIGI\", \"Parasal_Burs\"] = 425\n",
    "train_df.loc[train_df[\"Baska Kurumdan Aldigi Burs Miktari\"] == \"GERI ODEMELI KYK BURSU\", \"Parasal_Burs\"] = 425\n",
    "train_df.loc[train_df[\"Baska Kurumdan Aldigi Burs Miktari\"] == \"KYK BURSU KADAR\", \"Parasal_Burs\"] = 425\n",
    "\n",
    "train_df[\"Parasal_Burs\"] = train_df[\"Parasal_Burs\"].fillna(0)\n",
    "test_df[\"Parasal_Burs\"] = test_df[\"Parasal_Burs\"].fillna(0)"
   ]
  },
  {
   "cell_type": "markdown",
   "id": "59ea71ea",
   "metadata": {
    "papermill": {
     "duration": 0.021123,
     "end_time": "2024-09-16T14:14:15.633355",
     "exception": false,
     "start_time": "2024-09-16T14:14:15.612232",
     "status": "completed"
    },
    "tags": []
   },
   "source": [
    "*İL İLÇE*"
   ]
  },
  {
   "cell_type": "code",
   "execution_count": 14,
   "id": "5f1f6f68",
   "metadata": {
    "execution": {
     "iopub.execute_input": "2024-09-16T14:14:15.677665Z",
     "iopub.status.busy": "2024-09-16T14:14:15.676885Z",
     "iopub.status.idle": "2024-09-16T14:15:46.791699Z",
     "shell.execute_reply": "2024-09-16T14:15:46.790653Z"
    },
    "papermill": {
     "duration": 91.139789,
     "end_time": "2024-09-16T14:15:46.794306",
     "exception": false,
     "start_time": "2024-09-16T14:14:15.654517",
     "status": "completed"
    },
    "tags": []
   },
   "outputs": [],
   "source": [
    "# İlçeleri il ile değiştirme işlemi\n",
    "il_ilce_mapping = dict(zip(il_ilce['ilce'], il_ilce['il']))\n",
    "train_df['Dogum_Yeri'] = train_df['Dogum Yeri'].replace(il_ilce_mapping, regex=True)\n",
    "\n",
    "def clean_location(loc):\n",
    "    if pd.isna(loc):\n",
    "        return loc\n",
    "    loc = str(loc)\n",
    "    parts = re.split('[,/ -]', loc)\n",
    "    for part in parts:\n",
    "        part = part.strip().upper()\n",
    "        if part in il_ilce_mapping:\n",
    "            return il_ilce_mapping[part]\n",
    "    return loc\n",
    "\n",
    "train_df['Dogum_Yeri'] = train_df['Dogum Yeri'].apply(clean_location)\n"
   ]
  },
  {
   "cell_type": "markdown",
   "id": "b628bf9e",
   "metadata": {
    "papermill": {
     "duration": 0.021016,
     "end_time": "2024-09-16T14:15:46.836577",
     "exception": false,
     "start_time": "2024-09-16T14:15:46.815561",
     "status": "completed"
    },
    "tags": []
   },
   "source": [
    "*DOĞUM YERİ*"
   ]
  },
  {
   "cell_type": "code",
   "execution_count": 15,
   "id": "5a01b241",
   "metadata": {
    "execution": {
     "iopub.execute_input": "2024-09-16T14:15:46.881951Z",
     "iopub.status.busy": "2024-09-16T14:15:46.881569Z",
     "iopub.status.idle": "2024-09-16T14:15:49.249678Z",
     "shell.execute_reply": "2024-09-16T14:15:49.248851Z"
    },
    "papermill": {
     "duration": 2.393786,
     "end_time": "2024-09-16T14:15:49.251993",
     "exception": false,
     "start_time": "2024-09-16T14:15:46.858207",
     "status": "completed"
    },
    "tags": []
   },
   "outputs": [],
   "source": [
    "train_df.loc[train_df[\"Dogum_Yeri\"] == \"CANAKKALE-MERKEZ\", \"Dogum_Yeri\"] = \"HATAY\"\n",
    "train_df.loc[train_df[\"Dogum_Yeri\"] == \"YUSUFELIARTVIN\", \"Dogum_Yeri\"] = \"ARTVIN\"\n",
    "train_df.loc[train_df[\"Dogum_Yeri\"] == \"BORCKAARTVIN\", \"Dogum_Yeri\"] = \"ARTVIN\"\n",
    "train_df.loc[train_df[\"Dogum_Yeri\"] == \"AMASYA MERKEZ\", \"Dogum_Yeri\"] = \"AMASYA\"\n",
    "train_df.loc[train_df[\"Dogum_Yeri\"] == \"KASTAMONUCIDE\", \"Dogum_Yeri\"] = \"KASTAMONU\"\n",
    "train_df.loc[train_df[\"Dogum_Yeri\"] == \"SULTANBELI-ISTANBUL\", \"Dogum_Yeri\"] = \"ISTANBUL\"\n",
    "train_df.loc[train_df[\"Dogum_Yeri\"] == \"MALATYAMERKEZ\", \"Dogum_Yeri\"] = \"MALATYA\"\n",
    "train_df.loc[train_df[\"Dogum_Yeri\"] == \"MUGLA MERKEZ\", \"Dogum_Yeri\"] = \"MUGLA\"\n",
    "train_df.loc[train_df[\"Dogum_Yeri\"] == \"VAN MERKEZ\", \"Dogum_Yeri\"] = \"VAN\"\n",
    "train_df.loc[train_df[\"Dogum_Yeri\"] == \"KDZ.EREGLI\", \"Dogum_Yeri\"] = \"ZONGULDAK\"\n",
    "train_df.loc[train_df[\"Dogum_Yeri\"] == \"EMINONU\", \"Dogum_Yeri\"] = \"ISTANBUL\"\n",
    "train_df.loc[train_df[\"Dogum_Yeri\"] == \"KAGITHANE/IST\", \"Dogum_Yeri\"] = \"ISTANBUL\"\n",
    "train_df.loc[train_df[\"Dogum_Yeri\"] == \"ISTANBUL-EMINONU\", \"Dogum_Yeri\"] = \"ISTANBUL\"\n",
    "train_df.loc[train_df[\"Dogum_Yeri\"] == \"EYUP\", \"Dogum_Yeri\"] = \"ISTANBUL\"\n",
    "train_df.loc[train_df[\"Dogum_Yeri\"] == \"ANKARA/K.OREN\", \"Dogum_Yeri\"] = \"ANKARA\"\n",
    "train_df.loc[train_df[\"Dogum_Yeri\"] == \"MERKEZ/TOKAT\", \"Dogum_Yeri\"] = \"TOKAT\"\n",
    "train_df.loc[train_df[\"Dogum_Yeri\"] == \"LEFKOSE\", \"Dogum_Yeri\"] = \"KKTC\"\n",
    "train_df.loc[train_df[\"Dogum_Yeri\"] == \"K.MARAS\", \"Dogum_Yeri\"] = \"KAHRAMANMARAS\"\n",
    "train_df.loc[train_df[\"Dogum_Yeri\"] == \"NIGDE - MERKEZ\", \"Dogum_Yeri\"] = \"NIGDE\"\n",
    "train_df.loc[train_df[\"Dogum_Yeri\"] == \"ESKISEHIR/MERKEZ\", \"Dogum_Yeri\"] = \"ESKISEHIR\"\n",
    "train_df.loc[train_df[\"Dogum_Yeri\"] == \"ZONGULDAK/ MERKEZ\", \"Dogum_Yeri\"] = \"ZONGULDAK\"\n",
    "train_df.loc[train_df[\"Dogum_Yeri\"] == \"BOLU MERKEZ\", \"Dogum_Yeri\"] = \"BOLU\"\n",
    "train_df.loc[train_df[\"Dogum_Yeri\"] == \"NAZIILI / AYDIN\", \"Dogum_Yeri\"] = \"AYDIN\"\n",
    "train_df.loc[train_df[\"Dogum_Yeri\"] == \"KKTC/MAGOSA\", \"Dogum_Yeri\"] = \"KKTC\"\n",
    "train_df.loc[train_df[\"Dogum_Yeri\"] == \"AFYON\", \"Dogum_Yeri\"] = \"AFYONKARAHISAR\"\n",
    "train_df.loc[train_df[\"Dogum_Yeri\"] == \"?IRIKKALE\", \"Dogum_Yeri\"] = \"KIRIKKALE\"\n",
    "train_df.loc[train_df[\"Dogum_Yeri\"] == \"ISTANBUL/TURKIYE\", \"Dogum_Yeri\"] = \"ISTANBUL\"\n",
    "train_df.loc[train_df[\"Dogum_Yeri\"] == \"ISTANBUL EMINONU\", \"Dogum_Yeri\"] = \"ISTANBUL\"\n",
    "train_df.loc[train_df[\"Dogum_Yeri\"] == \"LEVENT/IST\", \"Dogum_Yeri\"] = \"ISTANBUL\"\n",
    "train_df.loc[train_df[\"Dogum_Yeri\"] == \"KAGITHANE\", \"Dogum_Yeri\"] = \"ISTANBUL\"\n",
    "train_df.loc[train_df[\"Dogum_Yeri\"] == \"USKIDAR\", \"Dogum_Yeri\"] = \"ISTANBUL\"\n",
    "train_df.loc[train_df[\"Dogum_Yeri\"] == \"GOSTEPE/ISTANBUL\", \"Dogum_Yeri\"] = \"ISTANBUL\"\n",
    "train_df.loc[train_df[\"Dogum_Yeri\"] == \"BAKIRKOYISTANBUL\", \"Dogum_Yeri\"] = \"ISTANBUL\"\n",
    "train_df.loc[train_df[\"Dogum_Yeri\"] == \"K.CEKMECE\", \"Dogum_Yeri\"] = \"ISTANBUL\"\n",
    "train_df.loc[train_df[\"Dogum_Yeri\"] == \"SELCUKULU/KONYA\", \"Dogum_Yeri\"] = \"KONYA\"\n",
    "train_df.loc[train_df[\"Dogum_Yeri\"] == \"KOSKLUCIFTLIK- LEFKOSA\", \"Dogum_Yeri\"] = \"KKTC\"\n",
    "train_df.loc[train_df[\"Dogum_Yeri\"] == \"SIVAS/MERKEZ\", \"Dogum_Yeri\"] = \"SIVAS\"\n",
    "train_df.loc[train_df[\"Dogum_Yeri\"] == \"KONYASELCUKLU\", \"Dogum_Yeri\"] = \"KONYA\"\n",
    "train_df.loc[train_df[\"Dogum_Yeri\"] == \"KAHRAMANMARAS/MERKEZ\", \"Dogum_Yeri\"] = \"KAHRAMANMARAS\"\n",
    "train_df.loc[train_df[\"Dogum_Yeri\"] == \"MUGLA/MERKEZ\", \"Dogum_Yeri\"] = \"MUGLA\"\n",
    "train_df.loc[train_df[\"Dogum_Yeri\"] == \"ERURUM\", \"Dogum_Yeri\"] = \"ERZURUM\"\n",
    "train_df.loc[train_df[\"Dogum_Yeri\"] == \"LEFKOSA\", \"Dogum_Yeri\"] = \"KKTC\"\n",
    "train_df.loc[train_df[\"Dogum_Yeri\"] == \"D.BAYAZIT/ AGRI\", \"Dogum_Yeri\"] = \"AGRI\"\n",
    "train_df.loc[train_df[\"Dogum_Yeri\"] == \"MALATYA/MERKEZ\", \"Dogum_Yeri\"] = \"MALATYA\"\n",
    "train_df.loc[train_df[\"Dogum_Yeri\"] == \"CORUM MERKEZ\", \"Dogum_Yeri\"] = \"CORUM\"\n",
    "train_df.loc[train_df[\"Dogum_Yeri\"] == \"ADIYAMAN / MERKEZ\", \"Dogum_Yeri\"] = \"ADIYAMAN\"\n",
    "train_df.loc[train_df[\"Dogum_Yeri\"] == \"KDZ.EREGLI/ZONGULDAK\", \"Dogum_Yeri\"] = \"ZONGULDAK\"\n",
    "train_df.loc[train_df[\"Dogum_Yeri\"] == \"YENIMAHALLEANKARA\", \"Dogum_Yeri\"] = \"ANKARA\"\n",
    "train_df.loc[train_df[\"Dogum_Yeri\"] == \"ELAZIG/MERKEZ\", \"Dogum_Yeri\"] = \"ANKARA\"\n",
    "train_df.loc[train_df[\"Dogum_Yeri\"] == \"BOLU-MERKEZ\", \"Dogum_Yeri\"] = \"ANKARA\"\n",
    "train_df.loc[train_df[\"Dogum_Yeri\"] == \"GLRESUN\", \"Dogum_Yeri\"] = \"GIRESUN\"\n",
    "train_df.loc[train_df[\"Dogum_Yeri\"] == \"KILIS/MERKEZ\", \"Dogum_Yeri\"] = \"KILIS\"\n",
    "train_df.loc[train_df[\"Dogum_Yeri\"] == \"SIVAS MERKEZ\", \"Dogum_Yeri\"] = \"SIVAS\"\n",
    "train_df.loc[train_df[\"Dogum_Yeri\"] == \"ERKEZ/AKSARAY\", \"Dogum_Yeri\"] = \"AKSARAY\"\n",
    "train_df.loc[train_df[\"Dogum_Yeri\"] == \"GAZIANTEPNIZIP\", \"Dogum_Yeri\"] = \"GAZIANTEP\"\n",
    "train_df.loc[train_df[\"Dogum_Yeri\"] == \"TOKAT/ MERKEZ\", \"Dogum_Yeri\"] = \"TOKAT\"\n",
    "train_df.loc[train_df[\"Dogum_Yeri\"] == \"CEKIRGE\", \"Dogum_Yeri\"] = \"BURSA\"\n",
    "train_df.loc[train_df[\"Dogum_Yeri\"] == \"MERKEZ/AKSARAY\", \"Dogum_Yeri\"] = \"AKSARAY\"\n",
    "train_df.loc[train_df[\"Dogum_Yeri\"] == \"BALIKESIR / BURHANSYE\", \"Dogum_Yeri\"] = \"BALIKESIR\"\n",
    "train_df.loc[train_df[\"Dogum_Yeri\"] == \"DENIZLI MERKEZ\", \"Dogum_Yeri\"] = \"DENIZLI\"\n",
    "train_df.loc[train_df[\"Dogum_Yeri\"] == \"ISTANBUL/EYUP\", \"Dogum_Yeri\"] = \"ISTANBUL\"\n",
    "train_df.loc[train_df[\"Dogum_Yeri\"] == \"MERKEZ/ELAZIG\", \"Dogum_Yeri\"] = \"ELAZIG\"\n",
    "train_df.loc[train_df[\"Dogum_Yeri\"] == \"SANSUN\", \"Dogum_Yeri\"] = \"SAMSUN\"\n",
    "train_df.loc[train_df[\"Dogum_Yeri\"] == \"DIYARBAKIR/ MERKEZ\", \"Dogum_Yeri\"] = \"DIYARBAKIR\"\n",
    "train_df.loc[train_df[\"Dogum_Yeri\"] == \"TAKSIM/ISTANBUL\", \"Dogum_Yeri\"] = \"ISTANBUL\"\n",
    "train_df.loc[train_df[\"Dogum_Yeri\"] == \"CORUM/TURKIYE\", \"Dogum_Yeri\"] = \"CORUM\"\n",
    "train_df.loc[train_df[\"Dogum_Yeri\"] == \"MUS MERKEZ\", \"Dogum_Yeri\"] = \"MUS\"\n",
    "train_df.loc[train_df[\"Dogum_Yeri\"] == \"DUZCE/MERKEZ\", \"Dogum_Yeri\"] = \"DUZCE\"\n",
    "train_df.loc[train_df[\"Dogum_Yeri\"] == \"ISTANBUL-GOZTEPE\", \"Dogum_Yeri\"] = \"ISTANBUL\"\n",
    "train_df.loc[train_df[\"Dogum_Yeri\"] == \"TRABZON MERKEZ\", \"Dogum_Yeri\"] = \"TRABZON\"\n",
    "train_df.loc[train_df[\"Dogum_Yeri\"] == \"YUMURTALIKADANA\", \"Dogum_Yeri\"] = \"ADANA\"\n",
    "train_df.loc[train_df[\"Dogum_Yeri\"] == \"BURSAYILDIRIM\", \"Dogum_Yeri\"] = \"BURSA\"\n",
    "train_df.loc[train_df[\"Dogum_Yeri\"] == \"YENI MAHALLE /ANKARA\", \"Dogum_Yeri\"] = \"ANKARA\"\n",
    "train_df.loc[train_df[\"Dogum_Yeri\"] == \"EMNONU\", \"Dogum_Yeri\"] = \"ISTANBUL\"\n",
    "train_df.loc[train_df[\"Dogum_Yeri\"] == \"ANKARA/YENIMAHHALE\", \"Dogum_Yeri\"] = \"ANKARA\"\n",
    "train_df.loc[train_df[\"Dogum_Yeri\"] == \"KUTAHYATAVSANLI\", \"Dogum_Yeri\"] = \"KUTAHYA\"\n",
    "train_df.loc[train_df[\"Dogum_Yeri\"] == \"OSMAN GAZI / BURSA\", \"Dogum_Yeri\"] = \"BURSA\"\n",
    "train_df.loc[train_df[\"Dogum_Yeri\"] == \"GEDIZKUTAHYA\", \"Dogum_Yeri\"] = \"KUTAHYA\"\n",
    "train_df.loc[train_df[\"Dogum_Yeri\"] == \"TEKIRDAGCORLU\", \"Dogum_Yeri\"] = \"TEKIRDAG\"\n",
    "train_df.loc[train_df[\"Dogum_Yeri\"] == \"ORDUUNYE\", \"Dogum_Yeri\"] = \"ORDU\"\n",
    "train_df.loc[train_df[\"Dogum_Yeri\"] == \"KAMANKIRSHIR\", \"Dogum_Yeri\"] = \"KIRSEHIR\"\n",
    "train_df.loc[train_df[\"Dogum_Yeri\"] == \"KESAN\", \"Dogum_Yeri\"] = \"EDIRNE\"\n",
    "train_df.loc[train_df[\"Dogum_Yeri\"] == \"AYDIN / MERKEZ\", \"Dogum_Yeri\"] = \"AYDIN\"\n",
    "train_df.loc[train_df[\"Dogum_Yeri\"] == \"HATAY ISKEBDERUN\", \"Dogum_Yeri\"] = \"HATAY\"\n",
    "train_df.loc[train_df[\"Dogum_Yeri\"] == \"CUMHURIYET MAHALLESI.LALE SOKAK.ERDIL APARTMANI.NO:16 DAIRE:2\", \"Dogum_Yeri\"] = \"ISTANBUL\"\n",
    "train_df.loc[train_df[\"Dogum_Yeri\"] == \"ERZINCA\", \"Dogum_Yeri\"] = \"ERZINCAN\"\n",
    "train_df.loc[train_df[\"Dogum_Yeri\"] == \"M.K.PASA/BURSA\", \"Dogum_Yeri\"] = \"BURSA\"\n",
    "train_df.loc[train_df[\"Dogum_Yeri\"] == \"S.URFA\", \"Dogum_Yeri\"] = \"SANLIURFA\"\n",
    "train_df.loc[train_df[\"Dogum_Yeri\"] == \"TOKAT-MERKEZ\", \"Dogum_Yeri\"] = \"TOKAT\"\n",
    "train_df.loc[train_df[\"Dogum_Yeri\"] == \"AGRI/DOGUBEYAZIT\", \"Dogum_Yeri\"] = \"AGRI\"\n",
    "train_df.loc[train_df[\"Dogum_Yeri\"] == \"IZMIRKONAK\", \"Dogum_Yeri\"] = \"IZMIR\"\n",
    "train_df.loc[train_df[\"Dogum_Yeri\"] == \"TURKOGU/KAHRAMANMARAS\", \"Dogum_Yeri\"] = \"KAHRAMANMARAS\"\n",
    "train_df.loc[train_df[\"Dogum_Yeri\"] == \"KARAMAN/MERKEZ\", \"Dogum_Yeri\"] = \"KARAMAN\"\n",
    "train_df.loc[train_df[\"Dogum_Yeri\"] == \"ISTANBUL EYUP\", \"Dogum_Yeri\"] = \"ISTANBUL\"\n",
    "train_df.loc[train_df[\"Dogum_Yeri\"] == \"DIYARBAKIRDICLE\", \"Dogum_Yeri\"] = \"DIYARBAKIR\"\n",
    "train_df.loc[train_df[\"Dogum_Yeri\"] == \"G.ANTEP\", \"Dogum_Yeri\"] = \"GAZIANTEP\"\n",
    "train_df.loc[train_df[\"Dogum_Yeri\"] == \"MERKEZ/AYDIN\", \"Dogum_Yeri\"] = \"AYDIN\"\n",
    "train_df.loc[train_df[\"Dogum_Yeri\"] == \"ESKISEIR\", \"Dogum_Yeri\"] = \"ESKISEHIR\"\n",
    "train_df.loc[train_df[\"Dogum_Yeri\"] == \"KESAN.\", \"Dogum_Yeri\"] = \"EDIRNE\"\n",
    "train_df.loc[train_df[\"Dogum_Yeri\"] == \"ZONGULDAK / MERKEZ\", \"Dogum_Yeri\"] = \"ZONGULDAK\"\n",
    "train_df.loc[train_df[\"Dogum_Yeri\"] == \"SAMSUN-MERKEZ\", \"Dogum_Yeri\"] = \"SAMSUN\"\n",
    "train_df.loc[train_df[\"Dogum_Yeri\"] == \"EYUP/ISTANBUL\", \"Dogum_Yeri\"] = \"ISTANBUL\"\n",
    "train_df.loc[train_df[\"Dogum_Yeri\"] == \"AMASYA / MERKEZ\", \"Dogum_Yeri\"] = \"AMASYA\"\n",
    "train_df.loc[train_df[\"Dogum_Yeri\"] == \"EMINONU ISTANBUL\", \"Dogum_Yeri\"] = \"ISTANBUL\"\n",
    "train_df.loc[train_df[\"Dogum_Yeri\"] == \"KADIOY/ISTANBUL\", \"Dogum_Yeri\"] = \"ISTANBUL\"\n",
    "train_df.loc[train_df[\"Dogum_Yeri\"] == \"SULTANAHMET K.AYASOFYA/KAYITTA EMINONU\", \"Dogum_Yeri\"] = \"ISTANBUL\"\n",
    "train_df.loc[train_df[\"Dogum_Yeri\"] == \"KARAISALIADANA\", \"Dogum_Yeri\"] = \"ADANA\"\n",
    "train_df.loc[train_df[\"Dogum_Yeri\"] == \"KIRIKKALE/MERKEZ\", \"Dogum_Yeri\"] = \"KIRIKKALE\"\n",
    "train_df.loc[train_df[\"Dogum_Yeri\"] == \"SULTANBELI/IST.\", \"Dogum_Yeri\"] = \"ISTANBUL\"\n",
    "train_df.loc[train_df[\"Dogum_Yeri\"] == \"AGRI DOGUBEYAZIT\", \"Dogum_Yeri\"] = \"AGRI\"\n",
    "train_df.loc[train_df[\"Dogum_Yeri\"] == \"TAKSIM\", \"Dogum_Yeri\"] = \"ISTANBUL\"\n",
    "train_df.loc[train_df[\"Dogum_Yeri\"] == \"ADIYAMAN/MERKEZ\", \"Dogum_Yeri\"] = \"ADIYAMAN\"\n",
    "train_df.loc[train_df[\"Dogum_Yeri\"] == \"AGRI MERKEZ\", \"Dogum_Yeri\"] = \"AGRI\"\n",
    "train_df.loc[train_df[\"Dogum_Yeri\"] == \"ISTANBUL_USKUDAR\", \"Dogum_Yeri\"] = \"ISTANBUL\"\n",
    "train_df.loc[train_df[\"Dogum_Yeri\"] == \"MERKEZ-BARTIN\", \"Dogum_Yeri\"] = \"BARTIN\"\n",
    "train_df.loc[train_df[\"Dogum_Yeri\"] == \"RIZE/MERKEZ\", \"Dogum_Yeri\"] = \"RIZE\"\n",
    "train_df.loc[train_df[\"Dogum_Yeri\"] == \"DUZCE / MERKEZ\", \"Dogum_Yeri\"] = \"DUZCE\"\n",
    "train_df.loc[train_df[\"Dogum_Yeri\"] == \"POLATLI_ANKARA\", \"Dogum_Yeri\"] = \"ANKARA\"\n",
    "train_df.loc[train_df[\"Dogum_Yeri\"] == \"MRSIN\", \"Dogum_Yeri\"] = \"MERSIN\"\n",
    "train_df.loc[train_df[\"Dogum_Yeri\"] == \"SALIHLIMANISA\", \"Dogum_Yeri\"] = \"MANISA\"\n",
    "train_df.loc[train_df[\"Dogum_Yeri\"] == \"SINCANLI - AFYON\", \"Dogum_Yeri\"] = \"AFYONKARAHISAR\"\n",
    "train_df.loc[train_df[\"Dogum_Yeri\"] == \"MERKEZ/SANLIURFA\", \"Dogum_Yeri\"] = \"SANLIURFA\"\n",
    "train_df.loc[train_df[\"Dogum_Yeri\"] == \"G.O.PASA\", \"Dogum_Yeri\"] = \"ISTANBUL\"\n",
    "train_df.loc[train_df[\"Dogum_Yeri\"] == \"ISTANBUL/AKSARAY\", \"Dogum_Yeri\"] = \"ISTANBUL\"\n",
    "train_df.loc[train_df[\"Dogum_Yeri\"] == \"MERKEZ/MANISA\", \"Dogum_Yeri\"] = \"MANISA\"\n",
    "train_df.loc[train_df[\"Dogum_Yeri\"] == \"ISPARTA/MERKEZ\", \"Dogum_Yeri\"] = \"ISPARTA\"\n",
    "train_df.loc[train_df[\"Dogum_Yeri\"] == \"MANISA- MERKEZ\", \"Dogum_Yeri\"] = \"MANISA\"\n",
    "train_df.loc[train_df[\"Dogum_Yeri\"] == \"ISTANBULBAKIRKOY\", \"Dogum_Yeri\"] = \"ISTANBUL\"\n",
    "train_df.loc[train_df[\"Dogum_Yeri\"] == \"KARABUK / MERKEZ\", \"Dogum_Yeri\"] = \"KARABUK\"\n",
    "train_df.loc[train_df[\"Dogum_Yeri\"] == \"MERKEZ / TOKAT\", \"Dogum_Yeri\"] = \"TOKAT\"\n",
    "train_df.loc[train_df[\"Dogum_Yeri\"] == \"SIIVAS\", \"Dogum_Yeri\"] = \"SIVAS\"\n",
    "train_df.loc[train_df[\"Dogum_Yeri\"] == \"SIVAS -MERKEZ\", \"Dogum_Yeri\"] = \"SIVAS\"\n",
    "train_df.loc[train_df[\"Dogum_Yeri\"] == \"KASTAMONU/MERKEZ\", \"Dogum_Yeri\"] = \"KASTAMONU\"\n",
    "train_df.loc[train_df[\"Dogum_Yeri\"] == \"DOGUBEYAZIT\", \"Dogum_Yeri\"] = \"AGRI\"\n",
    "train_df.loc[train_df[\"Dogum_Yeri\"] == \"AKSARAY/ MERKEZ\", \"Dogum_Yeri\"] = \"AKSARAY\"\n",
    "train_df.loc[train_df[\"Dogum_Yeri\"] == \"ANKAR7\", \"Dogum_Yeri\"] = \"ANKARA\"\n",
    "train_df.loc[train_df[\"Dogum_Yeri\"] == \"SANLUIRFA\", \"Dogum_Yeri\"] = \"SANLIURFA\"\n",
    "train_df.loc[train_df[\"Dogum_Yeri\"] == \"ADANASEYHAN\", \"Dogum_Yeri\"] = \"ADANA\"\n",
    "train_df.loc[train_df[\"Dogum_Yeri\"] == \"BITLIS/MERKEZ\", \"Dogum_Yeri\"] = \"BITLIS\"\n",
    "train_df.loc[train_df[\"Dogum_Yeri\"] == \"EMINONU-ISTANBUL\", \"Dogum_Yeri\"] = \"ISTANBUL\"\n",
    "train_df.loc[train_df[\"Dogum_Yeri\"] == \"VEZIRKORU\", \"Dogum_Yeri\"] = \"SAMSUN\"\n",
    "train_df.loc[train_df[\"Dogum_Yeri\"] == \"HAKKÂRI\", \"Dogum_Yeri\"] = \"HAKKARI\"\n",
    "\n",
    "\n",
    "\n",
    "train_df.loc[train_df[\"Dogum_Yeri\"] == \"GROSS-UMSTADTALMANYA\", \"Dogum_Yeri\"] = \"YURT DISI\"\n",
    "train_df.loc[train_df[\"Dogum_Yeri\"] == \"ABINGTON / USA\", \"Dogum_Yeri\"] = \"YURT DISI\"\n",
    "train_df.loc[train_df[\"Dogum_Yeri\"] == \"STATE COLLEGE ABD\", \"Dogum_Yeri\"] = \"YURT DISI\"\n",
    "train_df.loc[train_df[\"Dogum_Yeri\"] == \"MELBOURNE/AVUSTRALIA\", \"Dogum_Yeri\"] = \"YURT DISI\"\n",
    "train_df.loc[train_df[\"Dogum_Yeri\"] == \"KAZAKISTAN\", \"Dogum_Yeri\"] = \"YURT DISI\"\n",
    "train_df.loc[train_df[\"Dogum_Yeri\"] == \"RUSYA\", \"Dogum_Yeri\"] = \"YURT DISI\"\n",
    "train_df.loc[train_df[\"Dogum_Yeri\"] == \"MEKKE/S.ARABISTAN\", \"Dogum_Yeri\"] = \"YURT DISI\"\n",
    "train_df.loc[train_df[\"Dogum_Yeri\"] == \"MEKKE\", \"Dogum_Yeri\"] = \"YURT DISI\"\n",
    "train_df.loc[train_df[\"Dogum_Yeri\"] == \"BRISTOL\", \"Dogum_Yeri\"] = \"YURT DISI\"\n",
    "train_df.loc[train_df[\"Dogum_Yeri\"] == \"TRABLUS / LIBYA\", \"Dogum_Yeri\"] = \"YURT DISI\"\n",
    "train_df.loc[train_df[\"Dogum_Yeri\"] == \"SUUDI ARABISTAN\", \"Dogum_Yeri\"] = \"YURT DISI\"\n",
    "train_df.loc[train_df[\"Dogum_Yeri\"] == \"VIYANA\", \"Dogum_Yeri\"] = \"YURT DISI\"\n",
    "train_df.loc[train_df[\"Dogum_Yeri\"] == \"KAHIRE\", \"Dogum_Yeri\"] = \"YURT DISI\"\n",
    "train_df.loc[train_df[\"Dogum_Yeri\"] == \"BAKU\", \"Dogum_Yeri\"] = \"YURT DISI\"\n",
    "train_df.loc[train_df[\"Dogum_Yeri\"] == \"EDE/HOLLANDA\", \"Dogum_Yeri\"] = \"YURT DISI\"\n",
    "train_df.loc[train_df[\"Dogum_Yeri\"] == \"KÂHTA\", \"Dogum_Yeri\"] = \"YURT DISI\"\n",
    "train_df.loc[train_df[\"Dogum_Yeri\"] == \"GURCISTAN / BOLNISI\", \"Dogum_Yeri\"] = \"YURT DISI\"\n",
    "train_df.loc[train_df[\"Dogum_Yeri\"] == \"BORCKAARTVIN\", \"Dogum_Yeri\"] = \"YURT DISI\"\n",
    "train_df.loc[train_df[\"Dogum_Yeri\"] == \"TEHRAN / IRAN\", \"Dogum_Yeri\"] = \"YURT DISI\"\n",
    "train_df.loc[train_df[\"Dogum_Yeri\"] == \"KACANIK, KOSOVA\", \"Dogum_Yeri\"] = \"YURT DISI\"\n",
    "train_df.loc[train_df[\"Dogum_Yeri\"] == \"AZERBEYCAN AHISKA TURKU\", \"Dogum_Yeri\"] = \"YURT DISI\"\n",
    "train_df.loc[train_df[\"Dogum_Yeri\"] == \"KOPNYA\", \"Dogum_Yeri\"] = \"YURT DISI\"\n",
    "train_df.loc[train_df[\"Dogum_Yeri\"] == \"BAKU, AZERBAYCAN\", \"Dogum_Yeri\"] = \"YURT DISI\"\n",
    "train_df.loc[train_df[\"Dogum_Yeri\"] == \"ISVICRE/RHEINFELDEN\", \"Dogum_Yeri\"] = \"YURT DISI\"\n",
    "train_df.loc[train_df[\"Dogum_Yeri\"] == \"ALMANYA\", \"Dogum_Yeri\"] = \"YURT DISI\"\n",
    "train_df.loc[train_df[\"Dogum_Yeri\"] == \"NOTTINGHAM/ INGILTERE\", \"Dogum_Yeri\"] = \"YURT DISI\"\n",
    "train_df.loc[train_df[\"Dogum_Yeri\"] == \"NOTTINGHAM/ INGILTERE\", \"Dogum_Yeri\"] = \"YURT DISI\"\n",
    "train_df.loc[train_df[\"Dogum_Yeri\"] == \"ALABAMA/ABD\", \"Dogum_Yeri\"] = \"YURT DISI\"\n",
    "train_df.loc[train_df[\"Dogum_Yeri\"] == \"DUISBURG\", \"Dogum_Yeri\"] = \"YURT DISI\"\n",
    "train_df.loc[train_df[\"Dogum_Yeri\"] == \"WUPPERTAL ALMANYA\", \"Dogum_Yeri\"] = \"YURT DISI\"\n",
    "train_df.loc[train_df[\"Dogum_Yeri\"] == \"STUTTGART / ALMANYA\", \"Dogum_Yeri\"] = \"YURT DISI\"\n",
    "train_df.loc[train_df[\"Dogum_Yeri\"] == \"BRATOSH, SHKODER, ARNAVUTLUK\", \"Dogum_Yeri\"] = \"YURT DISI\"\n",
    "train_df.loc[train_df[\"Dogum_Yeri\"] == \"AZERBAYCAN / BAKU\", \"Dogum_Yeri\"] = \"YURT DISI\"\n",
    "train_df.loc[train_df[\"Dogum_Yeri\"] == \"ALIAGAIZMIR\", \"Dogum_Yeri\"] = \"YURT DISI\"\n",
    "train_df.loc[train_df[\"Dogum_Yeri\"] == \"KIRGIZISTAN/OS\", \"Dogum_Yeri\"] = \"YURT DISI\"\n",
    "train_df.loc[train_df[\"Dogum_Yeri\"] == \"CIDDE/SJ\", \"Dogum_Yeri\"] = \"YURT DISI\"\n",
    "train_df.loc[train_df[\"Dogum_Yeri\"] == \"KOLN / ALMANYA\", \"Dogum_Yeri\"] = \"YURT DISI\"\n",
    "train_df.loc[train_df[\"Dogum_Yeri\"] == \"BOLTON - INGILTERE\", \"Dogum_Yeri\"] = \"YURT DISI\"\n",
    "train_df.loc[train_df[\"Dogum_Yeri\"] == \"TACIKISTAN\", \"Dogum_Yeri\"] = \"YURT DISI\"\n",
    "train_df.loc[train_df[\"Dogum_Yeri\"] == \"HOF/ALMANYA\", \"Dogum_Yeri\"] = \"YURT DISI\"\n",
    "train_df.loc[train_df[\"Dogum_Yeri\"] == \"KÂHTA\", \"Dogum_Yeri\"] = \"YURT DISI\"\n",
    "train_df.loc[train_df[\"Dogum_Yeri\"] == \"CHARSADDA-PAKISTAN\", \"Dogum_Yeri\"] = \"YURT DISI\"\n",
    "train_df.loc[train_df[\"Dogum_Yeri\"] == \"AZERBAYCAN,BAKU\", \"Dogum_Yeri\"] = \"YURT DISI\"\n",
    "train_df.loc[train_df[\"Dogum_Yeri\"] == \"BULGARISTAN\", \"Dogum_Yeri\"] = \"YURT DISI\"\n",
    "train_df.loc[train_df[\"Dogum_Yeri\"] == \"KAZAKISTAN TURK VATANDASIYIM\", \"Dogum_Yeri\"] = \"YURT DISI\"\n",
    "train_df.loc[train_df[\"Dogum_Yeri\"] == \"UKRAYNA/SEVASTOPOL\", \"Dogum_Yeri\"] = \"YURT DISI\"\n",
    "train_df.loc[train_df[\"Dogum_Yeri\"] == \"KAZAN\", \"Dogum_Yeri\"] = \"YURT DISI\"\n",
    "train_df.loc[train_df[\"Dogum_Yeri\"] == \"BERLIN\", \"Dogum_Yeri\"] = \"YURT DISI\"\n",
    "train_df.loc[train_df[\"Dogum_Yeri\"] == \"DEMOKRATIK KONGO CUMHURIYETI KINSHASA\", \"Dogum_Yeri\"] = \"YURT DISI\"\n",
    "train_df.loc[train_df[\"Dogum_Yeri\"] == \"KIRCALI - BULGARISTAN\", \"Dogum_Yeri\"] = \"YURT DISI\"\n",
    "train_df.loc[train_df[\"Dogum_Yeri\"] == \"TERVEL/BULGARISTAN\", \"Dogum_Yeri\"] = \"YURT DISI\"\n",
    "train_df.loc[train_df[\"Dogum_Yeri\"] == \"GLEIZE / FRANSA 69400\", \"Dogum_Yeri\"] = \"YURT DISI\"\n",
    "train_df.loc[train_df[\"Dogum_Yeri\"] == \"ALMANYA/KEMPTEN\", \"Dogum_Yeri\"] = \"YURT DISI\"\n",
    "train_df.loc[train_df[\"Dogum_Yeri\"] == \"MACOO\", \"Dogum_Yeri\"] = \"YURT DISI\"\n",
    "train_df.loc[train_df[\"Dogum_Yeri\"] == \"GERCUS.\", \"Dogum_Yeri\"] = \"YURT DISI\"\n",
    "train_df.loc[train_df[\"Dogum_Yeri\"] == \"SCHORNDORF/ALMANYA\", \"Dogum_Yeri\"] = \"YURT DISI\"\n",
    "train_df.loc[train_df[\"Dogum_Yeri\"] == \"STOCKHOLM / ISVEC\", \"Dogum_Yeri\"] = \"YURT DISI\"\n",
    "train_df.loc[train_df[\"Dogum_Yeri\"] == \"SEKI,AZERBAYCAN\", \"Dogum_Yeri\"] = \"YURT DISI\"\n",
    "train_df.loc[train_df[\"Dogum_Yeri\"] == \"HOLLANDA\", \"Dogum_Yeri\"] = \"YURT DISI\"\n",
    "train_df.loc[train_df[\"Dogum_Yeri\"] == \"LAZKIYE, SURIYE\", \"Dogum_Yeri\"] = \"YURT DISI\"\n",
    "train_df.loc[train_df[\"Dogum_Yeri\"] == \"AZERBAYCAN\", \"Dogum_Yeri\"] = \"YURT DISI\"\n",
    "train_df.loc[train_df[\"Dogum_Yeri\"] == \"ALTINTS\", \"Dogum_Yeri\"] = \"YURT DISI\"\n",
    "train_df.loc[train_df[\"Dogum_Yeri\"] == \"KAHIRE/MISIR\", \"Dogum_Yeri\"] = \"YURT DISI\"\n",
    "train_df.loc[train_df[\"Dogum_Yeri\"] == \"34239\", \"Dogum_Yeri\"] = \"YURT DISI\"\n",
    "\n",
    "train_df = train_df[~train_df['Dogum_Yeri'].str.upper().isin(['TURKIYE', 'DIGER', '2/21/1991', \"------\"])]\n",
    "\n",
    "train_df[\"Dogum_Yeri\"] = train_df[\"Dogum_Yeri\"].fillna(\"BILINMIYOR\")\n",
    "\n",
    "test_df[\"Dogum_Yeri\"] = test_df[\"Dogum Yeri\"]\n",
    "\n",
    "train_df.drop(columns = [\"Dogum Yeri\"], inplace=True)\n",
    "test_df.drop(columns = [\"Dogum Yeri\"], inplace=True)\n"
   ]
  },
  {
   "cell_type": "markdown",
   "id": "1a05b2d1",
   "metadata": {
    "papermill": {
     "duration": 0.022179,
     "end_time": "2024-09-16T14:15:49.296097",
     "exception": false,
     "start_time": "2024-09-16T14:15:49.273918",
     "status": "completed"
    },
    "tags": []
   },
   "source": [
    "*IKAMETGAH SEHRİ*"
   ]
  },
  {
   "cell_type": "code",
   "execution_count": 16,
   "id": "eae65beb",
   "metadata": {
    "execution": {
     "iopub.execute_input": "2024-09-16T14:15:49.340370Z",
     "iopub.status.busy": "2024-09-16T14:15:49.339966Z",
     "iopub.status.idle": "2024-09-16T14:17:17.461276Z",
     "shell.execute_reply": "2024-09-16T14:17:17.460496Z"
    },
    "papermill": {
     "duration": 88.146241,
     "end_time": "2024-09-16T14:17:17.463843",
     "exception": false,
     "start_time": "2024-09-16T14:15:49.317602",
     "status": "completed"
    },
    "tags": []
   },
   "outputs": [],
   "source": [
    "# İlçeleri il ile değiştirme işlemi\n",
    "il_ilce_mapping = dict(zip(il_ilce['ilce'], il_ilce['il']))\n",
    "train_df['Ikametgah_Sehri'] = train_df['Ikametgah Sehri'].replace(il_ilce_mapping, regex=True)\n",
    "\n",
    "def clean_location(loc):\n",
    "    if pd.isna(loc):\n",
    "        return loc\n",
    "    loc = str(loc)\n",
    "    parts = re.split('[,/ -]', loc)\n",
    "    for part in parts:\n",
    "        part = part.strip().upper()\n",
    "        if part in il_ilce_mapping:\n",
    "            return il_ilce_mapping[part]\n",
    "    return loc\n",
    "\n",
    "train_df['Ikametgah_Sehri'] = train_df['Ikametgah Sehri'].apply(clean_location)"
   ]
  },
  {
   "cell_type": "code",
   "execution_count": 17,
   "id": "5a93d28a",
   "metadata": {
    "execution": {
     "iopub.execute_input": "2024-09-16T14:17:17.508490Z",
     "iopub.status.busy": "2024-09-16T14:17:17.507696Z",
     "iopub.status.idle": "2024-09-16T14:17:18.006832Z",
     "shell.execute_reply": "2024-09-16T14:17:18.005795Z"
    },
    "papermill": {
     "duration": 0.523954,
     "end_time": "2024-09-16T14:17:18.009350",
     "exception": false,
     "start_time": "2024-09-16T14:17:17.485396",
     "status": "completed"
    },
    "tags": []
   },
   "outputs": [],
   "source": [
    "train_df.loc[train_df[\"Ikametgah_Sehri\"] == \"FLORYA/ISTANBUL\", \"Ikametgah_Sehri\"] = \"ISTANBUL\"\n",
    "train_df.loc[train_df[\"Ikametgah_Sehri\"] == \"GIRNE\", \"Ikametgah_Sehri\"] = \"KKTC\"\n",
    "train_df.loc[train_df[\"Ikametgah_Sehri\"] == \"GAZIMAGUSA\", \"Ikametgah_Sehri\"] = \"KKTC\"\n",
    "train_df.loc[train_df[\"Ikametgah_Sehri\"] == \"LEFKOSA\", \"Ikametgah_Sehri\"] = \"KKTC\"\n",
    "train_df.loc[train_df[\"Ikametgah_Sehri\"] == \"LEFKE\", \"Ikametgah_Sehri\"] = \"KKTC\"\n",
    "train_df.loc[train_df[\"Ikametgah_Sehri\"] == \"GAZIMAGUSA\", \"Ikametgah_Sehri\"] = \"KKTC\"\n",
    "\n",
    "train_df.loc[train_df[\"Ikametgah_Sehri\"] == \"K.MARAS\", \"Ikametgah_Sehri\"] = \"KAHRAMANMARAS\"\n",
    "train_df.loc[train_df[\"Ikametgah_Sehri\"] == \"STANBUL\", \"Ikametgah_Sehri\"] = \"ISTANBUL\"\n",
    "train_df.loc[train_df[\"Ikametgah_Sehri\"] == \"AFYON\", \"Ikametgah_Sehri\"] = \"AFYONKARAHISAR\"\n",
    "train_df.loc[train_df[\"Ikametgah_Sehri\"] == \"KAGITHANE/ISTANBUL\", \"Ikametgah_Sehri\"] = \"ISTANBUL\"\n",
    "train_df.loc[train_df[\"Ikametgah_Sehri\"] == \"BAHCESEHIR/ISTANBUL\", \"Ikametgah_Sehri\"] = \"ISTANBUL\"\n",
    "train_df.loc[train_df[\"Ikametgah_Sehri\"] == \"FERIKOY/ISTANBUL\", \"Ikametgah_Sehri\"] = \"ISTANBUL\"\n",
    "train_df.loc[train_df[\"Ikametgah_Sehri\"] == \"ISTANBUL\\nNIGDE\", \"Ikametgah_Sehri\"] = \"ISTANBUL\"\n",
    "train_df.loc[train_df[\"Ikametgah_Sehri\"] == \"YENIBOSNA/ISTANBUL\", \"Ikametgah_Sehri\"] = \"ISTANBUL\"\n",
    "train_df.loc[train_df[\"Ikametgah_Sehri\"] == \"ISTANBUL,KOCAELI\", \"Ikametgah_Sehri\"] = \"ISTANBUL\"\n",
    "train_df.loc[train_df[\"Ikametgah_Sehri\"] == \"BATMAN/MERKEZ\", \"Ikametgah_Sehri\"] = \"BATMAN\"\n",
    "train_df.loc[train_df[\"Ikametgah_Sehri\"] == \"ERYAMAN/ANKARA\", \"Ikametgah_Sehri\"] = \"ANKARA\"\n",
    "train_df.loc[train_df[\"Ikametgah_Sehri\"] == \"HACETTEPE/ANKARA\", \"Ikametgah_Sehri\"] = \"ANKARA\"\n",
    "train_df.loc[train_df[\"Ikametgah_Sehri\"] == \"ODTU/ANKARA\", \"Ikametgah_Sehri\"] = \"ANKARA\"\n",
    "train_df.loc[train_df[\"Ikametgah_Sehri\"] == \"BILKENT/ANKARA\", \"Ikametgah_Sehri\"] = \"ANKARA\"\n",
    "train_df.loc[train_df[\"Ikametgah_Sehri\"] == \"MERKEZ/KASTAMONU\", \"Ikametgah_Sehri\"] = \"KASTAMONU\"\n",
    "train_df.loc[train_df[\"Ikametgah_Sehri\"] == \"MERSIN-ADANA\", \"Ikametgah_Sehri\"] = \"MERSIN\"\n",
    "train_df.loc[train_df[\"Ikametgah_Sehri\"] == \"İZMIR\", \"Ikametgah_Sehri\"] = \"IZMIR\"\n",
    "train_df.loc[train_df[\"Ikametgah_Sehri\"] == \"HAKKÂRI\", \"Ikametgah_Sehri\"] = \"HAKKARI\"\n",
    "\n",
    "\n",
    "\n",
    "train_df.loc[train_df[\"Ikametgah_Sehri\"] == \"HAMBURG\", \"Ikametgah_Sehri\"] = \"YURT DISI\"\n",
    "train_df.loc[train_df[\"Ikametgah_Sehri\"] == \"KIRGIZISTAN-BISKEK\", \"Ikametgah_Sehri\"] = \"YURT DISI\"\n",
    "train_df.loc[train_df[\"Ikametgah_Sehri\"] == \"NURNBERG\", \"Ikametgah_Sehri\"] = \"YURT DISI\"\n",
    "train_df.loc[train_df[\"Ikametgah_Sehri\"] == \"CIRISHANEE\", \"Ikametgah_Sehri\"] = \"YURT DISI\"\n",
    "train_df.loc[train_df[\"Ikametgah_Sehri\"] == \"GOTHAM\", \"Ikametgah_Sehri\"] = \"YURT DISI\"\n",
    "train_df.loc[train_df[\"Ikametgah_Sehri\"] == \"GOTHAMCITY\", \"Ikametgah_Sehri\"] = \"YURT DISI\"\n",
    "train_df.loc[train_df[\"Ikametgah_Sehri\"] == \"OSLO\", \"Ikametgah_Sehri\"] = \"YURT DISI\"\n",
    "train_df.loc[train_df[\"Ikametgah_Sehri\"] == \"OPENAIREQUESTFAILEDTIMEOUT\", \"Ikametgah_Sehri\"] = \"YURT DISI\"\n",
    "train_df.loc[train_df[\"Ikametgah_Sehri\"] == \"BAKU\", \"Ikametgah_Sehri\"] = \"YURT DISI\"\n",
    "\n",
    "train_df = train_df[~train_df['Ikametgah_Sehri'].str.upper().isin(['DIGER', \"------\"])]\n",
    "\n",
    "train_df[\"Ikametgah_Sehri\"] = train_df[\"Ikametgah_Sehri\"].fillna(\"BILINMIYOR\")\n",
    "\n",
    "test_df[\"Ikametgah_Sehri\"] = test_df[\"Ikametgah Sehri\"]\n",
    "\n",
    "train_df.drop(columns = [\"Ikametgah Sehri\"], inplace=True)\n",
    "test_df.drop(columns = [\"Ikametgah Sehri\"], inplace=True)\n"
   ]
  },
  {
   "cell_type": "markdown",
   "id": "6689de91",
   "metadata": {
    "papermill": {
     "duration": 0.024086,
     "end_time": "2024-09-16T14:17:18.056327",
     "exception": false,
     "start_time": "2024-09-16T14:17:18.032241",
     "status": "completed"
    },
    "tags": []
   },
   "source": [
    "*Lise Şehri*"
   ]
  },
  {
   "cell_type": "code",
   "execution_count": 18,
   "id": "4277ae06",
   "metadata": {
    "execution": {
     "iopub.execute_input": "2024-09-16T14:17:18.106916Z",
     "iopub.status.busy": "2024-09-16T14:17:18.106447Z",
     "iopub.status.idle": "2024-09-16T14:18:48.624741Z",
     "shell.execute_reply": "2024-09-16T14:18:48.623794Z"
    },
    "papermill": {
     "duration": 90.546674,
     "end_time": "2024-09-16T14:18:48.627310",
     "exception": false,
     "start_time": "2024-09-16T14:17:18.080636",
     "status": "completed"
    },
    "tags": []
   },
   "outputs": [],
   "source": [
    "import pandas as pd\n",
    "import re\n",
    "\n",
    "\n",
    "\n",
    "# İlçeleri il ile değiştirme işlemi\n",
    "il_ilce_mapping = dict(zip(il_ilce['ilce'], il_ilce['il']))\n",
    "train_df['Lise_Sehir'] = train_df['Lise Sehir'].replace(il_ilce_mapping, regex=True)\n",
    "\n",
    "def clean_location(loc):\n",
    "    if pd.isna(loc):\n",
    "        return loc\n",
    "    loc = str(loc)\n",
    "    parts = re.split('[,/ -]', loc)\n",
    "    for part in parts:\n",
    "        part = part.strip().upper()\n",
    "        if part in il_ilce_mapping:\n",
    "            return il_ilce_mapping[part]\n",
    "    return loc\n",
    "\n",
    "train_df['Lise_Sehir'] = train_df['Lise Sehir'].apply(clean_location)"
   ]
  },
  {
   "cell_type": "code",
   "execution_count": 19,
   "id": "f910222b",
   "metadata": {
    "execution": {
     "iopub.execute_input": "2024-09-16T14:18:48.672902Z",
     "iopub.status.busy": "2024-09-16T14:18:48.672448Z",
     "iopub.status.idle": "2024-09-16T14:18:49.868732Z",
     "shell.execute_reply": "2024-09-16T14:18:49.867902Z"
    },
    "papermill": {
     "duration": 1.222052,
     "end_time": "2024-09-16T14:18:49.871204",
     "exception": false,
     "start_time": "2024-09-16T14:18:48.649152",
     "status": "completed"
    },
    "tags": []
   },
   "outputs": [],
   "source": [
    "train_df.loc[train_df[\"Lise_Sehir\"] == \"KAHRAMANMAAS\", \"Lise_Sehir\"] = \"KAHRAMANMARAS\"\n",
    "train_df.loc[train_df[\"Lise_Sehir\"] == \"ISTANBUL ANADOLU\", \"Lise_Sehir\"] = \"ISTANBUL\"\n",
    "train_df.loc[train_df[\"Lise_Sehir\"] == \"ANTAYA\", \"Lise_Sehir\"] = \"ANTALYA\"\n",
    "train_df.loc[train_df[\"Lise_Sehir\"] == \"TOKAT MERKEZ\", \"Lise_Sehir\"] = \"TOKAT\"\n",
    "train_df.loc[train_df[\"Lise_Sehir\"] == \"ERZURUN\", \"Lise_Sehir\"] = \"ERZURUM\"\n",
    "train_df.loc[train_df[\"Lise_Sehir\"] == \"ISTABUL\", \"Lise_Sehir\"] = \"ISTANBUL\"\n",
    "train_df.loc[train_df[\"Lise_Sehir\"] == \"DENIZL\", \"Lise_Sehir\"] = \"DENIZLI\"\n",
    "train_df.loc[train_df[\"Lise_Sehir\"] == \"CANAKKLALE\", \"Lise_Sehir\"] = \"CANAKKALE\"\n",
    "train_df.loc[train_df[\"Lise_Sehir\"] == \"K.MARAS\", \"Lise_Sehir\"] = \"KAHRAMANMARAS\"\n",
    "train_df.loc[train_df[\"Lise_Sehir\"] == \"AFYON\", \"Lise_Sehir\"] = \"AFYONKARAHISAR\"\n",
    "train_df.loc[train_df[\"Lise_Sehir\"] == \":ANKARA\", \"Lise_Sehir\"] = \"ANKARA\"\n",
    "train_df.loc[train_df[\"Lise_Sehir\"] == \"TEKIRDAG,ISTANBUL\", \"Lise_Sehir\"] = \"TEKIRDAG\"\n",
    "train_df.loc[train_df[\"Lise_Sehir\"] == \"KAHRAMANMRAS\", \"Lise_Sehir\"] = \"KAHRAMANMARAS\"\n",
    "train_df.loc[train_df[\"Lise_Sehir\"] == \"MUGLA/MERKEZ\", \"Lise_Sehir\"] = \"MUGLA\"\n",
    "train_df.loc[train_df[\"Lise_Sehir\"] == \"KURKCU\", \"Lise_Sehir\"] = \"SIVAS\"\n",
    "train_df.loc[train_df[\"Lise_Sehir\"] == \"KDZ.EREGLI\", \"Lise_Sehir\"] = \"ZONGULDAK\"\n",
    "train_df.loc[train_df[\"Lise_Sehir\"] == \"ISTANBUK\", \"Lise_Sehir\"] = \"ISTANBUL\"\n",
    "train_df.loc[train_df[\"Lise_Sehir\"] == \"KASYERI\", \"Lise_Sehir\"] = \"KAYSERI\"\n",
    "train_df.loc[train_df[\"Lise_Sehir\"] == \"ANTALYA/VAN\", \"Lise_Sehir\"] = \"ANTALYA\"\n",
    "train_df.loc[train_df[\"Lise_Sehir\"] == \"KASYERI\", \"Lise_Sehir\"] = \"KAYSERI\"\n",
    "train_df.loc[train_df[\"Lise_Sehir\"] == \"ISYANBUL\", \"Lise_Sehir\"] = \"ISTANBUL\"\n",
    "train_df.loc[train_df[\"Lise_Sehir\"] == \"MERKEZ /ELAZIG\", \"Lise_Sehir\"] = \"ELAZIG\"\n",
    "train_df.loc[train_df[\"Lise_Sehir\"] == \"DIYARAKIR\", \"Lise_Sehir\"] = \"DIYARBAKIR\"\n",
    "train_df.loc[train_df[\"Lise_Sehir\"] == \"ESKISEIR\", \"Lise_Sehir\"] = \"ESKISEHIR\"\n",
    "train_df.loc[train_df[\"Lise_Sehir\"] == \"GUMUSYAKA\", \"Lise_Sehir\"] = \"ISTANBUL\"\n",
    "train_df.loc[train_df[\"Lise_Sehir\"] == \"SINOPBOYABAT\", \"Lise_Sehir\"] = \"SINOP\"\n",
    "train_df.loc[train_df[\"Lise_Sehir\"] == \"AANTALYA\", \"Lise_Sehir\"] = \"ANTALYA\"\n",
    "train_df.loc[train_df[\"Lise_Sehir\"] == \"GERMNCIK/AYDIN\", \"Lise_Sehir\"] = \"AYDIN\"\n",
    "train_df.loc[train_df[\"Lise_Sehir\"] == \"VAN - ELAZIG\", \"Lise_Sehir\"] = \"VAN\"\n",
    "train_df.loc[train_df[\"Lise_Sehir\"] == \"IGDIR / ISTANBUL / ISTANBUL\", \"Lise_Sehir\"] = \"IGDIR\"\n",
    "train_df.loc[train_df[\"Lise_Sehir\"] == \"MERKEZ/KASTAMONU\", \"Lise_Sehir\"] = \"KASTAMONU\"\n",
    "train_df.loc[train_df[\"Lise_Sehir\"] == \"MRSIN\", \"Lise_Sehir\"] = \"MERSIN\"\n",
    "train_df.loc[train_df[\"Lise_Sehir\"] == \"ZONGULDAK MERKEZ\", \"Lise_Sehir\"] = \"ZONGULDAK\"\n",
    "train_df.loc[train_df[\"Lise_Sehir\"] == \"ISTANBU\", \"Lise_Sehir\"] = \"ISTANBUL\"\n",
    "train_df.loc[train_df[\"Lise_Sehir\"] == \"SANLIURFA/ MERKEZ\", \"Lise_Sehir\"] = \"SANLIURFA\"\n",
    "train_df.loc[train_df[\"Lise_Sehir\"] == \"BILECIK-MERKEZ\", \"Lise_Sehir\"] = \"BILECIK\"\n",
    "train_df.loc[train_df[\"Lise_Sehir\"] == \"NIZIPGAZIANTEP\", \"Lise_Sehir\"] = \"GAZIANTEP\"\n",
    "train_df.loc[train_df[\"Lise_Sehir\"] == \"ANKARA, BALIKESIR\", \"Lise_Sehir\"] = \"ANKARA\"\n",
    "train_df.loc[train_df[\"Lise_Sehir\"] == \"KARABBUK\", \"Lise_Sehir\"] = \"KARABUK\"\n",
    "train_df.loc[train_df[\"Lise_Sehir\"] == \"IST\", \"Lise_Sehir\"] = \"ISTANBUL\"\n",
    "train_df.loc[train_df[\"Lise_Sehir\"] == \"AGRI/DOGUBEYAZIT\", \"Lise_Sehir\"] = \"AGRI\"\n",
    "train_df.loc[train_df[\"Lise_Sehir\"] == \"ISTANBUL HEYBELIADA\", \"Lise_Sehir\"] = \"ISTANBUL\"\n",
    "train_df.loc[train_df[\"Lise_Sehir\"] == \"ANKAR\", \"Lise_Sehir\"] = \"ANKARA\"\n",
    "train_df.loc[train_df[\"Lise_Sehir\"] == \"HATAY3 YIL-OSMANIYE1\", \"Lise_Sehir\"] = \"HATAY\"\n",
    "train_df.loc[train_df[\"Lise_Sehir\"] == \"AFYON, IZMIR\", \"Lise_Sehir\"] = \"AFYONKARAHISAR\"\n",
    "train_df.loc[train_df[\"Lise_Sehir\"] == \"ERENKOY-ISTANBUL\", \"Lise_Sehir\"] = \"ISTANBUL\"\n",
    "train_df.loc[train_df[\"Lise_Sehir\"] == \"BULUT\", \"Lise_Sehir\"] = \"RIZE\"\n",
    "train_df.loc[train_df[\"Lise_Sehir\"] == \"BAFRASAMSUN\", \"Lise_Sehir\"] = \"SAMSUN\"\n",
    "train_df.loc[train_df[\"Lise_Sehir\"] == \"ISRANBUL\", \"Lise_Sehir\"] = \"ISTANBUL\"\n",
    "train_df.loc[train_df[\"Lise_Sehir\"] == \"KASTAMONY\", \"Lise_Sehir\"] = \"KASTAMONU\"\n",
    "train_df.loc[train_df[\"Lise_Sehir\"] == \"ANKATA\", \"Lise_Sehir\"] = \"ANKARA\"\n",
    "train_df.loc[train_df[\"Lise_Sehir\"] == \"MALATUA\", \"Lise_Sehir\"] = \"MALATYA\"\n",
    "train_df.loc[train_df[\"Lise_Sehir\"] == \"KOCAEI\", \"Lise_Sehir\"] = \"KOCAELI\"\n",
    "train_df.loc[train_df[\"Lise_Sehir\"] == \"YESILKOY\", \"Lise_Sehir\"] = \"ISTANBUL\"\n",
    "train_df.loc[train_df[\"Lise_Sehir\"] == \"AYDIN-YALOVA\", \"Lise_Sehir\"] = \"AYDIN\"\n",
    "train_df.loc[train_df[\"Lise_Sehir\"] == \"ISTANBULKUCUKCEKMECE\", \"Lise_Sehir\"] = \"ISTANBUL\"\n",
    "train_df.loc[train_df[\"Lise_Sehir\"] == \"KDZ.EREGLI / ZONGULDAK\", \"Lise_Sehir\"] = \"ZONGULDAK\"\n",
    "train_df.loc[train_df[\"Lise_Sehir\"] == \"BATMAN/MERKEZ\", \"Lise_Sehir\"] = \"BATMAN\"\n",
    "train_df.loc[train_df[\"Lise_Sehir\"] == \"S.URFA\", \"Lise_Sehir\"] = \"SANLIURFA\"\n",
    "train_df.loc[train_df[\"Lise_Sehir\"] == \"KAGITHANE\", \"Lise_Sehir\"] = \"ISTANBUL\"\n",
    "train_df.loc[train_df[\"Lise_Sehir\"] == \"TEKIRDAGMURATLI\", \"Lise_Sehir\"] = \"TEKIRDAG\"\n",
    "train_df.loc[train_df[\"Lise_Sehir\"] == \"VIRANSEHIE\", \"Lise_Sehir\"] = \"SANLIURFA\"\n",
    "train_df.loc[train_df[\"Lise_Sehir\"] == \"ISTANBUL/YESILKOY\", \"Lise_Sehir\"] = \"ISTANBUL\"\n",
    "train_df.loc[train_df[\"Lise_Sehir\"] == \"G.ANTEP\", \"Lise_Sehir\"] = \"GAZIANTEP\"\n",
    "train_df.loc[train_df[\"Lise_Sehir\"] == \"ORD\", \"Lise_Sehir\"] = \"ORDU\"\n",
    "train_df.loc[train_df[\"Lise_Sehir\"] == \"TRANZON\", \"Lise_Sehir\"] = \"TRABZON\"\n",
    "train_df.loc[train_df[\"Lise_Sehir\"] == \"MERSIN-SINOP\", \"Lise_Sehir\"] = \"MERSIN\"\n",
    "train_df.loc[train_df[\"Lise_Sehir\"] == \"ALASEHIRMANISA\", \"Lise_Sehir\"] = \"MANISA\"\n",
    "train_df.loc[train_df[\"Lise_Sehir\"] == \"MUGLA MERKEZ\", \"Lise_Sehir\"] = \"MUGLA\"\n",
    "train_df.loc[train_df[\"Lise_Sehir\"] == \"BILECIKBOZUYUK\", \"Lise_Sehir\"] = \"BILECIK\"\n",
    "train_df.loc[train_df[\"Lise_Sehir\"] == \"TRANZON\", \"Lise_Sehir\"] = \"TRABZON\"\n",
    "train_df.loc[train_df[\"Lise_Sehir\"] == \"HAKKÂRI\", \"Lise_Sehir\"] = \"HAKKARI\"\n",
    "\n",
    "\n",
    "train_df.loc[train_df[\"Lise_Sehir\"] == \"ABD MISSOURI\", \"Lise_Sehir\"] = \"YURT DISI\"\n",
    "train_df.loc[train_df[\"Lise_Sehir\"] == \"FERIZAJ-KOSOVA\", \"Lise_Sehir\"] = \"YURT DISI\"\n",
    "train_df.loc[train_df[\"Lise_Sehir\"] == \"BAKU\", \"Lise_Sehir\"] = \"YURT DISI\"\n",
    "train_df.loc[train_df[\"Lise_Sehir\"] == \"ATYRAU\", \"Lise_Sehir\"] = \"YURT DISI\"\n",
    "train_df.loc[train_df[\"Lise_Sehir\"] == \"MONTEZUMA/NEW MEXICO\", \"Lise_Sehir\"] = \"YURT DISI\"\n",
    "train_df.loc[train_df[\"Lise_Sehir\"] == \"LEFKOSA\", \"Lise_Sehir\"] = \"KKTC\"\n",
    "train_df.loc[train_df[\"Lise_Sehir\"] == \"SHKODER\", \"Lise_Sehir\"] = \"YURT DISI\"\n",
    "train_df.loc[train_df[\"Lise_Sehir\"] == \"SHIRVAN\", \"Lise_Sehir\"] = \"YURT DISI\"\n",
    "train_df.loc[train_df[\"Lise_Sehir\"] == \"CORLY\", \"Lise_Sehir\"] = \"YURT DISI\"\n",
    "train_df.loc[train_df[\"Lise_Sehir\"] == \"PESHAWAR\", \"Lise_Sehir\"] = \"YURT DISI\"\n",
    "train_df.loc[train_df[\"Lise_Sehir\"] == \"LEFKOSA/KKTC\", \"Lise_Sehir\"] = \"KKTC\"\n",
    "train_df.loc[train_df[\"Lise_Sehir\"] == \"KINSHASA\", \"Lise_Sehir\"] = \"YURT DISI\"\n",
    "train_df.loc[train_df[\"Lise_Sehir\"] == \"ALMANYA\", \"Lise_Sehir\"] = \"YURT DISI\"\n",
    "train_df.loc[train_df[\"Lise_Sehir\"] == \"SURIYE, LAZKIYE\", \"Lise_Sehir\"] = \"YURT DISI\"\n",
    "train_df.loc[train_df[\"Lise_Sehir\"] == \"SUMGAYIT\", \"Lise_Sehir\"] = \"YURT DISI\"\n",
    "train_df.loc[train_df[\"Lise_Sehir\"] == \"SEKI\", \"Lise_Sehir\"] = \"YURT DISI\"\n",
    "train_df.loc[train_df[\"Lise_Sehir\"] == \"GEBE\", \"Lise_Sehir\"] = \"YURT DISI\"\n",
    "train_df.loc[train_df[\"Lise_Sehir\"] == \"URUN\", \"Lise_Sehir\"] = \"YURT DISI\"\n",
    "train_df.loc[train_df[\"Lise_Sehir\"] == \"TURSUNZADE\", \"Lise_Sehir\"] = \"YURT DISI\"\n",
    "train_df.loc[train_df[\"Lise_Sehir\"] == \"SUMGAYIT\", \"Lise_Sehir\"] = \"YURT DISI\"\n",
    "train_df.loc[train_df[\"Lise_Sehir\"] == \"AZERBAYCAN / BAKU\", \"Lise_Sehir\"] = \"YURT DISI\"\n",
    "train_df.loc[train_df[\"Lise_Sehir\"] == \"BAKIOGLU\", \"Lise_Sehir\"] = \"YURT DISI\"\n",
    "\n",
    "\n",
    "train_df = train_df[~train_df['Lise_Sehir'].str.upper().isin(['DIGER', \"------\", \"KOLEJ\", \"ASDASD\", \"ATES\", \"TURKIYE\", \"ZAKATALA\", \"YILMAZ\"])]\n",
    "\n",
    "train_df[\"Lise_Sehir\"] = train_df[\"Lise_Sehir\"].fillna(\"BILINMIYOR\")\n",
    "\n",
    "test_df[\"Lise_Sehir\"] = test_df[\"Lise Sehir\"]\n",
    "\n",
    "train_df.drop(columns = [\"Lise Sehir\"], inplace=True)\n",
    "test_df.drop(columns = [\"Lise Sehir\"], inplace=True)\n"
   ]
  },
  {
   "cell_type": "code",
   "execution_count": 20,
   "id": "21b97b81",
   "metadata": {
    "execution": {
     "iopub.execute_input": "2024-09-16T14:18:49.914085Z",
     "iopub.status.busy": "2024-09-16T14:18:49.913767Z",
     "iopub.status.idle": "2024-09-16T14:18:51.662320Z",
     "shell.execute_reply": "2024-09-16T14:18:51.661304Z"
    },
    "papermill": {
     "duration": 1.772572,
     "end_time": "2024-09-16T14:18:51.664798",
     "exception": false,
     "start_time": "2024-09-16T14:18:49.892226",
     "status": "completed"
    },
    "tags": []
   },
   "outputs": [],
   "source": [
    "def count_differences(row):\n",
    "    cities = [row['Dogum_Yeri'], row['Ikametgah_Sehri'], row['Lise_Sehir']]\n",
    "    return len(set(cities) - {None})\n",
    "\n",
    "train_df['Sehir_Farkliligi'] = train_df.apply(count_differences, axis=1)\n",
    "test_df['Sehir_Farkliligi'] = test_df.apply(count_differences, axis=1)"
   ]
  },
  {
   "cell_type": "markdown",
   "id": "826f606f",
   "metadata": {
    "papermill": {
     "duration": 0.020594,
     "end_time": "2024-09-16T14:18:51.706486",
     "exception": false,
     "start_time": "2024-09-16T14:18:51.685892",
     "status": "completed"
    },
    "tags": []
   },
   "source": [
    "*Anne BaBa Çalışma*"
   ]
  },
  {
   "cell_type": "code",
   "execution_count": 21,
   "id": "54acf968",
   "metadata": {
    "execution": {
     "iopub.execute_input": "2024-09-16T14:18:51.750266Z",
     "iopub.status.busy": "2024-09-16T14:18:51.749381Z",
     "iopub.status.idle": "2024-09-16T14:18:51.769952Z",
     "shell.execute_reply": "2024-09-16T14:18:51.769008Z"
    },
    "papermill": {
     "duration": 0.044732,
     "end_time": "2024-09-16T14:18:51.772030",
     "exception": false,
     "start_time": "2024-09-16T14:18:51.727298",
     "status": "completed"
    },
    "tags": []
   },
   "outputs": [],
   "source": [
    "train_df[\"Baba Calisma Durumu\"] = train_df[\"Baba Calisma Durumu\"].fillna(\"BILINMIYOR\")\n",
    "train_df[\"Anne Calisma Durumu\"] = train_df[\"Anne Calisma Durumu\"].fillna(\"BILINMIYOR\")"
   ]
  },
  {
   "cell_type": "markdown",
   "id": "c0e3c822",
   "metadata": {
    "papermill": {
     "duration": 0.020363,
     "end_time": "2024-09-16T14:18:51.813238",
     "exception": false,
     "start_time": "2024-09-16T14:18:51.792875",
     "status": "completed"
    },
    "tags": []
   },
   "source": [
    "*Girisimcili - Spor - STK - Ingilizce*"
   ]
  },
  {
   "cell_type": "code",
   "execution_count": 22,
   "id": "518efe00",
   "metadata": {
    "execution": {
     "iopub.execute_input": "2024-09-16T14:18:51.897126Z",
     "iopub.status.busy": "2024-09-16T14:18:51.896485Z",
     "iopub.status.idle": "2024-09-16T14:18:51.943475Z",
     "shell.execute_reply": "2024-09-16T14:18:51.942677Z"
    },
    "papermill": {
     "duration": 0.111921,
     "end_time": "2024-09-16T14:18:51.945729",
     "exception": false,
     "start_time": "2024-09-16T14:18:51.833808",
     "status": "completed"
    },
    "tags": []
   },
   "outputs": [],
   "source": [
    "train_df[\"Girisimcilik Kulupleri Tarzi Bir Kulube Uye misiniz?\"] = train_df[\"Girisimcilik Kulupleri Tarzi Bir Kulube Uye misiniz?\"].fillna(\"BILINMIYOR\")\n",
    "train_df[\"Aktif olarak bir STK üyesi misiniz?\"] = train_df[\"Aktif olarak bir STK üyesi misiniz?\"].fillna(\"BILINMIYOR\")\n",
    "train_df[\"Girisimcilikle Ilgili Deneyiminiz Var Mi?\"] = train_df[\"Girisimcilikle Ilgili Deneyiminiz Var Mi?\"].fillna(\"BILINMIYOR\")\n",
    "train_df[\"Ingilizce Biliyor musunuz?\"] = train_df[\"Ingilizce Biliyor musunuz?\"].fillna(\"BILINMIYOR\")\n",
    "train_df[\"Profesyonel Bir Spor Daliyla Mesgul musunuz?\"] = train_df[\"Profesyonel Bir Spor Daliyla Mesgul musunuz?\"].fillna(\"BILINMIYOR\")\n"
   ]
  },
  {
   "cell_type": "code",
   "execution_count": 23,
   "id": "3a95c3e1",
   "metadata": {
    "execution": {
     "iopub.execute_input": "2024-09-16T14:18:51.991763Z",
     "iopub.status.busy": "2024-09-16T14:18:51.991096Z",
     "iopub.status.idle": "2024-09-16T14:18:52.044407Z",
     "shell.execute_reply": "2024-09-16T14:18:52.043609Z"
    },
    "papermill": {
     "duration": 0.078322,
     "end_time": "2024-09-16T14:18:52.046792",
     "exception": false,
     "start_time": "2024-09-16T14:18:51.968470",
     "status": "completed"
    },
    "tags": []
   },
   "outputs": [],
   "source": [
    "train_df = train_df.dropna(subset=[\"Kardes Sayisi\", \"Degerlendirme Puani\"])"
   ]
  },
  {
   "cell_type": "markdown",
   "id": "4117cf58",
   "metadata": {
    "papermill": {
     "duration": 0.021185,
     "end_time": "2024-09-16T14:18:52.089438",
     "exception": false,
     "start_time": "2024-09-16T14:18:52.068253",
     "status": "completed"
    },
    "tags": []
   },
   "source": [
    "*Lise Mezuniyet Notu*"
   ]
  },
  {
   "cell_type": "code",
   "execution_count": 24,
   "id": "8e1c399f",
   "metadata": {
    "execution": {
     "iopub.execute_input": "2024-09-16T14:18:52.133271Z",
     "iopub.status.busy": "2024-09-16T14:18:52.132388Z",
     "iopub.status.idle": "2024-09-16T14:18:52.354280Z",
     "shell.execute_reply": "2024-09-16T14:18:52.353512Z"
    },
    "papermill": {
     "duration": 0.246278,
     "end_time": "2024-09-16T14:18:52.356665",
     "exception": false,
     "start_time": "2024-09-16T14:18:52.110387",
     "status": "completed"
    },
    "tags": []
   },
   "outputs": [],
   "source": [
    "train_df.loc[train_df[\"Lise Mezuniyet Notu\"] == \"0 - 24\", \"Lise Mezuniyet Notu\"] = \"0-1\"\n",
    "train_df.loc[train_df[\"Lise Mezuniyet Notu\"] == \"0 - 25\", \"Lise Mezuniyet Notu\"] = \"0-1\"\n",
    "\n",
    "train_df.loc[train_df[\"Lise Mezuniyet Notu\"] == \"25 - 49\", \"Lise Mezuniyet Notu\"] = \"1-2\"\n",
    "train_df.loc[train_df[\"Lise Mezuniyet Notu\"] == \"25 - 50\", \"Lise Mezuniyet Notu\"] = \"1-2\"\n",
    "train_df.loc[train_df[\"Lise Mezuniyet Notu\"] == \"54-45\", \"Lise Mezuniyet Notu\"] = \"1-2\"\n",
    "train_df.loc[train_df[\"Lise Mezuniyet Notu\"] == \"2.50 VE ALTI\", \"Lise Mezuniyet Notu\"] = \"1-2\"\n",
    "train_df.loc[train_df[\"Lise Mezuniyet Notu\"] == \"44-0\", \"Lise Mezuniyet Notu\"] = \"1-2\"\n",
    "\n",
    "train_df.loc[train_df[\"Lise Mezuniyet Notu\"] == \"50 - 74\", \"Lise Mezuniyet Notu\"] = \"2-3\"\n",
    "train_df.loc[train_df[\"Lise Mezuniyet Notu\"] == \"50 - 75\", \"Lise Mezuniyet Notu\"] = \"2-3\"\n",
    "train_df.loc[train_df[\"Lise Mezuniyet Notu\"] == \"69-55\", \"Lise Mezuniyet Notu\"] = \"2-3\"\n",
    "train_df.loc[train_df[\"Lise Mezuniyet Notu\"] == \"3.00-2.50\", \"Lise Mezuniyet Notu\"] = \"2-3\"\n",
    "\n",
    "train_df.loc[train_df[\"Lise Mezuniyet Notu\"] == \"84-70\", \"Lise Mezuniyet Notu\"] = \"3-4\"\n",
    "train_df.loc[train_df[\"Lise Mezuniyet Notu\"] == \"75 - 100\", \"Lise Mezuniyet Notu\"] = \"3-4\"\n",
    "train_df.loc[train_df[\"Lise Mezuniyet Notu\"] == \"100-85\", \"Lise Mezuniyet Notu\"] = \"3-4\"\n",
    "train_df.loc[train_df[\"Lise Mezuniyet Notu\"] == \"3.50-3\", \"Lise Mezuniyet Notu\"] = \"3-4\"\n",
    "train_df.loc[train_df[\"Lise Mezuniyet Notu\"] == \"3.00 - 4.00\", \"Lise Mezuniyet Notu\"] = \"3-4\"\n",
    "train_df.loc[train_df[\"Lise Mezuniyet Notu\"] == \"3.50-3.00\", \"Lise Mezuniyet Notu\"] = \"3-4\"\n",
    "train_df.loc[train_df[\"Lise Mezuniyet Notu\"] == \"4.00-3.50\", \"Lise Mezuniyet Notu\"] = \"3-4\"\n",
    "\n",
    "train_df[\"Lise Mezuniyet Notu\"] = train_df[\"Lise Mezuniyet Notu\"].fillna(\"NOT ORTALAMASI YOK\")\n",
    "\n",
    "test_df.loc[test_df[\"Lise Mezuniyet Notu\"] == \"25 - 49\", \"Lise Mezuniyet Notu\"] = \"1-2\"\n",
    "\n",
    "test_df.loc[test_df[\"Lise Mezuniyet Notu\"] == \"50 - 74\", \"Lise Mezuniyet Notu\"] = \"2-3\"\n",
    "\n",
    "test_df.loc[test_df[\"Lise Mezuniyet Notu\"] == \"75 - 100\", \"Lise Mezuniyet Notu\"] = \"3-4\""
   ]
  },
  {
   "cell_type": "markdown",
   "id": "7a6ee245",
   "metadata": {
    "papermill": {
     "duration": 0.020588,
     "end_time": "2024-09-16T14:18:52.398499",
     "exception": false,
     "start_time": "2024-09-16T14:18:52.377911",
     "status": "completed"
    },
    "tags": []
   },
   "source": [
    "*Üniversite Notu*"
   ]
  },
  {
   "cell_type": "code",
   "execution_count": 25,
   "id": "6f08fa09",
   "metadata": {
    "execution": {
     "iopub.execute_input": "2024-09-16T14:18:52.441530Z",
     "iopub.status.busy": "2024-09-16T14:18:52.441097Z",
     "iopub.status.idle": "2024-09-16T14:18:52.688918Z",
     "shell.execute_reply": "2024-09-16T14:18:52.688117Z"
    },
    "papermill": {
     "duration": 0.272016,
     "end_time": "2024-09-16T14:18:52.691201",
     "exception": false,
     "start_time": "2024-09-16T14:18:52.419185",
     "status": "completed"
    },
    "tags": []
   },
   "outputs": [],
   "source": [
    "train_df.loc[train_df[\"Universite Not Ortalamasi\"] == \"0 - 1.79\", \"Universite Not Ortalamasi\"] = \"0-1\"\n",
    "\n",
    "train_df.loc[train_df[\"Universite Not Ortalamasi\"] == \"1.80 - 2.49\", \"Universite Not Ortalamasi\"] = \"1-2\"\n",
    "train_df.loc[train_df[\"Universite Not Ortalamasi\"] == \"1.00 - 2.50\", \"Universite Not Ortalamasi\"] = \"1-2\"\n",
    "train_df.loc[train_df[\"Universite Not Ortalamasi\"] == \"2.50 VE ALTI\", \"Universite Not Ortalamasi\"] = \"1-2\"\n",
    "\n",
    "\n",
    "train_df.loc[train_df[\"Universite Not Ortalamasi\"] == \"2.50 -3.00\", \"Universite Not Ortalamasi\"] = \"2-3\"\n",
    "train_df.loc[train_df[\"Universite Not Ortalamasi\"] == \"2.50 - 3.00\", \"Universite Not Ortalamasi\"] = \"2-3\"\n",
    "train_df.loc[train_df[\"Universite Not Ortalamasi\"] == \"2.00 - 2.50\", \"Universite Not Ortalamasi\"] = \"2-3\"\n",
    "train_df.loc[train_df[\"Universite Not Ortalamasi\"] == \"3.00-2.50\", \"Universite Not Ortalamasi\"] = \"2-3\"\n",
    "train_df.loc[train_df[\"Universite Not Ortalamasi\"] == \"2.50 - 2.99\", \"Universite Not Ortalamasi\"] = \"2-3\"\n",
    "\n",
    "\n",
    "\n",
    "train_df.loc[train_df[\"Universite Not Ortalamasi\"] == \"3.50-3\", \"Universite Not Ortalamasi\"] = \"3-4\"\n",
    "train_df.loc[train_df[\"Universite Not Ortalamasi\"] == \"3.00 - 4.00\", \"Universite Not Ortalamasi\"] = \"3-4\"\n",
    "train_df.loc[train_df[\"Universite Not Ortalamasi\"] == \"3.50 - 4.00\", \"Universite Not Ortalamasi\"] = \"3-4\"\n",
    "train_df.loc[train_df[\"Universite Not Ortalamasi\"] == \"3.00 - 3.50\", \"Universite Not Ortalamasi\"] = \"3-4\"\n",
    "train_df.loc[train_df[\"Universite Not Ortalamasi\"] == \"4-3.5\", \"Universite Not Ortalamasi\"] = \"3-4\"\n",
    "train_df.loc[train_df[\"Universite Not Ortalamasi\"] == \"4.0-3.5\", \"Universite Not Ortalamasi\"] = \"3-4\"\n",
    "train_df.loc[train_df[\"Universite Not Ortalamasi\"] == \"3.00 - 3.49\", \"Universite Not Ortalamasi\"] = \"3-4\"\n",
    "train_df.loc[train_df[\"Universite Not Ortalamasi\"] == \"3.00 - 3.49\", \"Universite Not Ortalamasi\"] = \"3-4\"\n",
    "\n",
    "train_df.loc[train_df[\"Universite Not Ortalamasi\"] == \"ORTALAMA BULUNMUYOR\", \"Universite Not Ortalamasi\"] = \"NOT ORTALAMASI YOK\"\n",
    "train_df.loc[train_df[\"Universite Not Ortalamasi\"] == \"HAZIRLIGIM\", \"Universite Not Ortalamasi\"] = \"NOT ORTALAMASI YOK\"\n",
    "\n",
    "train_df[\"Universite Not Ortalamasi\"] = train_df[\"Universite Not Ortalamasi\"].fillna(\"NOT ORTALAMASI YOK\")\n",
    "\n",
    "test_df.loc[test_df[\"Universite Not Ortalamasi\"] == \"0 - 1.79\", \"Universite Not Ortalamasi\"] = \"0-1\"\n",
    "test_df.loc[test_df[\"Universite Not Ortalamasi\"] == \"1.80 - 2.49\", \"Universite Not Ortalamasi\"] = \"1-2\"\n",
    "test_df.loc[test_df[\"Universite Not Ortalamasi\"] == \"2.50 - 2.99\", \"Universite Not Ortalamasi\"] = \"2-3\"\n",
    "test_df.loc[test_df[\"Universite Not Ortalamasi\"] == \"3.00 - 3.49\", \"Universite Not Ortalamasi\"] = \"3-4\"\n",
    "test_df.loc[test_df[\"Universite Not Ortalamasi\"] == \"3.50 - 4.00\", \"Universite Not Ortalamasi\"] = \"3-4\"\n",
    "test_df.loc[test_df[\"Universite Not Ortalamasi\"] == \"HAZIRLIGIM\", \"Universite Not Ortalamasi\"] = \"NOT ORTALAMASI YOK\"\n"
   ]
  },
  {
   "cell_type": "markdown",
   "id": "ca088fee",
   "metadata": {
    "papermill": {
     "duration": 0.020847,
     "end_time": "2024-09-16T14:18:52.733251",
     "exception": false,
     "start_time": "2024-09-16T14:18:52.712404",
     "status": "completed"
    },
    "tags": []
   },
   "source": [
    "*Kardeş Sayısı*"
   ]
  },
  {
   "cell_type": "code",
   "execution_count": 26,
   "id": "aa65bb49",
   "metadata": {
    "execution": {
     "iopub.execute_input": "2024-09-16T14:18:52.776207Z",
     "iopub.status.busy": "2024-09-16T14:18:52.775830Z",
     "iopub.status.idle": "2024-09-16T14:18:52.837139Z",
     "shell.execute_reply": "2024-09-16T14:18:52.836342Z"
    },
    "papermill": {
     "duration": 0.085157,
     "end_time": "2024-09-16T14:18:52.839172",
     "exception": false,
     "start_time": "2024-09-16T14:18:52.754015",
     "status": "completed"
    },
    "tags": []
   },
   "outputs": [],
   "source": [
    "train_df.loc[train_df[\"Kardes Sayisi\"] == \"KARDES SAYISI 1 EK BILGI AILE HK. ANNE VEFAT\", \"Kardes Sayisi\"] = \"1\"\n",
    "train_df['Kardes Sayisi'] = pd.to_numeric(train_df['Kardes Sayisi'], errors='coerce')\n",
    "train_df['Kardes Sayisi'] = train_df['Kardes Sayisi'].astype('int')\n",
    "test_df['Kardes Sayisi'] = test_df['Kardes Sayisi'].astype('int')\n",
    "\n",
    "train_df['Parasal_Burs'] = train_df['Parasal_Burs'].astype('int')\n",
    "test_df['Parasal_Burs'] = test_df['Parasal_Burs'].astype('int')\n"
   ]
  },
  {
   "cell_type": "markdown",
   "id": "02e8a087",
   "metadata": {
    "papermill": {
     "duration": 0.02076,
     "end_time": "2024-09-16T14:18:52.880961",
     "exception": false,
     "start_time": "2024-09-16T14:18:52.860201",
     "status": "completed"
    },
    "tags": []
   },
   "source": [
    "*Baba Eğitim Durumu*"
   ]
  },
  {
   "cell_type": "code",
   "execution_count": 27,
   "id": "c2afce96",
   "metadata": {
    "execution": {
     "iopub.execute_input": "2024-09-16T14:18:52.924214Z",
     "iopub.status.busy": "2024-09-16T14:18:52.923842Z",
     "iopub.status.idle": "2024-09-16T14:18:53.044981Z",
     "shell.execute_reply": "2024-09-16T14:18:53.044153Z"
    },
    "papermill": {
     "duration": 0.145772,
     "end_time": "2024-09-16T14:18:53.047576",
     "exception": false,
     "start_time": "2024-09-16T14:18:52.901804",
     "status": "completed"
    },
    "tags": []
   },
   "outputs": [],
   "source": [
    "train_df.loc[train_df[\"Baba Egitim Durumu\"] == \"0\", \"Baba Egitim Durumu\"] = \"EGITIMI YOK\"\n",
    "train_df.loc[train_df[\"Baba Egitim Durumu\"] == \"EGITIM YOK\", \"Baba Egitim Durumu\"] = \"EGITIMI YOK\"\n",
    "train_df.loc[train_df[\"Baba Egitim Durumu\"] == \"ILKOKUL MEZUNU\", \"Baba Egitim Durumu\"] = \"ILKOKUL\"\n",
    "train_df.loc[train_df[\"Baba Egitim Durumu\"] == \"ORTAOKUL MEZUNU\", \"Baba Egitim Durumu\"] = \"ORTAOKUL\"\n",
    "train_df.loc[train_df[\"Baba Egitim Durumu\"] == \"LISE MEZUNU\", \"Baba Egitim Durumu\"] = \"LISE\"\n",
    "\n",
    "train_df.loc[train_df[\"Baba Egitim Durumu\"] == \"UNIVERSITE MEZUNU\", \"Baba Egitim Durumu\"] = \"UNIVERSITE\"\n",
    "train_df.loc[train_df[\"Baba Egitim Durumu\"] == \"UNIVERSITE MEZUNU\", \"Baba Egitim Durumu\"] = \"UNIVERSITE\"\n",
    "\n",
    "train_df.loc[train_df[\"Baba Egitim Durumu\"] == \"YUKSEK LISANS / DOKTORA\", \"Baba Egitim Durumu\"] = \"DOKTORA\"\n",
    "train_df.loc[train_df[\"Baba Egitim Durumu\"] == \"YUKSEK LISANS / DOKTARA\", \"Baba Egitim Durumu\"] = \"DOKTORA\"\n",
    "\n",
    "train_df[\"Baba Egitim Durumu\"] = train_df[\"Baba Egitim Durumu\"].fillna(\"BILINMIYOR\")\n"
   ]
  },
  {
   "cell_type": "markdown",
   "id": "e1ecbc00",
   "metadata": {
    "papermill": {
     "duration": 0.020829,
     "end_time": "2024-09-16T14:18:53.090789",
     "exception": false,
     "start_time": "2024-09-16T14:18:53.069960",
     "status": "completed"
    },
    "tags": []
   },
   "source": [
    "*Anne Eğitim Durumu*"
   ]
  },
  {
   "cell_type": "code",
   "execution_count": 28,
   "id": "871b3e43",
   "metadata": {
    "execution": {
     "iopub.execute_input": "2024-09-16T14:18:53.134536Z",
     "iopub.status.busy": "2024-09-16T14:18:53.134149Z",
     "iopub.status.idle": "2024-09-16T14:18:53.255816Z",
     "shell.execute_reply": "2024-09-16T14:18:53.254975Z"
    },
    "papermill": {
     "duration": 0.146737,
     "end_time": "2024-09-16T14:18:53.258300",
     "exception": false,
     "start_time": "2024-09-16T14:18:53.111563",
     "status": "completed"
    },
    "tags": []
   },
   "outputs": [],
   "source": [
    "train_df.loc[train_df[\"Anne Egitim Durumu\"] == \"0\", \"Anne Egitim Durumu\"] = \"EGITIMI YOK\"\n",
    "train_df.loc[train_df[\"Anne Egitim Durumu\"] == \"EGITIM YOK\", \"Anne Egitim Durumu\"] = \"EGITIMI YOK\"\n",
    "train_df.loc[train_df[\"Anne Egitim Durumu\"] == \"ILKOKUL MEZUNU\", \"Anne Egitim Durumu\"] = \"ILKOKUL\"\n",
    "train_df.loc[train_df[\"Anne Egitim Durumu\"] == \"ORTAOKUL MEZUNU\", \"Anne Egitim Durumu\"] = \"ORTAOKUL\"\n",
    "train_df.loc[train_df[\"Anne Egitim Durumu\"] == \"LISE MEZUNU\", \"Anne Egitim Durumu\"] = \"LISE\"\n",
    "\n",
    "train_df.loc[train_df[\"Anne Egitim Durumu\"] == \"UNIVERSITE MEZUNU\", \"Anne Egitim Durumu\"] = \"UNIVERSITE\"\n",
    "train_df.loc[train_df[\"Anne Egitim Durumu\"] == \"UNIVERSITE MEZUNU\", \"Anne Egitim Durumu\"] = \"UNIVERSITE\"\n",
    "\n",
    "train_df.loc[train_df[\"Anne Egitim Durumu\"] == \"YUKSEK LISANS / DOKTORA\", \"Anne Egitim Durumu\"] = \"DOKTORA\"\n",
    "train_df.loc[train_df[\"Anne Egitim Durumu\"] == \"YUKSEK LISANS / DOKTARA\", \"Anne Egitim Durumu\"] = \"DOKTORA\"\n",
    "\n",
    "train_df[\"Anne Egitim Durumu\"] = train_df[\"Anne Egitim Durumu\"].fillna(\"BILINMIYOR\")\n"
   ]
  },
  {
   "cell_type": "markdown",
   "id": "f07e2696",
   "metadata": {
    "papermill": {
     "duration": 0.021038,
     "end_time": "2024-09-16T14:18:53.300787",
     "exception": false,
     "start_time": "2024-09-16T14:18:53.279749",
     "status": "completed"
    },
    "tags": []
   },
   "source": [
    "*Lise Adı*"
   ]
  },
  {
   "cell_type": "code",
   "execution_count": 29,
   "id": "6fbb9ef9",
   "metadata": {
    "execution": {
     "iopub.execute_input": "2024-09-16T14:18:53.345477Z",
     "iopub.status.busy": "2024-09-16T14:18:53.344547Z",
     "iopub.status.idle": "2024-09-16T14:18:54.414288Z",
     "shell.execute_reply": "2024-09-16T14:18:54.413271Z"
    },
    "papermill": {
     "duration": 1.094689,
     "end_time": "2024-09-16T14:18:54.416704",
     "exception": false,
     "start_time": "2024-09-16T14:18:53.322015",
     "status": "completed"
    },
    "tags": []
   },
   "outputs": [],
   "source": [
    "train_df.loc[train_df['Lise Adi'].str.contains('ANADOLU', case=False, na=False), 'Lise Turu'] = 'ANADOLU'\n",
    "train_df.loc[train_df['Lise Adi'].str.contains('FEN', case=False, na=False), 'Lise Turu'] = 'FEN'\n",
    "train_df.loc[train_df['Lise Adi'].str.contains('MESLEK|MTAL', case=False, na=False), 'Lise Turu'] = 'MESLEK'\n",
    "train_df.loc[train_df['Lise Adi'].str.contains('OZEL|KOLEJ|KOLEJI', case=False, na=False), 'Lise Turu'] = 'MESLEK'\n",
    "train_df.loc[train_df['Lise Adi'].str.contains('IMAM|AIHL', case=False, na=False), 'Lise Turu'] = 'IMAM HATIP'\n",
    "train_df.loc[train_df['Lise Adi'].str.contains('SOSYAL', case=False, na=False), 'Lise Turu'] = 'SOSYAL'\n",
    "train_df.loc[train_df['Lise Adi'].str.contains('ERKEK', case=False, na=False), 'Lise Turu'] = 'ERKEK'\n",
    "train_df.loc[train_df['Lise Adi'].str.contains('KIZ', case=False, na=False), 'Lise Turu'] = 'KIZ'\n",
    "train_df.loc[train_df['Lise Adi'].str.contains('ACIK', case=False, na=False), 'Lise Turu'] = 'ACIK'\n",
    "\n",
    "train_df.loc[train_df[\"Lise Turu\"] == \"MESLEK LISESI\", \"Lise Turu\"] = \"MESLEK\"\n",
    "train_df.loc[train_df[\"Lise Turu\"] == \"DUZ LISE\", \"Lise Turu\"] = \"DIGER\"\n",
    "train_df.loc[train_df[\"Lise Turu\"] == \"OZEL LISESI\", \"Lise Turu\"] = \"OZEL\"\n",
    "train_df.loc[train_df[\"Lise Turu\"] == \"ANADOLU LISESI\", \"Lise Turu\"] = \"ANADOLU\"\n",
    "train_df.loc[train_df[\"Lise Turu\"] == \"FEN LISESI\", \"Lise Turu\"] = \"FEN\"\n",
    "train_df.loc[train_df[\"Lise Turu\"] == \"IMAM HATIP LISESI\", \"Lise Turu\"] = \"IMAM HATIP\"\n",
    "train_df.loc[train_df[\"Lise Turu\"] == \"OZEL LISE\", \"Lise Turu\"] = \"OZEL\"\n",
    "#train_df.loc[train_df[\"Lise Turu\"] == \"DEVLET\", \"Lise Turu\"] = \"DIGER\"\n",
    "\n",
    "\n",
    "\n",
    "test_df.loc[test_df['Lise Adi'].str.contains('ANADOLU', case=False, na=False), 'Lise Turu'] = 'ANADOLU'\n",
    "test_df.loc[test_df['Lise Adi'].str.contains('FEN', case=False, na=False), 'Lise Turu'] = 'FEN'\n",
    "test_df.loc[test_df['Lise Adi'].str.contains('MESLEK|MTAL', case=False, na=False), 'Lise Turu'] = 'MESLEK'\n",
    "test_df.loc[test_df['Lise Adi'].str.contains('OZEL|KOLEJ|KOLEJI', case=False, na=False), 'Lise Turu'] = 'MESLEK'\n",
    "test_df.loc[test_df['Lise Adi'].str.contains('IMAM|AIHL', case=False, na=False), 'Lise Turu'] = 'IMAM HATIP'\n",
    "test_df.loc[test_df['Lise Adi'].str.contains('SOSYAL', case=False, na=False), 'Lise Turu'] = 'SOSYAL'\n",
    "test_df.loc[test_df['Lise Adi'].str.contains('ERKEK', case=False, na=False), 'Lise Turu'] = 'ERKEK'\n",
    "test_df.loc[test_df['Lise Adi'].str.contains('KIZ', case=False, na=False), 'Lise Turu'] = 'KIZ'\n",
    "test_df.loc[test_df['Lise Adi'].str.contains('ACIK', case=False, na=False), 'Lise Turu'] = 'ACIK'\n",
    "\n",
    "test_df.loc[test_df[\"Lise Turu\"] == \"DEVLET\", \"Lise Turu\"] = \"DIGER\""
   ]
  },
  {
   "cell_type": "markdown",
   "id": "c5356f25",
   "metadata": {
    "papermill": {
     "duration": 0.020812,
     "end_time": "2024-09-16T14:18:54.459056",
     "exception": false,
     "start_time": "2024-09-16T14:18:54.438244",
     "status": "completed"
    },
    "tags": []
   },
   "source": [
    "*Uni Sınıf*"
   ]
  },
  {
   "cell_type": "code",
   "execution_count": 30,
   "id": "395bdfb2",
   "metadata": {
    "execution": {
     "iopub.execute_input": "2024-09-16T14:18:54.502682Z",
     "iopub.status.busy": "2024-09-16T14:18:54.501915Z",
     "iopub.status.idle": "2024-09-16T14:18:54.535968Z",
     "shell.execute_reply": "2024-09-16T14:18:54.535240Z"
    },
    "papermill": {
     "duration": 0.05822,
     "end_time": "2024-09-16T14:18:54.537980",
     "exception": false,
     "start_time": "2024-09-16T14:18:54.479760",
     "status": "completed"
    },
    "tags": []
   },
   "outputs": [],
   "source": [
    "train_df.loc[train_df[\"Universite Kacinci Sinif\"] == \"0\", \"Universite Kacinci Sinif\"] = \"HAZIRLIK\"\n",
    "train_df.loc[train_df[\"Universite Kacinci Sinif\"] == \"TEZ\", \"Universite Kacinci Sinif\"] = \"YUKSEK LISANS\"\n",
    "\n",
    "test_df.loc[test_df[\"Universite Kacinci Sinif\"] == \"0\", \"Universite Kacinci Sinif\"] = \"HAZIRLIK\"\n",
    "test_df.loc[test_df[\"Universite Kacinci Sinif\"] == \"TEZ\", \"Universite Kacinci Sinif\"] = \"YUKSEK LISANS\""
   ]
  },
  {
   "cell_type": "markdown",
   "id": "d7ee1fc3",
   "metadata": {
    "papermill": {
     "duration": 0.020795,
     "end_time": "2024-09-16T14:18:54.579808",
     "exception": false,
     "start_time": "2024-09-16T14:18:54.559013",
     "status": "completed"
    },
    "tags": []
   },
   "source": [
    "*Bölüm*"
   ]
  },
  {
   "cell_type": "code",
   "execution_count": 31,
   "id": "c5939c44",
   "metadata": {
    "execution": {
     "iopub.execute_input": "2024-09-16T14:18:54.623346Z",
     "iopub.status.busy": "2024-09-16T14:18:54.623004Z",
     "iopub.status.idle": "2024-09-16T14:18:56.763385Z",
     "shell.execute_reply": "2024-09-16T14:18:56.762330Z"
    },
    "papermill": {
     "duration": 2.165112,
     "end_time": "2024-09-16T14:18:56.765801",
     "exception": false,
     "start_time": "2024-09-16T14:18:54.600689",
     "status": "completed"
    },
    "tags": []
   },
   "outputs": [],
   "source": [
    "train_df.loc[train_df['Bölüm'].str.contains('MUHENDISLIGI|ENGINEERING|MUH.|MUH', case=False, na=False), 'Bolum'] = 'MUHENDISLIK'\n",
    "train_df.loc[train_df['Bölüm'].str.contains('TIP', case=False, na=False), 'Bolum'] = 'TIP'\n",
    "train_df.loc[train_df['Bölüm'].str.contains('ISLETME', case=False, na=False), 'Bolum'] = 'ISLETME'\n",
    "train_df.loc[train_df['Bölüm'].str.contains('MIMARLIK', case=False, na=False), 'Bolum'] = 'MIMARLIK'\n",
    "train_df.loc[train_df['Bölüm'].str.contains('OGRETMENLIGI|COCUK|OKUL|FEN', case=False, na=False), 'Bolum'] = 'OGRETMENLIK'\n",
    "train_df.loc[train_df['Bölüm'].str.contains('FINANS|MALIYE|EKONOMI|BANKACILIK|BANKA', case=False, na=False), 'Bolum'] = 'PARA'\n",
    "train_df.loc[train_df['Bölüm'].str.contains('DIS', case=False, na=False), 'Bolum'] = 'DIS'\n",
    "train_df.loc[train_df['Bölüm'].str.contains('ULUSLARARASI|HALKLA|ULUSLARARARASI|ULUSLARASI', case=False, na=False), 'Bolum'] = 'ULUS_HALK'\n",
    "train_df.loc[train_df['Bölüm'].str.contains('MATEMATIK|FIZIK|KIMYA|BIYOLOJI|COGRAFYA|TARIH', case=False, na=False), 'Bolum'] = 'TEMELBILIM'\n",
    "train_df.loc[train_df['Bölüm'].str.contains('BILISIM', case=False, na=False), 'Bolum'] = 'BILISIM'\n",
    "train_df.loc[train_df['Bölüm'].str.contains('TURIZM|OTEL YONETICILIGI', case=False, na=False), 'Bolum'] = 'TURIZM'\n",
    "train_df.loc[train_df['Bölüm'].str.contains('HUKUK|HUKU', case=False, na=False), 'Bolum'] = 'HUKUK'\n",
    "train_df.loc[train_df['Bölüm'].str.contains('HEMSIRELIK|SAGLIK|ECZACILIK|TIBBI DOKUMANTASYON|ANESTEZI|EBELIK|EBELI|EBE|ACIL', case=False, na=False), 'Bolum'] = 'SAGLIK'\n",
    "train_df.loc[train_df['Bölüm'].str.contains('BESLENME|GASTRONOMI|ASCILIK', case=False, na=False), 'Bolum'] = 'YEMEK'\n",
    "train_df.loc[train_df['Bölüm'].str.contains('BILGISAYAR|TEKNOLOJI', case=False, na=False), 'Bolum'] = 'TEKNOLOJI'\n",
    "train_df.loc[train_df['Bölüm'].str.contains('INGILIZ|INGILIZCE|DILI', case=False, na=False), 'Bolum'] = 'DIL'\n",
    "\n",
    "train_df[\"Bolum\"] = train_df[\"Bolum\"].fillna(\"DIGER\")\n",
    "\n",
    "\n",
    "test_df.loc[test_df['Bölüm'].str.contains('MUHENDISLIGI|ENGINEERING|MUH.|MUH', case=False, na=False), 'Bolum'] = 'MUHENDISLIK'\n",
    "test_df.loc[test_df['Bölüm'].str.contains('TIP', case=False, na=False), 'Bolum'] = 'TIP'\n",
    "test_df.loc[test_df['Bölüm'].str.contains('ISLETME', case=False, na=False), 'Bolum'] = 'ISLETME'\n",
    "test_df.loc[test_df['Bölüm'].str.contains('MIMARLIK', case=False, na=False), 'Bolum'] = 'MIMARLIK'\n",
    "test_df.loc[test_df['Bölüm'].str.contains('OGRETMENLIGI|COCUK|OKUL|FEN', case=False, na=False), 'Bolum'] = 'OGRETMENLIK'\n",
    "test_df.loc[test_df['Bölüm'].str.contains('FINANS|MALIYE|EKONOMI|BANKACILIK|BANKA', case=False, na=False), 'Bolum'] = 'PARA'\n",
    "test_df.loc[test_df['Bölüm'].str.contains('DIS', case=False, na=False), 'Bolum'] = 'DIS'\n",
    "test_df.loc[test_df['Bölüm'].str.contains('ULUSLARARASI|HALKLA|ULUSLARARARASI|ULUSLARASI', case=False, na=False), 'Bolum'] = 'ULUS_HALK'\n",
    "test_df.loc[test_df['Bölüm'].str.contains('MATEMATIK|FIZIK|KIMYA|BIYOLOJI|COGRAFYA|TARIH', case=False, na=False), 'Bolum'] = 'TEMELBILIM'\n",
    "test_df.loc[test_df['Bölüm'].str.contains('BILISIM', case=False, na=False), 'Bolum'] = 'BILISIM'\n",
    "test_df.loc[test_df['Bölüm'].str.contains('TURIZM|OTEL YONETICILIGI', case=False, na=False), 'Bolum'] = 'TURIZM'\n",
    "test_df.loc[test_df['Bölüm'].str.contains('HUKUK|HUKU', case=False, na=False), 'Bolum'] = 'HUKUK'\n",
    "test_df.loc[test_df['Bölüm'].str.contains('HEMSIRELIK|SAGLIK|ECZACILIK|TIBBI DOKUMANTASYON|ANESTEZI|EBELIK|EBELI|EBE|ACIL', case=False, na=False), 'Bolum'] = 'SAGLIK'\n",
    "test_df.loc[test_df['Bölüm'].str.contains('BESLENME|GASTRONOMI|ASCILIK', case=False, na=False), 'Bolum'] = 'YEMEK'\n",
    "test_df.loc[test_df['Bölüm'].str.contains('BILGISAYAR|TEKNOLOJI', case=False, na=False), 'Bolum'] = 'TEKNOLOJI'\n",
    "test_df.loc[test_df['Bölüm'].str.contains('INGILIZ|INGILIZCE|DILI', case=False, na=False), 'Bolum'] = 'DIL'\n",
    "\n",
    "test_df[\"Bolum\"] = test_df[\"Bolum\"].fillna(\"DIGER\")\n"
   ]
  },
  {
   "cell_type": "code",
   "execution_count": 32,
   "id": "59b175cd",
   "metadata": {
    "execution": {
     "iopub.execute_input": "2024-09-16T14:18:56.809388Z",
     "iopub.status.busy": "2024-09-16T14:18:56.808797Z",
     "iopub.status.idle": "2024-09-16T14:18:56.814702Z",
     "shell.execute_reply": "2024-09-16T14:18:56.813921Z"
    },
    "papermill": {
     "duration": 0.029656,
     "end_time": "2024-09-16T14:18:56.816642",
     "exception": false,
     "start_time": "2024-09-16T14:18:56.786986",
     "status": "completed"
    },
    "tags": []
   },
   "outputs": [],
   "source": [
    "train_df[\"Yil_Once\"] = 2024 - train_df[\"Basvuru Yili\"]\n",
    "test_df[\"Yil_Once\"] = 2024 - test_df[\"Basvuru Yili\"]"
   ]
  },
  {
   "cell_type": "markdown",
   "id": "84d2d775",
   "metadata": {
    "papermill": {
     "duration": 0.021076,
     "end_time": "2024-09-16T14:18:56.858434",
     "exception": false,
     "start_time": "2024-09-16T14:18:56.837358",
     "status": "completed"
    },
    "tags": []
   },
   "source": [
    "*Güncel Burs*:*Yıllara göre enflasyon farkı olduğu için bu farkı eklemek istedim*"
   ]
  },
  {
   "cell_type": "code",
   "execution_count": 33,
   "id": "627347ce",
   "metadata": {
    "execution": {
     "iopub.execute_input": "2024-09-16T14:18:56.902226Z",
     "iopub.status.busy": "2024-09-16T14:18:56.901584Z",
     "iopub.status.idle": "2024-09-16T14:18:58.251697Z",
     "shell.execute_reply": "2024-09-16T14:18:58.250723Z"
    },
    "papermill": {
     "duration": 1.374567,
     "end_time": "2024-09-16T14:18:58.254045",
     "exception": false,
     "start_time": "2024-09-16T14:18:56.879478",
     "status": "completed"
    },
    "tags": []
   },
   "outputs": [],
   "source": [
    "inflation_data = {\n",
    "    2013: 7.4,\n",
    "    2014: 8.17,\n",
    "    2015: 8.81,\n",
    "    2016: 8.53,\n",
    "    2017: 11.92,\n",
    "    2018: 20.3,\n",
    "    2019: 11.84,\n",
    "    2020: 14.60,\n",
    "    2021: 36.08,\n",
    "    2022: 64.27,\n",
    "    2023: 64.77\n",
    "}\n",
    "\n",
    "def cumulative_inflation_adjustment(burs_amount, year, inflation_data, current_year=2023):\n",
    "\n",
    "    if year >= current_year:\n",
    "        return burs_amount\n",
    "    \n",
    "    cumulative_factor = 1\n",
    "    for y in range(year + 1, current_year + 1):\n",
    "        cumulative_factor *= (1 + inflation_data[y] / 100)\n",
    "    \n",
    "\n",
    "    return burs_amount * cumulative_factor\n",
    "\n",
    "import pandas as pd\n",
    "\n",
    "\n",
    "train_df['Guncel_Burs'] = train_df.apply(lambda row: cumulative_inflation_adjustment(row['Parasal_Burs'], row['Basvuru Yili'], inflation_data), axis=1)\n",
    "test_df['Guncel_Burs'] = test_df.apply(lambda row: cumulative_inflation_adjustment(row['Parasal_Burs'], row['Basvuru Yili'], inflation_data), axis=1)\n"
   ]
  },
  {
   "cell_type": "code",
   "execution_count": 34,
   "id": "fbebe185",
   "metadata": {
    "execution": {
     "iopub.execute_input": "2024-09-16T14:18:58.298289Z",
     "iopub.status.busy": "2024-09-16T14:18:58.297578Z",
     "iopub.status.idle": "2024-09-16T14:18:58.350858Z",
     "shell.execute_reply": "2024-09-16T14:18:58.349811Z"
    },
    "papermill": {
     "duration": 0.078064,
     "end_time": "2024-09-16T14:18:58.353403",
     "exception": false,
     "start_time": "2024-09-16T14:18:58.275339",
     "status": "completed"
    },
    "tags": []
   },
   "outputs": [],
   "source": [
    "train_df = train_df.dropna(subset=[\"Dogum Tarihi\"])"
   ]
  },
  {
   "cell_type": "code",
   "execution_count": 35,
   "id": "e4874059",
   "metadata": {
    "execution": {
     "iopub.execute_input": "2024-09-16T14:18:58.397657Z",
     "iopub.status.busy": "2024-09-16T14:18:58.396980Z",
     "iopub.status.idle": "2024-09-16T14:19:08.815037Z",
     "shell.execute_reply": "2024-09-16T14:19:08.814233Z"
    },
    "papermill": {
     "duration": 10.442559,
     "end_time": "2024-09-16T14:19:08.817348",
     "exception": false,
     "start_time": "2024-09-16T14:18:58.374789",
     "status": "completed"
    },
    "tags": []
   },
   "outputs": [],
   "source": [
    "turkish_months = {\n",
    "    'OCAK': '01', 'SUBAT': '02', 'MART': '03', 'NISAN': '04', 'MAYIS': '05', \n",
    "    'HAZIRAN': '06', 'TEMMUZ': '07', 'AGUSTOS': '08', 'EYLUL': '09', \n",
    "    'EKIM': '10', 'KASIM': '11', 'ARALIK': '12'\n",
    "}\n",
    "\n",
    "def normalize_date(date_str):\n",
    "    for turkish, num in turkish_months.items():\n",
    "        if turkish in date_str.upper():\n",
    "            date_str = re.sub(turkish, num, date_str, flags=re.IGNORECASE)\n",
    "\n",
    "    date_formats = [\n",
    "        \"%d-%b-%y\", \"%d-%B-%y\", \"%d/%m/%Y\", \"%d/%m/%y\", \"%m/%d/%Y\", \"%m/%d/%y\",\n",
    "        \"%d %m %Y\", \"%Y-%m-%d\", \"%d %B %Y\", \"%d %b %Y\", \"%d %B %y\"\n",
    "    ]\n",
    "    \n",
    "    for fmt in date_formats:\n",
    "        try:\n",
    "            return datetime.strptime(date_str, fmt).strftime('%Y')\n",
    "        except ValueError:\n",
    "            continue\n",
    "    \n",
    "    return None\n",
    "\n",
    "\n",
    "train_df['Dogum_Tarihi'] = train_df['Dogum Tarihi'].apply(normalize_date)\n",
    "test_df['Dogum_Tarihi'] = test_df['Dogum Tarihi'].apply(normalize_date)"
   ]
  },
  {
   "cell_type": "code",
   "execution_count": 36,
   "id": "0b11a97f",
   "metadata": {
    "execution": {
     "iopub.execute_input": "2024-09-16T14:19:08.860813Z",
     "iopub.status.busy": "2024-09-16T14:19:08.860415Z",
     "iopub.status.idle": "2024-09-16T14:19:17.864768Z",
     "shell.execute_reply": "2024-09-16T14:19:17.863930Z"
    },
    "papermill": {
     "duration": 9.028724,
     "end_time": "2024-09-16T14:19:17.867050",
     "exception": false,
     "start_time": "2024-09-16T14:19:08.838326",
     "status": "completed"
    },
    "tags": []
   },
   "outputs": [],
   "source": [
    "turkish_months = {\n",
    "    'OCAK': '01', 'ŞUBAT': '02', 'MART': '03', 'NİSAN': '04', 'MAYIS': '05', \n",
    "    'HAZİRAN': '06', 'TEMMUZ': '07', 'AĞUSTOS': '08', 'EYLÜL': '09', \n",
    "    'EKİM': '10', 'KASIM': '11', 'ARALIK': '12'\n",
    "}\n",
    "\n",
    "def normalize_date(date_str):\n",
    "    if pd.isnull(date_str):\n",
    "        return None\n",
    "\n",
    "    for turkish, num in turkish_months.items():\n",
    "        if turkish in date_str.upper():\n",
    "            date_str = re.sub(turkish, num, date_str, flags=re.IGNORECASE)\n",
    "    \n",
    "    date_formats = [\n",
    "        \"%d-%b-%y %H:%M\", \"%d-%B-%y %H:%M\", \"%d/%m/%Y %H:%M\", \"%d/%m/%y %H:%M\", \n",
    "        \"%m/%d/%Y %H:%M\", \"%m/%d/%y %H:%M\", \"%d %m %Y %H:%M\", \"%Y-%m-%d %H:%M\", \n",
    "        \"%d %B %Y %H:%M\", \"%d %b %Y %H:%M\", \"%d %B %y %H:%M\", \"%d-%b-%y %H:%M\",\n",
    "        \"%m/%d/%y %I:%M %p\", \"%d/%m/%y %I:%M %p\"\n",
    "    ]\n",
    "    \n",
    "    for fmt in date_formats:\n",
    "        try:\n",
    "            date_obj = datetime.strptime(date_str, fmt)\n",
    "            \n",
    "            # İki basamaklı yıl dönüşümü\n",
    "            if fmt.endswith(\"%y\"):\n",
    "                if date_obj.year < 1900:\n",
    "                    date_obj = date_obj.replace(year=date_obj.year + 2000)\n",
    "            \n",
    "            return date_obj.strftime('%Y')\n",
    "        except ValueError:\n",
    "            continue\n",
    "    \n",
    "    return None  \n",
    "\n",
    "\n",
    "train_df['Dogum_Tarihi'] = train_df.apply(\n",
    "    lambda row: normalize_date(row['Dogum Tarihi']) if pd.isnull(row['Dogum_Tarihi']) else row['Dogum_Tarihi'], \n",
    "    axis=1\n",
    ")\n",
    "\n",
    "test_df['Dogum_Tarihi'] = test_df.apply(\n",
    "    lambda row: normalize_date(row['Dogum Tarihi']) if pd.isnull(row['Dogum_Tarihi']) else row['Dogum_Tarihi'], \n",
    "    axis=1\n",
    ")"
   ]
  },
  {
   "cell_type": "code",
   "execution_count": 37,
   "id": "3f6ba817",
   "metadata": {
    "execution": {
     "iopub.execute_input": "2024-09-16T14:19:17.910869Z",
     "iopub.status.busy": "2024-09-16T14:19:17.909985Z",
     "iopub.status.idle": "2024-09-16T14:19:19.993781Z",
     "shell.execute_reply": "2024-09-16T14:19:19.992760Z"
    },
    "papermill": {
     "duration": 2.108678,
     "end_time": "2024-09-16T14:19:19.996741",
     "exception": false,
     "start_time": "2024-09-16T14:19:17.888063",
     "status": "completed"
    },
    "tags": []
   },
   "outputs": [],
   "source": [
    "turkish_months = {\n",
    "    'OCAK': '01', 'ŞUBAT': '02', 'MART': '03', 'NİSAN': '04', 'MAYIS': '05', \n",
    "    'HAZİRAN': '06', 'TEMMUZ': '07', 'AĞUSTOS': '08', 'EYLÜL': '09', \n",
    "    'EKİM': '10', 'KASIM': '11', 'ARALIK': '12'\n",
    "}\n",
    "\n",
    "def normalize_date(date_str):\n",
    "    if pd.isnull(date_str):\n",
    "        return None\n",
    "\n",
    "\n",
    "    for turkish, num in turkish_months.items():\n",
    "        if turkish in date_str.upper():\n",
    "            date_str = re.sub(turkish, num, date_str, flags=re.IGNORECASE)\n",
    "    \n",
    "    date_formats = [\n",
    "        \"%d.%b.%y %H:%M\", \"%d.%B.%y %H:%M\", \"%d.%m.%Y %H:%M\", \"%d.%m.%y %H:%M\", \n",
    "        \"%m.%d.%Y %H:%M\", \"%m.%d.%y %H:%M\", \"%d.%m.%Y %H:%M\", \"%Y.%m.%d %H:%M\", \n",
    "        \"%d.%B.%Y %H:%M\", \"%d.%b.%Y %H:%M\", \"%d.%B.%y %H:%M\", \"%d.%b.%y %H:%M\",\n",
    "        \"%m.%d.%y %I:%M %p\", \"%d.%m.%y %I:%M %p\"\n",
    "    ]\n",
    "    \n",
    "    for fmt in date_formats:\n",
    "        try:\n",
    "            date_obj = datetime.strptime(date_str, fmt)\n",
    "            \n",
    "            # İki basamaklı yıl dönüşümü\n",
    "            if fmt.endswith(\"%y\"):\n",
    "                if date_obj.year < 1900:\n",
    "                    date_obj = date_obj.replace(year=date_obj.year + 2000)\n",
    "            \n",
    "            return date_obj.strftime('%Y')\n",
    "        except ValueError:\n",
    "            continue\n",
    "    \n",
    "    return None  \n",
    "\n",
    "\n",
    "train_df['Dogum_Tarihi'] = train_df.apply(\n",
    "    lambda row: normalize_date(row['Dogum Tarihi']) if pd.isnull(row['Dogum_Tarihi']) else row['Dogum_Tarihi'], \n",
    "    axis=1\n",
    ")\n",
    "\n",
    "test_df['Dogum_Tarihi'] = test_df.apply(\n",
    "    lambda row: normalize_date(row['Dogum Tarihi']) if pd.isnull(row['Dogum_Tarihi']) else row['Dogum_Tarihi'], \n",
    "    axis=1\n",
    ")"
   ]
  },
  {
   "cell_type": "code",
   "execution_count": 38,
   "id": "646f942d",
   "metadata": {
    "execution": {
     "iopub.execute_input": "2024-09-16T14:19:20.047077Z",
     "iopub.status.busy": "2024-09-16T14:19:20.046639Z",
     "iopub.status.idle": "2024-09-16T14:19:21.336271Z",
     "shell.execute_reply": "2024-09-16T14:19:21.335499Z"
    },
    "papermill": {
     "duration": 1.31509,
     "end_time": "2024-09-16T14:19:21.338710",
     "exception": false,
     "start_time": "2024-09-16T14:19:20.023620",
     "status": "completed"
    },
    "tags": []
   },
   "outputs": [],
   "source": [
    "def extract_year(date_str):\n",
    "    if pd.isnull(date_str):\n",
    "        return None\n",
    "    \n",
    "    parts = date_str.split('/')\n",
    "    \n",
    "    if len(parts) < 3:\n",
    "        return None\n",
    "    \n",
    "    year_str = parts[-1].strip()\n",
    "    \n",
    "    if len(year_str) == 4 and year_str.isdigit():\n",
    "        return int(year_str)\n",
    "    else:\n",
    "        return None\n",
    "\n",
    "\n",
    "train_df['Dogum_Tarihi'] = train_df.apply(\n",
    "    lambda row: extract_year(row['Dogum Tarihi']) if pd.isnull(row['Dogum_Tarihi']) else row['Dogum_Tarihi'], \n",
    "    axis=1\n",
    ")\n",
    "\n",
    "test_df['Dogum_Tarihi'] = test_df.apply(\n",
    "    lambda row: extract_year(row['Dogum Tarihi']) if pd.isnull(row['Dogum_Tarihi']) else row['Dogum_Tarihi'], \n",
    "    axis=1\n",
    ")"
   ]
  },
  {
   "cell_type": "code",
   "execution_count": 39,
   "id": "e0befb2e",
   "metadata": {
    "execution": {
     "iopub.execute_input": "2024-09-16T14:19:21.382466Z",
     "iopub.status.busy": "2024-09-16T14:19:21.381774Z",
     "iopub.status.idle": "2024-09-16T14:19:22.640652Z",
     "shell.execute_reply": "2024-09-16T14:19:22.639870Z"
    },
    "papermill": {
     "duration": 1.283097,
     "end_time": "2024-09-16T14:19:22.643013",
     "exception": false,
     "start_time": "2024-09-16T14:19:21.359916",
     "status": "completed"
    },
    "tags": []
   },
   "outputs": [],
   "source": [
    "def extract_year_two(date_str):\n",
    "    if pd.isnull(date_str):\n",
    "        return None\n",
    "    \n",
    "    parts = date_str.split('/')\n",
    "    \n",
    "    if len(parts) < 3:\n",
    "        return None\n",
    "    \n",
    "    year_str = parts[-1].strip(\"_\")\n",
    "    \n",
    "    if len(year_str) == 2 and year_str.isdigit():\n",
    "        if int(year_str) <=50:\n",
    "            year = \"20\" + year_str\n",
    "        else:\n",
    "            year = \"19\" + year_str\n",
    "        return int(year)\n",
    "    elif len(year_str) == 3 and year_str.isdigit():\n",
    "        year = year_str[1:]\n",
    "        if int(year) <=50:\n",
    "            year = \"20\" + year\n",
    "        else:\n",
    "            year = \"19\" + year\n",
    "        return int(year)\n",
    "    else:\n",
    "        return None\n",
    "        \n",
    "\n",
    "train_df['Dogum_Tarihi'] = train_df.apply(\n",
    "    lambda row: extract_year_two(row['Dogum Tarihi']) if pd.isnull(row['Dogum_Tarihi']) else row['Dogum_Tarihi'], \n",
    "    axis=1\n",
    ")\n",
    "\n",
    "test_df['Dogum_Tarihi'] = test_df.apply(\n",
    "    lambda row: extract_year_two(row['Dogum Tarihi']) if pd.isnull(row['Dogum_Tarihi']) else row['Dogum_Tarihi'], \n",
    "    axis=1\n",
    ")"
   ]
  },
  {
   "cell_type": "code",
   "execution_count": 40,
   "id": "6393697c",
   "metadata": {
    "execution": {
     "iopub.execute_input": "2024-09-16T14:19:22.687133Z",
     "iopub.status.busy": "2024-09-16T14:19:22.686750Z",
     "iopub.status.idle": "2024-09-16T14:19:23.957339Z",
     "shell.execute_reply": "2024-09-16T14:19:23.956569Z"
    },
    "papermill": {
     "duration": 1.295195,
     "end_time": "2024-09-16T14:19:23.959613",
     "exception": false,
     "start_time": "2024-09-16T14:19:22.664418",
     "status": "completed"
    },
    "tags": []
   },
   "outputs": [],
   "source": [
    "def extract_year_two_bosluk(date_str):\n",
    "    if pd.isnull(date_str):\n",
    "        return None\n",
    "    \n",
    "    parts = date_str.split()\n",
    "    \n",
    "    if len(parts) < 3:\n",
    "        return None\n",
    "    \n",
    "    year_str = parts[-1].strip(\"_\")\n",
    "    \n",
    "    if len(year_str) == 2 and year_str.isdigit():\n",
    "        if int(year_str) <=50:\n",
    "            year = \"20\" + year_str\n",
    "        else:\n",
    "            year = \"19\" + year_str\n",
    "        return int(year)\n",
    "    elif len(year_str) == 3 and year_str.isdigit():\n",
    "        year = year_str[1:]\n",
    "        if int(year) <=50:\n",
    "            year = \"20\" + year\n",
    "        else:\n",
    "            year = \"19\" + year\n",
    "        return int(year)\n",
    "    elif len(year_str) == 4 and year_str.isdigit():\n",
    "        return int(year_str)\n",
    "    else:\n",
    "        return None\n",
    "        \n",
    "\n",
    "train_df['Dogum_Tarihi'] = train_df.apply(\n",
    "    lambda row: extract_year_two_bosluk(row['Dogum Tarihi']) if pd.isnull(row['Dogum_Tarihi']) else row['Dogum_Tarihi'], \n",
    "    axis=1\n",
    ")\n",
    "\n",
    "test_df['Dogum_Tarihi'] = test_df.apply(\n",
    "    lambda row: extract_year_two_bosluk(row['Dogum Tarihi']) if pd.isnull(row['Dogum_Tarihi']) else row['Dogum_Tarihi'], \n",
    "    axis=1\n",
    ")"
   ]
  },
  {
   "cell_type": "code",
   "execution_count": 41,
   "id": "45ff487a",
   "metadata": {
    "execution": {
     "iopub.execute_input": "2024-09-16T14:19:24.003419Z",
     "iopub.status.busy": "2024-09-16T14:19:24.003067Z",
     "iopub.status.idle": "2024-09-16T14:19:25.330287Z",
     "shell.execute_reply": "2024-09-16T14:19:25.329496Z"
    },
    "papermill": {
     "duration": 1.351672,
     "end_time": "2024-09-16T14:19:25.332626",
     "exception": false,
     "start_time": "2024-09-16T14:19:23.980954",
     "status": "completed"
    },
    "tags": []
   },
   "outputs": [],
   "source": [
    "def dogumtarihi(row):\n",
    "    if row[\"Universite Kacinci Sinif\"] == \"HAZIRLIK\":\n",
    "        return row[\"Basvuru Yili\"] - 18\n",
    "    elif row[\"Universite Kacinci Sinif\"] == \"1\":\n",
    "        return row[\"Basvuru Yili\"] - 19\n",
    "    elif row[\"Universite Kacinci Sinif\"] == \"2\":\n",
    "        return row[\"Basvuru Yili\"] - 20\n",
    "    elif row[\"Universite Kacinci Sinif\"] == \"3\":\n",
    "        return row[\"Basvuru Yili\"] - 21\n",
    "    elif row[\"Universite Kacinci Sinif\"] == \"4\":\n",
    "        return row[\"Basvuru Yili\"] - 22\n",
    "    elif row[\"Universite Kacinci Sinif\"] == \"5\":\n",
    "        return row[\"Basvuru Yili\"] - 23\n",
    "    elif row[\"Universite Kacinci Sinif\"] == \"6\":\n",
    "        return row[\"Basvuru Yili\"] - 24\n",
    "    elif row[\"Universite Kacinci Sinif\"] == \"YUKSEK LISANS\":\n",
    "        return row[\"Basvuru Yili\"] - 25\n",
    "    elif row[\"Universite Kacinci Sinif\"] == \"MEZUN\":\n",
    "        return row[\"Basvuru Yili\"] - 26\n",
    "    \n",
    "# 'Dogum_Tarihi' değerini sadece 'null' olanlarda güncelle\n",
    "train_df['Dogum_Tarihi'] = train_df.apply(\n",
    "    lambda row: dogumtarihi(row) if pd.isnull(row['Dogum_Tarihi']) else row['Dogum_Tarihi'], \n",
    "    axis=1\n",
    ")\n",
    "\n",
    "test_df['Dogum_Tarihi'] = test_df.apply(\n",
    "    lambda row: dogumtarihi(row) if pd.isnull(row['Dogum_Tarihi']) else row['Dogum_Tarihi'], \n",
    "    axis=1\n",
    ")\n",
    "\n",
    "train_df[\"Dogum_Tarihi\"] = train_df[\"Dogum_Tarihi\"].fillna(1970)\n",
    "\n",
    "train_df = train_df.astype({'Dogum_Tarihi': 'int'})\n",
    "test_df = test_df.astype({'Dogum_Tarihi': 'int'})"
   ]
  },
  {
   "cell_type": "code",
   "execution_count": 42,
   "id": "96d7b120",
   "metadata": {
    "execution": {
     "iopub.execute_input": "2024-09-16T14:19:25.376185Z",
     "iopub.status.busy": "2024-09-16T14:19:25.375820Z",
     "iopub.status.idle": "2024-09-16T14:19:26.595752Z",
     "shell.execute_reply": "2024-09-16T14:19:26.594903Z"
    },
    "papermill": {
     "duration": 1.24439,
     "end_time": "2024-09-16T14:19:26.598402",
     "exception": false,
     "start_time": "2024-09-16T14:19:25.354012",
     "status": "completed"
    },
    "tags": []
   },
   "outputs": [],
   "source": [
    "train_df.loc[train_df['Dogum_Tarihi'] > 2024, 'Dogum_Tarihi'] = train_df.apply(\n",
    "    lambda row: dogumtarihi(row) if row['Dogum_Tarihi'] > 2024 else row['Dogum_Tarihi'], \n",
    "    axis=1\n",
    ")\n",
    "\n",
    "test_df.loc[test_df['Dogum_Tarihi'] > 2024, 'Dogum_Tarihi'] = test_df.apply(\n",
    "    lambda row: dogumtarihi(row) if row['Dogum_Tarihi'] > 2024 else row['Dogum_Tarihi'], \n",
    "    axis=1\n",
    ")"
   ]
  },
  {
   "cell_type": "code",
   "execution_count": 43,
   "id": "26bb6e86",
   "metadata": {
    "execution": {
     "iopub.execute_input": "2024-09-16T14:19:26.642269Z",
     "iopub.status.busy": "2024-09-16T14:19:26.641906Z",
     "iopub.status.idle": "2024-09-16T14:19:27.857911Z",
     "shell.execute_reply": "2024-09-16T14:19:27.856929Z"
    },
    "papermill": {
     "duration": 1.240858,
     "end_time": "2024-09-16T14:19:27.860301",
     "exception": false,
     "start_time": "2024-09-16T14:19:26.619443",
     "status": "completed"
    },
    "tags": []
   },
   "outputs": [],
   "source": [
    "train_df.loc[train_df['Dogum_Tarihi'] < 1920, 'Dogum_Tarihi'] = train_df.apply(\n",
    "    lambda row: dogumtarihi(row) if row['Dogum_Tarihi'] < 1920 else row['Dogum_Tarihi'], \n",
    "    axis=1\n",
    ")\n",
    "\n",
    "test_df.loc[test_df['Dogum_Tarihi'] < 1920, 'Dogum_Tarihi'] = test_df.apply(\n",
    "    lambda row: dogumtarihi(row) if row['Dogum_Tarihi'] < 1920 else row['Dogum_Tarihi'], \n",
    "    axis=1\n",
    ")"
   ]
  },
  {
   "cell_type": "code",
   "execution_count": 44,
   "id": "96affede",
   "metadata": {
    "execution": {
     "iopub.execute_input": "2024-09-16T14:19:27.903560Z",
     "iopub.status.busy": "2024-09-16T14:19:27.903176Z",
     "iopub.status.idle": "2024-09-16T14:19:27.952774Z",
     "shell.execute_reply": "2024-09-16T14:19:27.951740Z"
    },
    "papermill": {
     "duration": 0.07363,
     "end_time": "2024-09-16T14:19:27.954944",
     "exception": false,
     "start_time": "2024-09-16T14:19:27.881314",
     "status": "completed"
    },
    "tags": []
   },
   "outputs": [],
   "source": [
    "train_df.drop(columns = [\"Basvuru Yili\", \"Dogum Tarihi\", \"Universite Adi\",\n",
    "                       \"Lise Adi\", \"Lise Bolumu\", \"Bölüm\", \"Baska Kurumdan Aldigi Burs Miktari\", \"Parasal_Burs\"], inplace=True)\n",
    "\n",
    "test_df.drop(columns = [\"Basvuru Yili\", \"Dogum Tarihi\", \"Universite Adi\",\n",
    "                       \"Lise Adi\", \"Lise Bolumu\", \"Bölüm\", \"Baska Kurumdan Aldigi Burs Miktari\", \"Parasal_Burs\"], inplace=True)"
   ]
  },
  {
   "cell_type": "code",
   "execution_count": 45,
   "id": "56b03ef0",
   "metadata": {
    "execution": {
     "iopub.execute_input": "2024-09-16T14:19:27.998696Z",
     "iopub.status.busy": "2024-09-16T14:19:27.997893Z",
     "iopub.status.idle": "2024-09-16T14:19:28.005193Z",
     "shell.execute_reply": "2024-09-16T14:19:28.004309Z"
    },
    "papermill": {
     "duration": 0.031205,
     "end_time": "2024-09-16T14:19:28.007220",
     "exception": false,
     "start_time": "2024-09-16T14:19:27.976015",
     "status": "completed"
    },
    "tags": []
   },
   "outputs": [],
   "source": [
    "train_df[\"Basvuru_Yasi\"] = (2024 - train_df[\"Yil_Once\"]) - train_df[\"Dogum_Tarihi\"]\n",
    "test_df[\"Basvuru_Yasi\"] = (2024 - test_df[\"Yil_Once\"]) - test_df[\"Dogum_Tarihi\"]"
   ]
  },
  {
   "cell_type": "code",
   "execution_count": 46,
   "id": "e95c66ed",
   "metadata": {
    "execution": {
     "iopub.execute_input": "2024-09-16T14:19:28.050268Z",
     "iopub.status.busy": "2024-09-16T14:19:28.049691Z",
     "iopub.status.idle": "2024-09-16T14:19:28.089502Z",
     "shell.execute_reply": "2024-09-16T14:19:28.088654Z"
    },
    "papermill": {
     "duration": 0.063736,
     "end_time": "2024-09-16T14:19:28.091732",
     "exception": false,
     "start_time": "2024-09-16T14:19:28.027996",
     "status": "completed"
    },
    "tags": []
   },
   "outputs": [],
   "source": [
    "train_df.drop(columns = [\"Dogum_Tarihi\"], inplace=True)\n",
    "test_df.drop(columns = [\"Dogum_Tarihi\"], inplace=True)"
   ]
  },
  {
   "cell_type": "code",
   "execution_count": 47,
   "id": "52e26b97",
   "metadata": {
    "execution": {
     "iopub.execute_input": "2024-09-16T14:19:28.135443Z",
     "iopub.status.busy": "2024-09-16T14:19:28.134765Z",
     "iopub.status.idle": "2024-09-16T14:19:28.251643Z",
     "shell.execute_reply": "2024-09-16T14:19:28.250731Z"
    },
    "papermill": {
     "duration": 0.141109,
     "end_time": "2024-09-16T14:19:28.254025",
     "exception": false,
     "start_time": "2024-09-16T14:19:28.112916",
     "status": "completed"
    },
    "tags": []
   },
   "outputs": [],
   "source": [
    "girisim = ['BILINMIYOR','HAYIR', 'EVET']\n",
    "spor = ['BILINMIYOR', 'HAYIR', 'EVET']\n",
    "stk = ['BILINMIYOR','HAYIR', 'EVET']\n",
    "den = ['BILINMIYOR','HAYIR', 'EVET']\n",
    "\n",
    "enc = OrdinalEncoder(categories=[girisim, spor, stk, den])\n",
    "columns_to_encode = [\"Girisimcilik Kulupleri Tarzi Bir Kulube Uye misiniz?\", \"Profesyonel Bir Spor Daliyla Mesgul musunuz?\", \n",
    "                     \"Aktif olarak bir STK üyesi misiniz?\", \"Girisimcilikle Ilgili Deneyiminiz Var Mi?\"]\n",
    "train_df[columns_to_encode] = enc.fit_transform(train_df[columns_to_encode])\n",
    "test_df[columns_to_encode] = enc.transform(test_df[columns_to_encode])"
   ]
  },
  {
   "cell_type": "code",
   "execution_count": 48,
   "id": "d1410109",
   "metadata": {
    "execution": {
     "iopub.execute_input": "2024-09-16T14:19:28.298505Z",
     "iopub.status.busy": "2024-09-16T14:19:28.297634Z",
     "iopub.status.idle": "2024-09-16T14:19:29.571168Z",
     "shell.execute_reply": "2024-09-16T14:19:29.570357Z"
    },
    "papermill": {
     "duration": 1.298013,
     "end_time": "2024-09-16T14:19:29.573513",
     "exception": false,
     "start_time": "2024-09-16T14:19:28.275500",
     "status": "completed"
    },
    "tags": []
   },
   "outputs": [],
   "source": [
    "cat_cols = [col for col in train_df.columns if train_df[col].dtypes =='O']\n",
    "\n",
    "def One_Hot_Encoding(train_df, test_df, col):\n",
    "    ohe = OneHotEncoder(handle_unknown='ignore', sparse_output=False)\n",
    "    train_encoded_cols = ohe.fit_transform(train_df[[col]])\n",
    "    test_encoded_cols = ohe.transform(test_df[[col]])\n",
    "    new_columns = ohe.get_feature_names_out([col])\n",
    "    train_df[new_columns] = train_encoded_cols\n",
    "    test_df[new_columns] = test_encoded_cols\n",
    "    return train_df, test_df\n",
    "\n",
    "for col in cat_cols:\n",
    "    train_df, test_df = One_Hot_Encoding(train_df, test_df, col)"
   ]
  },
  {
   "cell_type": "code",
   "execution_count": 49,
   "id": "e964adef",
   "metadata": {
    "execution": {
     "iopub.execute_input": "2024-09-16T14:19:29.618656Z",
     "iopub.status.busy": "2024-09-16T14:19:29.618296Z",
     "iopub.status.idle": "2024-09-16T14:19:29.839305Z",
     "shell.execute_reply": "2024-09-16T14:19:29.838509Z"
    },
    "papermill": {
     "duration": 0.246217,
     "end_time": "2024-09-16T14:19:29.841763",
     "exception": false,
     "start_time": "2024-09-16T14:19:29.595546",
     "status": "completed"
    },
    "tags": []
   },
   "outputs": [],
   "source": [
    "train_df.drop(columns = cat_cols, inplace=True)\n",
    "test_df.drop(columns = cat_cols, inplace=True)"
   ]
  },
  {
   "cell_type": "code",
   "execution_count": 50,
   "id": "d9b5a29e",
   "metadata": {
    "execution": {
     "iopub.execute_input": "2024-09-16T14:19:29.885651Z",
     "iopub.status.busy": "2024-09-16T14:19:29.885016Z",
     "iopub.status.idle": "2024-09-16T14:19:29.908567Z",
     "shell.execute_reply": "2024-09-16T14:19:29.907774Z"
    },
    "papermill": {
     "duration": 0.047901,
     "end_time": "2024-09-16T14:19:29.910830",
     "exception": false,
     "start_time": "2024-09-16T14:19:29.862929",
     "status": "completed"
    },
    "tags": []
   },
   "outputs": [],
   "source": [
    "cols = [\"Kardes Sayisi\", \"Girisimcilik Kulupleri Tarzi Bir Kulube Uye misiniz?\", \"Profesyonel Bir Spor Daliyla Mesgul musunuz?\",\n",
    "        \"Aktif olarak bir STK üyesi misiniz?\", \"Girisimcilikle Ilgili Deneyiminiz Var Mi?\", \"Yil_Once\", \"Sehir_Farkliligi\",\n",
    "        \"Basvuru_Yasi\", \"Guncel_Burs\"]\n",
    "scaler = StandardScaler()\n",
    "train_df[cols] = scaler.fit_transform(train_df[cols])\n",
    "test_df[cols] = scaler.transform(test_df[cols])"
   ]
  },
  {
   "cell_type": "code",
   "execution_count": 51,
   "id": "9b2d5e80",
   "metadata": {
    "execution": {
     "iopub.execute_input": "2024-09-16T14:19:29.954521Z",
     "iopub.status.busy": "2024-09-16T14:19:29.953934Z",
     "iopub.status.idle": "2024-09-16T14:19:29.959369Z",
     "shell.execute_reply": "2024-09-16T14:19:29.958537Z"
    },
    "papermill": {
     "duration": 0.02933,
     "end_time": "2024-09-16T14:19:29.961236",
     "exception": false,
     "start_time": "2024-09-16T14:19:29.931906",
     "status": "completed"
    },
    "tags": []
   },
   "outputs": [],
   "source": [
    "def split(df_train, df_test):\n",
    "    y = df_train[\"Degerlendirme Puani\"]\n",
    "    X = df_train.drop([\"id\", \"Degerlendirme Puani\"], axis=1)\n",
    "    X_train, X_val, y_train, y_val = train_test_split(X, y, test_size=0.30, random_state=42)\n",
    "\n",
    "    X_test = df_test.drop([\"id\"], axis=1)\n",
    "    \n",
    "    return X_train, X_val, y_train, y_val, X_test"
   ]
  },
  {
   "cell_type": "code",
   "execution_count": 52,
   "id": "a2fb34ec",
   "metadata": {
    "execution": {
     "iopub.execute_input": "2024-09-16T14:19:30.004398Z",
     "iopub.status.busy": "2024-09-16T14:19:30.003636Z",
     "iopub.status.idle": "2024-09-16T14:19:30.010147Z",
     "shell.execute_reply": "2024-09-16T14:19:30.009325Z"
    },
    "papermill": {
     "duration": 0.030102,
     "end_time": "2024-09-16T14:19:30.011950",
     "exception": false,
     "start_time": "2024-09-16T14:19:29.981848",
     "status": "completed"
    },
    "tags": []
   },
   "outputs": [],
   "source": [
    "def plot_feature_importance(model, X_train):\n",
    "    \n",
    "    importance = model.feature_importances_\n",
    "    features = X_train.columns\n",
    "    \n",
    "    indices = importance.argsort()[-20:]\n",
    "    plt.rcParams.update({'font.size': 5})\n",
    "\n",
    "    plt.figure(figsize=(10, 8))\n",
    "    plt.barh(range(len(indices)), importance[indices], align=\"center\")\n",
    "    plt.yticks(range(len(indices)), [features[i] for i in indices])\n",
    "    plt.xlabel(\"Özellik Önemi\")\n",
    "    plt.title(\"XGBoost Modeli Özellik Önemi\")\n",
    "    plt.show()"
   ]
  },
  {
   "cell_type": "code",
   "execution_count": 53,
   "id": "46449473",
   "metadata": {
    "execution": {
     "iopub.execute_input": "2024-09-16T14:19:30.056181Z",
     "iopub.status.busy": "2024-09-16T14:19:30.055472Z",
     "iopub.status.idle": "2024-09-16T14:19:30.063305Z",
     "shell.execute_reply": "2024-09-16T14:19:30.062433Z"
    },
    "papermill": {
     "duration": 0.032163,
     "end_time": "2024-09-16T14:19:30.065355",
     "exception": false,
     "start_time": "2024-09-16T14:19:30.033192",
     "status": "completed"
    },
    "tags": []
   },
   "outputs": [
    {
     "data": {
      "text/plain": [
       "\"\\ndef objective(trial, X_train, y_train, X_val, y_val):\\n \\n   params = {\\n       'iterations': trial.suggest_int('iterations', 500, 2000),\\n       'max_depth': trial.suggest_int('max_depth', 6, 10),\\n       'learning_rate': trial.suggest_categorical('learning_rate', [0.005, 0.02, 0.05, 0.08, 0.1]),\\n       'n_estimators': trial.suggest_int('n_estimators', 2000, 8000),\\n       'max_bin': trial.suggest_int('max_bin', 200, 400),\\n       'bagging_temperature': trial.suggest_float('bagging_temperature', 0, 1),\\n       'min_data_in_leaf': trial.suggest_int('min_data_in_leaf', 1, 300),\\n       'border_count': trial.suggest_int('border_count', 32, 64),\\n       'l2_leaf_reg': trial.suggest_float('l2_leaf_reg', 0.0001, 1.0, log = True),\\n       'bootstrap_type': 'Bernoulli',\\n       'random_seed': 42,\\n       'loss_function': 'RMSE',\\n       'verbose': 0,\\n       'task_type': 'GPU'\\n   }\\n\\n   params = {\\n       'iterations': trial.suggest_int('iterations', 500, 2000),\\n       'learning_rate': trial.suggest_categorical('learning_rate', [0.01, 0.05, 0.1]),\\n       'depth': trial.suggest_int('depth', 6, 10),\\n       'l2_leaf_reg': trial.suggest_int('l2_leaf_reg', 1, 10),\\n       'border_count': trial.suggest_int('border_count', 32, 64),\\n       'bagging_temperature': trial.suggest_float('bagging_temperature', 0, 1),\\n       'task_type': 'GPU',\\n       'loss_function': 'RMSE',\\n       'gpu_ram_part': 0.65,\\n       'verbose': 0\\n   }\\n   \\n   \\n   model = CatBoostRegressor(**params)\\n   model.fit(X_train, y_train, verbose=False)\\n   \\n   preds = model.predict(X_val)\\n   rms = mean_squared_error(y_val, preds, squared=False)\\n   \\n   return rms\\n   \\n   \""
      ]
     },
     "execution_count": 53,
     "metadata": {},
     "output_type": "execute_result"
    }
   ],
   "source": [
    " \"\"\"\n",
    "def objective(trial, X_train, y_train, X_val, y_val):\n",
    "  \n",
    "    params = {\n",
    "        'iterations': trial.suggest_int('iterations', 500, 2000),\n",
    "        'max_depth': trial.suggest_int('max_depth', 6, 10),\n",
    "        'learning_rate': trial.suggest_categorical('learning_rate', [0.005, 0.02, 0.05, 0.08, 0.1]),\n",
    "        'n_estimators': trial.suggest_int('n_estimators', 2000, 8000),\n",
    "        'max_bin': trial.suggest_int('max_bin', 200, 400),\n",
    "        'bagging_temperature': trial.suggest_float('bagging_temperature', 0, 1),\n",
    "        'min_data_in_leaf': trial.suggest_int('min_data_in_leaf', 1, 300),\n",
    "        'border_count': trial.suggest_int('border_count', 32, 64),\n",
    "        'l2_leaf_reg': trial.suggest_float('l2_leaf_reg', 0.0001, 1.0, log = True),\n",
    "        'bootstrap_type': 'Bernoulli',\n",
    "        'random_seed': 42,\n",
    "        'loss_function': 'RMSE',\n",
    "        'verbose': 0,\n",
    "        'task_type': 'GPU'\n",
    "    }\n",
    "\n",
    "    params = {\n",
    "        'iterations': trial.suggest_int('iterations', 500, 2000),\n",
    "        'learning_rate': trial.suggest_categorical('learning_rate', [0.01, 0.05, 0.1]),\n",
    "        'depth': trial.suggest_int('depth', 6, 10),\n",
    "        'l2_leaf_reg': trial.suggest_int('l2_leaf_reg', 1, 10),\n",
    "        'border_count': trial.suggest_int('border_count', 32, 64),\n",
    "        'bagging_temperature': trial.suggest_float('bagging_temperature', 0, 1),\n",
    "        'task_type': 'GPU',\n",
    "        'loss_function': 'RMSE',\n",
    "        'gpu_ram_part': 0.65,\n",
    "        'verbose': 0\n",
    "    }\n",
    "    \n",
    "    \n",
    "    model = CatBoostRegressor(**params)\n",
    "    model.fit(X_train, y_train, verbose=False)\n",
    "    \n",
    "    preds = model.predict(X_val)\n",
    "    rms = mean_squared_error(y_val, preds, squared=False)\n",
    "    \n",
    "    return rms\n",
    "    \n",
    "    \"\"\""
   ]
  },
  {
   "cell_type": "code",
   "execution_count": 54,
   "id": "8d8e6e37",
   "metadata": {
    "execution": {
     "iopub.execute_input": "2024-09-16T14:19:30.109534Z",
     "iopub.status.busy": "2024-09-16T14:19:30.109199Z",
     "iopub.status.idle": "2024-09-16T14:19:30.116028Z",
     "shell.execute_reply": "2024-09-16T14:19:30.115150Z"
    },
    "papermill": {
     "duration": 0.031585,
     "end_time": "2024-09-16T14:19:30.117886",
     "exception": false,
     "start_time": "2024-09-16T14:19:30.086301",
     "status": "completed"
    },
    "tags": []
   },
   "outputs": [
    {
     "data": {
      "text/plain": [
       "'\\ndef modelcatboostoptuna(X_train, X_val, y_train, y_val, X_test):\\n    # Optuna çalışma alanını oluştur\\n    study = optuna.create_study(direction=\\'minimize\\')\\n    study.optimize(lambda trial: objective(trial, X_train, y_train, X_val, y_val), n_trials=75)\\n    \\n    print(f\\'Best parameters: {study.best_params}\\')\\n    print(f\\'Best RMSE: {study.best_value}\\')\\n    \\n    # En iyi parametrelerle model oluştur ve eğit\\n    best_params = study.best_params\\n    catboost_final = CatBoostRegressor(**best_params)\\n    catboost_final.fit(X_train, y_train)\\n    \\n    # Modelin performansını çapraz doğrulama ile değerlendir\\n    cv_results = cross_validate(catboost_final, X_train, y_train, cv=5, scoring=\"neg_root_mean_squared_error\")\\n    print(f\"Cross-validated RMSE: {-cv_results[\\'test_score\\'].mean()}\")\\n    \\n    # Test setinde tahmin yap\\n    predictions = catboost_final.predict(X_test)\\n    \\n    # Özelliklerin önem derecelerini çiz\\n    plot_feature_importance(catboost_final, X_train)\\n    \\n    return predictions\\n'"
      ]
     },
     "execution_count": 54,
     "metadata": {},
     "output_type": "execute_result"
    }
   ],
   "source": [
    "\"\"\"\n",
    "def modelcatboostoptuna(X_train, X_val, y_train, y_val, X_test):\n",
    "    # Optuna çalışma alanını oluştur\n",
    "    study = optuna.create_study(direction='minimize')\n",
    "    study.optimize(lambda trial: objective(trial, X_train, y_train, X_val, y_val), n_trials=75)\n",
    "    \n",
    "    print(f'Best parameters: {study.best_params}')\n",
    "    print(f'Best RMSE: {study.best_value}')\n",
    "    \n",
    "    # En iyi parametrelerle model oluştur ve eğit\n",
    "    best_params = study.best_params\n",
    "    catboost_final = CatBoostRegressor(**best_params)\n",
    "    catboost_final.fit(X_train, y_train)\n",
    "    \n",
    "    # Modelin performansını çapraz doğrulama ile değerlendir\n",
    "    cv_results = cross_validate(catboost_final, X_train, y_train, cv=5, scoring=\"neg_root_mean_squared_error\")\n",
    "    print(f\"Cross-validated RMSE: {-cv_results['test_score'].mean()}\")\n",
    "    \n",
    "    # Test setinde tahmin yap\n",
    "    predictions = catboost_final.predict(X_test)\n",
    "    \n",
    "    # Özelliklerin önem derecelerini çiz\n",
    "    plot_feature_importance(catboost_final, X_train)\n",
    "    \n",
    "    return predictions\n",
    "\"\"\""
   ]
  },
  {
   "cell_type": "code",
   "execution_count": 55,
   "id": "35255c43",
   "metadata": {
    "execution": {
     "iopub.execute_input": "2024-09-16T14:19:30.162440Z",
     "iopub.status.busy": "2024-09-16T14:19:30.161605Z",
     "iopub.status.idle": "2024-09-16T14:19:30.167808Z",
     "shell.execute_reply": "2024-09-16T14:19:30.166880Z"
    },
    "papermill": {
     "duration": 0.030985,
     "end_time": "2024-09-16T14:19:30.169909",
     "exception": false,
     "start_time": "2024-09-16T14:19:30.138924",
     "status": "completed"
    },
    "tags": []
   },
   "outputs": [],
   "source": [
    "def modelcatboost(X_train, X_val, y_train, y_val, X_test):\n",
    "    \n",
    "    catboost_best_params = {\n",
    "    \"iterations\": 1324,\n",
    "    \"learning_rate\": 0.05,\n",
    "    \"depth\": 8,\n",
    "    \"l2_leaf_reg\": 10,\n",
    "    \"border_count\": 46,\n",
    "    \"bagging_temperature\": 0.5725636522863763\n",
    "    }\n",
    "\n",
    "    catboost_final = CatBoostRegressor(verbose=0,\n",
    "                                       **catboost_best_params,\n",
    "                                      gpu_ram_part=0.65).fit(X_train, y_train)\n",
    "    \n",
    "    predictions = catboost_final.predict(X_test)\n",
    "    \n",
    "    plot_feature_importance(catboost_final, X_train)\n",
    "    \n",
    "    return predictions"
   ]
  },
  {
   "cell_type": "code",
   "execution_count": 56,
   "id": "6258fbe0",
   "metadata": {
    "execution": {
     "iopub.execute_input": "2024-09-16T14:19:30.214349Z",
     "iopub.status.busy": "2024-09-16T14:19:30.213454Z",
     "iopub.status.idle": "2024-09-16T14:19:43.899422Z",
     "shell.execute_reply": "2024-09-16T14:19:43.898528Z"
    },
    "papermill": {
     "duration": 13.710863,
     "end_time": "2024-09-16T14:19:43.901987",
     "exception": false,
     "start_time": "2024-09-16T14:19:30.191124",
     "status": "completed"
    },
    "tags": []
   },
   "outputs": [
    {
     "data": {
      "image/png": "[encoded data removed]",
      "text/plain": [
       "<Figure size 1000x800 with 1 Axes>"
      ]
     },
     "metadata": {},
     "output_type": "display_data"
    }
   ],
   "source": [
    "X_train, X_val, y_train, y_val, X_test = split(train_df, test_df)\n",
    "predictions_catboost = modelcatboost(X_train, X_val, y_train, y_val, X_test)"
   ]
  },
  {
   "cell_type": "code",
   "execution_count": 57,
   "id": "625976ce",
   "metadata": {
    "execution": {
     "iopub.execute_input": "2024-09-16T14:19:43.947356Z",
     "iopub.status.busy": "2024-09-16T14:19:43.946422Z",
     "iopub.status.idle": "2024-09-16T14:19:44.091114Z",
     "shell.execute_reply": "2024-09-16T14:19:44.090284Z"
    },
    "papermill": {
     "duration": 0.169545,
     "end_time": "2024-09-16T14:19:44.093321",
     "exception": false,
     "start_time": "2024-09-16T14:19:43.923776",
     "status": "completed"
    },
    "tags": []
   },
   "outputs": [],
   "source": [
    "test_id = pd.read_csv(\"/kaggle/input/datathon-2024/test_x.csv\",encoding='utf-8',low_memory=False)\n",
    "test_id[\"id\"].shape\n",
    "submission_df = pd.DataFrame({\n",
    "    \"id\": test_id[\"id\"],\n",
    "    \"Degerlendirme Puani\": predictions_catboost\n",
    "})\n",
    "\n",
    "\n",
    "submission_df.to_csv('/kaggle/working/catboost_submission.csv', index=False)"
   ]
  },
  {
   "cell_type": "markdown",
   "id": "054898a6",
   "metadata": {
    "papermill": {
     "duration": 0.021407,
     "end_time": "2024-09-16T14:19:44.136924",
     "exception": false,
     "start_time": "2024-09-16T14:19:44.115517",
     "status": "completed"
    },
    "tags": []
   },
   "source": [
    "***Private Score=*6.14**"
   ]
  }
 ],
 "metadata": {
  "kaggle": {
   "accelerator": "gpu",
   "dataSources": [
    {
     "databundleVersionId": 9495861,
     "sourceId": 84622,
     "sourceType": "competition"
    },
    {
     "datasetId": 5676029,
     "sourceId": 9361303,
     "sourceType": "datasetVersion"
    }
   ],
   "dockerImageVersionId": 30761,
   "isGpuEnabled": true,
   "isInternetEnabled": true,
   "language": "python",
   "sourceType": "notebook"
  },
  "kernelspec": {
   "display_name": "Python 3",
   "language": "python",
   "name": "python3"
  },
  "language_info": {
   "codemirror_mode": {
    "name": "ipython",
    "version": 3
   },
   "file_extension": ".py",
   "mimetype": "text/x-python",
   "name": "python",
   "nbconvert_exporter": "python",
   "pygments_lexer": "ipython3",
   "version": "3.10.14"
  },
  "papermill": {
   "default_parameters": {},
   "duration": 343.728641,
   "end_time": "2024-09-16T14:19:44.779388",
   "environment_variables": {},
   "exception": null,
   "input_path": "__notebook__.ipynb",
   "output_path": "__notebook__.ipynb",
   "parameters": {},
   "start_time": "2024-09-16T14:14:01.050747",
   "version": "2.6.0"
  }
 },
 "nbformat": 4,
 "nbformat_minor": 5
}
